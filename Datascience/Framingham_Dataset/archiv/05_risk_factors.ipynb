{
 "cells": [
  {
   "cell_type": "code",
   "execution_count": 2,
   "metadata": {},
   "outputs": [
    {
     "data": {
      "text/html": [
       "<div>\n",
       "<style scoped>\n",
       "    .dataframe tbody tr th:only-of-type {\n",
       "        vertical-align: middle;\n",
       "    }\n",
       "\n",
       "    .dataframe tbody tr th {\n",
       "        vertical-align: top;\n",
       "    }\n",
       "\n",
       "    .dataframe thead th {\n",
       "        text-align: right;\n",
       "    }\n",
       "</style>\n",
       "<table border=\"1\" class=\"dataframe\">\n",
       "  <thead>\n",
       "    <tr style=\"text-align: right;\">\n",
       "      <th></th>\n",
       "      <th>Unnamed: 0</th>\n",
       "      <th>0</th>\n",
       "    </tr>\n",
       "  </thead>\n",
       "  <tbody>\n",
       "    <tr>\n",
       "      <th>0</th>\n",
       "      <td>age</td>\n",
       "      <td>0.073850</td>\n",
       "    </tr>\n",
       "    <tr>\n",
       "      <th>1</th>\n",
       "      <td>gender</td>\n",
       "      <td>0.000443</td>\n",
       "    </tr>\n",
       "    <tr>\n",
       "      <th>2</th>\n",
       "      <td>height</td>\n",
       "      <td>0.003151</td>\n",
       "    </tr>\n",
       "    <tr>\n",
       "      <th>3</th>\n",
       "      <td>weight</td>\n",
       "      <td>0.063317</td>\n",
       "    </tr>\n",
       "    <tr>\n",
       "      <th>4</th>\n",
       "      <td>ap_hi</td>\n",
       "      <td>0.481289</td>\n",
       "    </tr>\n",
       "    <tr>\n",
       "      <th>5</th>\n",
       "      <td>ap_lo</td>\n",
       "      <td>0.240015</td>\n",
       "    </tr>\n",
       "    <tr>\n",
       "      <th>6</th>\n",
       "      <td>smoke</td>\n",
       "      <td>0.001140</td>\n",
       "    </tr>\n",
       "    <tr>\n",
       "      <th>7</th>\n",
       "      <td>alco</td>\n",
       "      <td>0.000304</td>\n",
       "    </tr>\n",
       "    <tr>\n",
       "      <th>8</th>\n",
       "      <td>active</td>\n",
       "      <td>0.002631</td>\n",
       "    </tr>\n",
       "    <tr>\n",
       "      <th>9</th>\n",
       "      <td>polychlorinated_biphenyls</td>\n",
       "      <td>0.000246</td>\n",
       "    </tr>\n",
       "    <tr>\n",
       "      <th>10</th>\n",
       "      <td>bisphenol_a</td>\n",
       "      <td>0.000192</td>\n",
       "    </tr>\n",
       "    <tr>\n",
       "      <th>11</th>\n",
       "      <td>organochlorine_pesticide</td>\n",
       "      <td>0.000104</td>\n",
       "    </tr>\n",
       "    <tr>\n",
       "      <th>12</th>\n",
       "      <td>phthalate</td>\n",
       "      <td>0.000116</td>\n",
       "    </tr>\n",
       "    <tr>\n",
       "      <th>13</th>\n",
       "      <td>cholesterol_1</td>\n",
       "      <td>0.056335</td>\n",
       "    </tr>\n",
       "    <tr>\n",
       "      <th>14</th>\n",
       "      <td>cholesterol_2</td>\n",
       "      <td>0.010685</td>\n",
       "    </tr>\n",
       "    <tr>\n",
       "      <th>15</th>\n",
       "      <td>cholesterol_3</td>\n",
       "      <td>0.051514</td>\n",
       "    </tr>\n",
       "    <tr>\n",
       "      <th>16</th>\n",
       "      <td>gluc_1</td>\n",
       "      <td>0.006568</td>\n",
       "    </tr>\n",
       "    <tr>\n",
       "      <th>17</th>\n",
       "      <td>gluc_2</td>\n",
       "      <td>0.002049</td>\n",
       "    </tr>\n",
       "  </tbody>\n",
       "</table>\n",
       "</div>"
      ],
      "text/plain": [
       "                   Unnamed: 0         0\n",
       "0                         age  0.073850\n",
       "1                      gender  0.000443\n",
       "2                      height  0.003151\n",
       "3                      weight  0.063317\n",
       "4                       ap_hi  0.481289\n",
       "5                       ap_lo  0.240015\n",
       "6                       smoke  0.001140\n",
       "7                        alco  0.000304\n",
       "8                      active  0.002631\n",
       "9   polychlorinated_biphenyls  0.000246\n",
       "10                bisphenol_a  0.000192\n",
       "11   organochlorine_pesticide  0.000104\n",
       "12                  phthalate  0.000116\n",
       "13              cholesterol_1  0.056335\n",
       "14              cholesterol_2  0.010685\n",
       "15              cholesterol_3  0.051514\n",
       "16                     gluc_1  0.006568\n",
       "17                     gluc_2  0.002049"
      ]
     },
     "execution_count": 2,
     "metadata": {},
     "output_type": "execute_result"
    }
   ],
   "source": [
    "import numpy as np\n",
    "import pandas as pd\n",
    "\n",
    "feature_importance = pd.read_csv(\"feature_importances.csv\")\n",
    "feature_importance.head(18)"
   ]
  },
  {
   "cell_type": "code",
   "execution_count": 3,
   "metadata": {},
   "outputs": [
    {
     "data": {
      "text/plain": [
       "0     0.073850\n",
       "1     0.000443\n",
       "2     0.003151\n",
       "3     0.063317\n",
       "4     0.481289\n",
       "5     0.240015\n",
       "6     0.001140\n",
       "7     0.000304\n",
       "8     0.002631\n",
       "9     0.000246\n",
       "10    0.000192\n",
       "11    0.000104\n",
       "12    0.000116\n",
       "13    0.056335\n",
       "14    0.010685\n",
       "15    0.051514\n",
       "16    0.006568\n",
       "17    0.002049\n",
       "18    0.006051\n",
       "Name: 0, dtype: float64"
      ]
     },
     "execution_count": 3,
     "metadata": {},
     "output_type": "execute_result"
    }
   ],
   "source": [
    "importance = feature_importance[\"0\"]\n",
    "importance"
   ]
  },
  {
   "cell_type": "code",
   "execution_count": 4,
   "metadata": {},
   "outputs": [
    {
     "data": {
      "text/plain": [
       "0     0.073850\n",
       "1     0.000443\n",
       "2     0.003151\n",
       "3     0.063317\n",
       "4     0.481289\n",
       "5     0.240015\n",
       "6     0.001140\n",
       "7     0.000304\n",
       "8     0.002631\n",
       "9     0.000246\n",
       "10    0.000192\n",
       "11    0.000104\n",
       "12    0.000116\n",
       "13    0.056335\n",
       "14    0.010685\n",
       "15    0.051514\n",
       "16    0.006568\n",
       "17    0.002049\n",
       "18    0.006051\n",
       "Name: 0, dtype: float64"
      ]
     },
     "execution_count": 4,
     "metadata": {},
     "output_type": "execute_result"
    }
   ],
   "source": [
    "# choose only the importance values\n",
    "importance = feature_importance[\"0\"]\n",
    "\n",
    "# scale the importance from 0-1\n",
    "normalized_importance = importance / importance.sum()\n",
    "\n",
    "normalized_importance"
   ]
  },
  {
   "cell_type": "code",
   "execution_count": 5,
   "metadata": {},
   "outputs": [
    {
     "data": {
      "text/plain": [
       "0     5.453759e-03\n",
       "1     1.961676e-07\n",
       "2     9.931363e-06\n",
       "3     4.009062e-03\n",
       "4     2.316387e-01\n",
       "5     5.760726e-02\n",
       "6     1.299748e-06\n",
       "7     9.247946e-08\n",
       "8     6.922630e-06\n",
       "9     6.027268e-08\n",
       "10    3.704848e-08\n",
       "11    1.082032e-08\n",
       "12    1.351387e-08\n",
       "13    3.173649e-03\n",
       "14    1.141641e-04\n",
       "15    2.653672e-03\n",
       "16    4.313217e-05\n",
       "17    4.200024e-06\n",
       "18    3.661613e-05\n",
       "Name: 0, dtype: float64"
      ]
     },
     "execution_count": 5,
     "metadata": {},
     "output_type": "execute_result"
    }
   ],
   "source": [
    "# apply a weight for a feature based on its own importance\n",
    "weighted_features = normalized_importance * feature_importance[\"0\"]\n",
    "weighted_features"
   ]
  },
  {
   "cell_type": "code",
   "execution_count": 6,
   "metadata": {},
   "outputs": [
    {
     "data": {
      "text/plain": [
       "0.30475276854948075"
      ]
     },
     "execution_count": 6,
     "metadata": {},
     "output_type": "execute_result"
    }
   ],
   "source": [
    "# composite risk:\n",
    "risk_score = weighted_features.sum()\n",
    "risk_score"
   ]
  },
  {
   "cell_type": "code",
   "execution_count": 7,
   "metadata": {},
   "outputs": [
    {
     "data": {
      "text/plain": [
       "0.30475276854948075"
      ]
     },
     "execution_count": 7,
     "metadata": {},
     "output_type": "execute_result"
    }
   ],
   "source": [
    "risk_score.min()"
   ]
  },
  {
   "cell_type": "code",
   "execution_count": 10,
   "metadata": {},
   "outputs": [
    {
     "data": {
      "text/plain": [
       "0.30475276854948075"
      ]
     },
     "execution_count": 10,
     "metadata": {},
     "output_type": "execute_result"
    }
   ],
   "source": [
    "risk_score.max()"
   ]
  },
  {
   "cell_type": "code",
   "execution_count": 11,
   "metadata": {},
   "outputs": [
    {
     "data": {
      "text/plain": [
       "1.0820320834759901e-08"
      ]
     },
     "execution_count": 11,
     "metadata": {},
     "output_type": "execute_result"
    }
   ],
   "source": [
    "weighted_features.min()"
   ]
  },
  {
   "cell_type": "code",
   "execution_count": 12,
   "metadata": {},
   "outputs": [
    {
     "data": {
      "text/plain": [
       "0.23163868584773023"
      ]
     },
     "execution_count": 12,
     "metadata": {},
     "output_type": "execute_result"
    }
   ],
   "source": [
    "weighted_features.max()"
   ]
  },
  {
   "cell_type": "code",
   "execution_count": null,
   "metadata": {},
   "outputs": [
    {
     "name": "stdout",
     "output_type": "stream",
     "text": [
      "131.56384947077558\n"
     ]
    }
   ],
   "source": [
    "# scale the risk score to 0-100\n",
    "scaled_risk_score = (risk_score - weighted_features.min()) / (weighted_features.max()-weighted_features.min()) * 100\n",
    "print(scaled_risk_score)\n",
    "\n",
    "# this has to be adjusted"
   ]
  },
  {
   "cell_type": "code",
   "execution_count": null,
   "metadata": {},
   "outputs": [],
   "source": [
    "# contributions of each feature:\n",
    "contributions = feature_importance * normalized_importance\n",
    "contributions"
   ]
  }
 ],
 "metadata": {
  "kernelspec": {
   "display_name": "Data Science",
   "language": "python",
   "name": "python3"
  },
  "language_info": {
   "codemirror_mode": {
    "name": "ipython",
    "version": 3
   },
   "file_extension": ".py",
   "mimetype": "text/x-python",
   "name": "python",
   "nbconvert_exporter": "python",
   "pygments_lexer": "ipython3",
   "version": "3.12.7"
  }
 },
 "nbformat": 4,
 "nbformat_minor": 2
}
