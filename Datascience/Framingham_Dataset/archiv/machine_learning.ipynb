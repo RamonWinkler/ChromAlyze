{
 "cells": [
  {
   "cell_type": "code",
   "execution_count": 77,
   "metadata": {
    "colab": {
     "base_uri": "https://localhost:8080/",
     "height": 226
    },
    "id": "wvKOnkarn__5",
    "outputId": "96ff5f42-6d52-4170-ae60-29f04a0c1c4c"
   },
   "outputs": [
    {
     "data": {
      "text/html": [
       "<div>\n",
       "<style scoped>\n",
       "    .dataframe tbody tr th:only-of-type {\n",
       "        vertical-align: middle;\n",
       "    }\n",
       "\n",
       "    .dataframe tbody tr th {\n",
       "        vertical-align: top;\n",
       "    }\n",
       "\n",
       "    .dataframe thead th {\n",
       "        text-align: right;\n",
       "    }\n",
       "</style>\n",
       "<table border=\"1\" class=\"dataframe\">\n",
       "  <thead>\n",
       "    <tr style=\"text-align: right;\">\n",
       "      <th></th>\n",
       "      <th>male</th>\n",
       "      <th>age</th>\n",
       "      <th>currentSmoker</th>\n",
       "      <th>cigsPerDay</th>\n",
       "      <th>BPMeds</th>\n",
       "      <th>prevalentStroke</th>\n",
       "      <th>prevalentHyp</th>\n",
       "      <th>diabetes</th>\n",
       "      <th>totChol</th>\n",
       "      <th>sysBP</th>\n",
       "      <th>diaBP</th>\n",
       "      <th>BMI</th>\n",
       "      <th>heartRate</th>\n",
       "      <th>glucose</th>\n",
       "      <th>education_1.0</th>\n",
       "      <th>education_2.0</th>\n",
       "      <th>education_3.0</th>\n",
       "      <th>education_4.0</th>\n",
       "      <th>TenYearCHD</th>\n",
       "    </tr>\n",
       "  </thead>\n",
       "  <tbody>\n",
       "    <tr>\n",
       "      <th>0</th>\n",
       "      <td>1</td>\n",
       "      <td>39</td>\n",
       "      <td>0</td>\n",
       "      <td>0.0</td>\n",
       "      <td>0.0</td>\n",
       "      <td>0</td>\n",
       "      <td>0</td>\n",
       "      <td>0</td>\n",
       "      <td>195.0</td>\n",
       "      <td>106.0</td>\n",
       "      <td>70.0</td>\n",
       "      <td>27.0</td>\n",
       "      <td>80.0</td>\n",
       "      <td>77.0</td>\n",
       "      <td>0</td>\n",
       "      <td>0</td>\n",
       "      <td>0</td>\n",
       "      <td>1</td>\n",
       "      <td>0</td>\n",
       "    </tr>\n",
       "    <tr>\n",
       "      <th>1</th>\n",
       "      <td>0</td>\n",
       "      <td>46</td>\n",
       "      <td>0</td>\n",
       "      <td>0.0</td>\n",
       "      <td>0.0</td>\n",
       "      <td>0</td>\n",
       "      <td>0</td>\n",
       "      <td>0</td>\n",
       "      <td>250.0</td>\n",
       "      <td>121.0</td>\n",
       "      <td>81.0</td>\n",
       "      <td>29.0</td>\n",
       "      <td>95.0</td>\n",
       "      <td>76.0</td>\n",
       "      <td>0</td>\n",
       "      <td>1</td>\n",
       "      <td>0</td>\n",
       "      <td>0</td>\n",
       "      <td>0</td>\n",
       "    </tr>\n",
       "    <tr>\n",
       "      <th>2</th>\n",
       "      <td>1</td>\n",
       "      <td>48</td>\n",
       "      <td>1</td>\n",
       "      <td>20.0</td>\n",
       "      <td>0.0</td>\n",
       "      <td>0</td>\n",
       "      <td>0</td>\n",
       "      <td>0</td>\n",
       "      <td>245.0</td>\n",
       "      <td>127.5</td>\n",
       "      <td>80.0</td>\n",
       "      <td>25.0</td>\n",
       "      <td>75.0</td>\n",
       "      <td>70.0</td>\n",
       "      <td>1</td>\n",
       "      <td>0</td>\n",
       "      <td>0</td>\n",
       "      <td>0</td>\n",
       "      <td>0</td>\n",
       "    </tr>\n",
       "    <tr>\n",
       "      <th>3</th>\n",
       "      <td>0</td>\n",
       "      <td>61</td>\n",
       "      <td>1</td>\n",
       "      <td>30.0</td>\n",
       "      <td>0.0</td>\n",
       "      <td>0</td>\n",
       "      <td>1</td>\n",
       "      <td>0</td>\n",
       "      <td>225.0</td>\n",
       "      <td>150.0</td>\n",
       "      <td>95.0</td>\n",
       "      <td>29.0</td>\n",
       "      <td>65.0</td>\n",
       "      <td>103.0</td>\n",
       "      <td>0</td>\n",
       "      <td>0</td>\n",
       "      <td>1</td>\n",
       "      <td>0</td>\n",
       "      <td>1</td>\n",
       "    </tr>\n",
       "    <tr>\n",
       "      <th>4</th>\n",
       "      <td>0</td>\n",
       "      <td>46</td>\n",
       "      <td>1</td>\n",
       "      <td>23.0</td>\n",
       "      <td>0.0</td>\n",
       "      <td>0</td>\n",
       "      <td>0</td>\n",
       "      <td>0</td>\n",
       "      <td>285.0</td>\n",
       "      <td>130.0</td>\n",
       "      <td>84.0</td>\n",
       "      <td>23.0</td>\n",
       "      <td>85.0</td>\n",
       "      <td>85.0</td>\n",
       "      <td>0</td>\n",
       "      <td>0</td>\n",
       "      <td>1</td>\n",
       "      <td>0</td>\n",
       "      <td>0</td>\n",
       "    </tr>\n",
       "  </tbody>\n",
       "</table>\n",
       "</div>"
      ],
      "text/plain": [
       "   male  age  currentSmoker  cigsPerDay  BPMeds  prevalentStroke  \\\n",
       "0     1   39              0         0.0     0.0                0   \n",
       "1     0   46              0         0.0     0.0                0   \n",
       "2     1   48              1        20.0     0.0                0   \n",
       "3     0   61              1        30.0     0.0                0   \n",
       "4     0   46              1        23.0     0.0                0   \n",
       "\n",
       "   prevalentHyp  diabetes  totChol  sysBP  diaBP   BMI  heartRate  glucose  \\\n",
       "0             0         0    195.0  106.0   70.0  27.0       80.0     77.0   \n",
       "1             0         0    250.0  121.0   81.0  29.0       95.0     76.0   \n",
       "2             0         0    245.0  127.5   80.0  25.0       75.0     70.0   \n",
       "3             1         0    225.0  150.0   95.0  29.0       65.0    103.0   \n",
       "4             0         0    285.0  130.0   84.0  23.0       85.0     85.0   \n",
       "\n",
       "   education_1.0  education_2.0  education_3.0  education_4.0  TenYearCHD  \n",
       "0              0              0              0              1           0  \n",
       "1              0              1              0              0           0  \n",
       "2              1              0              0              0           0  \n",
       "3              0              0              1              0           1  \n",
       "4              0              0              1              0           0  "
      ]
     },
     "execution_count": 77,
     "metadata": {},
     "output_type": "execute_result"
    }
   ],
   "source": [
    "import pandas as pd\n",
    "import numpy as np\n",
    "\n",
    "df = pd.read_csv(\"01_framingham_clean.csv\")\n",
    "df.head()"
   ]
  },
  {
   "cell_type": "code",
   "execution_count": 78,
   "metadata": {
    "id": "i6B8yUgBn__7"
   },
   "outputs": [],
   "source": [
    "# train test val split\n",
    "from sklearn.model_selection import train_test_split\n",
    "\n",
    "X = df.drop(columns=[\"TenYearCHD\"])\n",
    "y = df[\"TenYearCHD\"]\n",
    "\n",
    "X_train, X_test, y_train, y_test = train_test_split(X, y, test_size=0.2, random_state=42)\n",
    "\n",
    "from sklearn.preprocessing import StandardScaler\n",
    "\n",
    "# Initialize the scaler\n",
    "scaler = StandardScaler()\n",
    "\n",
    "# Fit on the training data and transform it\n",
    "X_train = scaler.fit_transform(X_train)\n",
    "\n",
    "# Use the same scaler to transform the test data\n",
    "X_test = scaler.transform(X_test)"
   ]
  },
  {
   "cell_type": "code",
   "execution_count": null,
   "metadata": {
    "id": "VVnoXnzBn__8"
   },
   "outputs": [],
   "source": [
    "# Apply undersampling to balance the classes in the training set\n",
    "from imblearn.under_sampling import RandomUnderSampler\n",
    "undersample = RandomUnderSampler(sampling_strategy=1)  # 1: equal balance between the classes\n",
    "X_under, y_under = undersample.fit_resample(X_train, y_train)\n",
    "\n",
    "X_train = X_under\n",
    "y_train = y_under"
   ]
  },
  {
   "cell_type": "markdown",
   "metadata": {
    "id": "KZ6zFv48n__9"
   },
   "source": [
    "# Generalized Functions for Machine Learning and Model Optimization"
   ]
  },
  {
   "cell_type": "markdown",
   "metadata": {
    "id": "BpONl0cLn__-"
   },
   "source": [
    "## Import Libraries"
   ]
  },
  {
   "cell_type": "code",
   "execution_count": null,
   "metadata": {
    "id": "xuMgeBn0n__-"
   },
   "outputs": [],
   "source": [
    "# import all necessary models\n",
    "from sklearn.linear_model import LogisticRegression\n",
    "from sklearn.ensemble import RandomForestClassifier\n",
    "from sklearn.svm import SVC\n",
    "from sklearn.tree import DecisionTreeClassifier\n",
    "from sklearn.neighbors import KNeighborsClassifier\n",
    "from sklearn.naive_bayes import GaussianNB\n",
    "from sklearn.neural_network import MLPClassifier\n",
    "from xgboost import XGBClassifier\n",
    "from sklearn.ensemble import StackingClassifier\n",
    "from sklearn.ensemble import StackingClassifier\n",
    "from sklearn.ensemble import GradientBoostingClassifier\n",
    "from sklearn.ensemble import AdaBoostClassifier\n",
    "from sklearn.ensemble import BaggingClassifier\n",
    "from sklearn.ensemble import ExtraTreesClassifier\n",
    "from sklearn.ensemble import VotingClassifier\n",
    "from sklearn.model_selection import cross_val_score\n",
    "from sklearn.metrics import accuracy_score\n",
    "from sklearn.metrics import confusion_matrix\n",
    "from sklearn.metrics import classification_report\n",
    "from sklearn.metrics import roc_auc_score\n",
    "from sklearn.metrics import roc_curve\n",
    "from sklearn.metrics import precision_score\n",
    "from sklearn.metrics import recall_score\n",
    "from sklearn.metrics import f1_score\n",
    "from sklearn.metrics import precision_recall_curve"
   ]
  },
  {
   "cell_type": "markdown",
   "metadata": {
    "id": "lG7RI-lDn___"
   },
   "source": [
    "## Function for Machine Learning Model"
   ]
  },
  {
   "cell_type": "code",
   "execution_count": null,
   "metadata": {
    "id": "hR077m70n___"
   },
   "outputs": [],
   "source": [
    "def ml_model(model, X_train, y_train, X_test, y_test):\n",
    "\n",
    "    # Fit the model\n",
    "    model.fit(X_train, y_train)\n",
    "\n",
    "    # Predict on the test set\n",
    "    y_pred_test = model.predict(X_test)\n",
    "\n",
    "    # Calculate performance metrics for the test set\n",
    "    acc_test = accuracy_score(y_test, y_pred_test)\n",
    "    prec_test = precision_score(y_test, y_pred_test)\n",
    "    rec_test = recall_score(y_test, y_pred_test)\n",
    "    f1_test = f1_score(y_test, y_pred_test)\n",
    "\n",
    "    # Print performance on the test set\n",
    "    print(\"Test Set Performance:\")\n",
    "    print(\"Confusion Matrix (Test):\")\n",
    "    print(confusion_matrix(y_test, y_pred_test))\n",
    "    print(\"\\nAccuracy of Model (Test):\", acc_test * 100, \"\\n\")\n",
    "    print(classification_report(y_test, y_pred_test))\n",
    "    return()"
   ]
  },
  {
   "cell_type": "markdown",
   "metadata": {
    "id": "4je3bII6oAAA"
   },
   "source": [
    "## Function for Model Optimization"
   ]
  },
  {
   "cell_type": "markdown",
   "metadata": {
    "id": "5RcnABOIoAAA"
   },
   "source": [
    "# Machine Learning with undersampling"
   ]
  },
  {
   "cell_type": "markdown",
   "metadata": {
    "id": "byRWte1YoAAA"
   },
   "source": [
    "## Logistic Regression"
   ]
  },
  {
   "cell_type": "code",
   "execution_count": 82,
   "metadata": {
    "colab": {
     "base_uri": "https://localhost:8080/"
    },
    "id": "_k0p_GjsoAAA",
    "outputId": "fbf0ebb3-a4ad-47cd-bb62-6d6593cad5af"
   },
   "outputs": [
    {
     "name": "stdout",
     "output_type": "stream",
     "text": [
      "Test Set Performance:\n",
      "Confusion Matrix (Test):\n",
      "[[492 233]\n",
      " [ 43  80]]\n",
      "\n",
      "Accuracy of Model (Test): 67.45283018867924 \n",
      "\n",
      "              precision    recall  f1-score   support\n",
      "\n",
      "           0       0.92      0.68      0.78       725\n",
      "           1       0.26      0.65      0.37       123\n",
      "\n",
      "    accuracy                           0.67       848\n",
      "   macro avg       0.59      0.66      0.57       848\n",
      "weighted avg       0.82      0.67      0.72       848\n",
      "\n",
      "Model Performance Results: None\n"
     ]
    }
   ],
   "source": [
    "# Model 1: Logistic Regression\n",
    "m1 = \"Logistic Regression\"\n",
    "lr = LogisticRegression()\n",
    "results = ml_model(lr, X_train, y_train, X_test, y_test)\n",
    "\n",
    "# Print results for further analysis\n",
    "print(\"Model Performance Results:\", results)"
   ]
  },
  {
   "cell_type": "code",
   "execution_count": 83,
   "metadata": {
    "colab": {
     "base_uri": "https://localhost:8080/"
    },
    "id": "C2fPlIZZoAAC",
    "outputId": "88ff4679-9652-4491-d2bb-149edc19231c"
   },
   "outputs": [
    {
     "name": "stdout",
     "output_type": "stream",
     "text": [
      "Fitting 5 folds for each of 10 candidates, totalling 50 fits\n",
      "Best parameters found: {'solver': 'lbfgs', 'penalty': 'l2', 'max_iter': 100, 'C': 0.1}\n",
      "Best F1 score for target == 1: 0.6719989658696692\n"
     ]
    }
   ],
   "source": [
    "from sklearn.model_selection import RandomizedSearchCV\n",
    "from sklearn.linear_model import LogisticRegression\n",
    "from sklearn.metrics import make_scorer, f1_score\n",
    "\n",
    "# try to focus f1-score to target== 1\n",
    "f1_scorer = make_scorer(f1_score, pos_label=1)\n",
    "\n",
    "param_grid_lr = {\n",
    "    \"C\": [0.1, 1, 10, 100],\n",
    "    'penalty': [\"l2\"],\n",
    "    \"solver\": [\"lbfgs\", \"liblinear\"],\n",
    "    \"max_iter\": [100, 200, 300]\n",
    "}\n",
    "\n",
    "lr_model = LogisticRegression()\n",
    "results = RandomizedSearchCV(\n",
    "    estimator=lr_model,\n",
    "    param_distributions=param_grid_lr,\n",
    "    n_iter=10,\n",
    "    cv=5,\n",
    "    scoring=f1_scorer,\n",
    "    random_state=42,\n",
    "    verbose=1,\n",
    "    n_jobs=-1\n",
    ")\n",
    "\n",
    "results.fit(X_train, y_train)\n",
    "\n",
    "print(\"Best parameters found:\", results.best_params_)\n",
    "print(\"Best F1 score for target == 1:\", results.best_score_)"
   ]
  },
  {
   "cell_type": "code",
   "execution_count": 84,
   "metadata": {
    "colab": {
     "base_uri": "https://localhost:8080/"
    },
    "id": "YSUIb4T-oAAB",
    "outputId": "90db87c2-7089-4558-f041-2c722be0ae39"
   },
   "outputs": [
    {
     "name": "stdout",
     "output_type": "stream",
     "text": [
      "Test Set Performance:\n",
      "Confusion Matrix (Test):\n",
      "[[488 237]\n",
      " [ 42  81]]\n",
      "\n",
      "Accuracy of Logistic Regression model (Test): 67.09905660377359 \n",
      "\n",
      "              precision    recall  f1-score   support\n",
      "\n",
      "           0       0.92      0.67      0.78       725\n",
      "           1       0.25      0.66      0.37       123\n",
      "\n",
      "    accuracy                           0.67       848\n",
      "   macro avg       0.59      0.67      0.57       848\n",
      "weighted avg       0.82      0.67      0.72       848\n",
      "\n"
     ]
    }
   ],
   "source": [
    "# Apply improved model\n",
    "\n",
    "lr = LogisticRegression(solver= 'liblinear', penalty= 'l2', max_iter= 100, C= 0.1)\n",
    "# Fit the model\n",
    "lr.fit(X_train, y_train)\n",
    "\n",
    "# Predict on the test set\n",
    "lr_predict_test = lr.predict(X_test)\n",
    "lr_conf_matrix_test = confusion_matrix(y_test, lr_predict_test)\n",
    "lr_acc_score_test = accuracy_score(y_test, lr_predict_test)\n",
    "\n",
    "# Print performance on the test set\n",
    "print(\"Test Set Performance:\")\n",
    "print(\"Confusion Matrix (Test):\")\n",
    "print(lr_conf_matrix_test)\n",
    "print(\"\\nAccuracy of Logistic Regression model (Test):\",lr_acc_score_test * 100, \"\\n\")\n",
    "print(classification_report(y_test, lr_predict_test))"
   ]
  },
  {
   "cell_type": "markdown",
   "metadata": {
    "id": "Xn6t6FHIoAAC"
   },
   "source": [
    "## Naive Bayes"
   ]
  },
  {
   "cell_type": "code",
   "execution_count": 85,
   "metadata": {
    "colab": {
     "base_uri": "https://localhost:8080/"
    },
    "id": "5GNRV8-ioAAC",
    "outputId": "5ef75c6b-f6c3-47d3-e067-2b21bebeb8a5"
   },
   "outputs": [
    {
     "name": "stdout",
     "output_type": "stream",
     "text": [
      "Test Set Performance:\n",
      "Confusion Matrix (Test):\n",
      "[[661  64]\n",
      " [ 89  34]]\n",
      "\n",
      "Accuracy of Model (Test): 81.95754716981132 \n",
      "\n",
      "              precision    recall  f1-score   support\n",
      "\n",
      "           0       0.88      0.91      0.90       725\n",
      "           1       0.35      0.28      0.31       123\n",
      "\n",
      "    accuracy                           0.82       848\n",
      "   macro avg       0.61      0.59      0.60       848\n",
      "weighted avg       0.80      0.82      0.81       848\n",
      "\n",
      "Model Performance Results: None\n"
     ]
    }
   ],
   "source": [
    "# Model 1: Logistic Regression\n",
    "m2 = \"Naive Bayes\"\n",
    "nb = GaussianNB()\n",
    "results = ml_model(nb, X_train, y_train, X_test, y_test)\n",
    "\n",
    "# Print results for further analysis\n",
    "print(\"Model Performance Results:\", results)"
   ]
  },
  {
   "cell_type": "code",
   "execution_count": 86,
   "metadata": {
    "colab": {
     "base_uri": "https://localhost:8080/"
    },
    "id": "8Xf-CmayoAAD",
    "outputId": "39f94921-b605-4301-8178-c02ffb47c06b"
   },
   "outputs": [
    {
     "name": "stdout",
     "output_type": "stream",
     "text": [
      "Fitting 5 folds for each of 5 candidates, totalling 25 fits\n",
      "Best parameters found: {'var_smoothing': 1e-09}\n",
      "Best score: 0.4394950527271579\n"
     ]
    }
   ],
   "source": [
    "# optimization of the Naive Bayes model\n",
    "\n",
    "f1_scorer = make_scorer(f1_score, pos_label=1)\n",
    "# grid\n",
    "param_grid_nb = {\n",
    "    \"var_smoothing\": [1e-9, 1e-8, 1e-7, 1e-6, 1e-5]\n",
    "}\n",
    "\n",
    "# train the model\n",
    "nb_model = GaussianNB()\n",
    "\n",
    "results = RandomizedSearchCV(\n",
    "    estimator=nb_model,\n",
    "    param_distributions=param_grid_nb,\n",
    "    n_iter=5,\n",
    "    cv=5,\n",
    "    random_state=42,\n",
    "    verbose=1,\n",
    "    n_jobs=-1,\n",
    "    scoring=f1_scorer\n",
    ")\n",
    "\n",
    "results.fit(X_train, y_train)\n",
    "\n",
    "# Return the best model\n",
    "print(\"Best parameters found:\", results.best_params_)\n",
    "print(\"Best score:\", results.best_score_)"
   ]
  },
  {
   "cell_type": "code",
   "execution_count": 87,
   "metadata": {
    "colab": {
     "base_uri": "https://localhost:8080/"
    },
    "id": "Wx7ILXegoAAD",
    "outputId": "a3562eee-da62-42ff-f571-cdd47a541bc4"
   },
   "outputs": [
    {
     "name": "stdout",
     "output_type": "stream",
     "text": [
      "Test Set Performance:\n",
      "Confusion Matrix (Test):\n",
      "[[665  60]\n",
      " [ 93  30]]\n",
      "\n",
      "Accuracy of Logistic Regression model (Test): 81.95754716981132 \n",
      "\n",
      "              precision    recall  f1-score   support\n",
      "\n",
      "           0       0.88      0.92      0.90       725\n",
      "           1       0.33      0.24      0.28       123\n",
      "\n",
      "    accuracy                           0.82       848\n",
      "   macro avg       0.61      0.58      0.59       848\n",
      "weighted avg       0.80      0.82      0.81       848\n",
      "\n"
     ]
    }
   ],
   "source": [
    "# Apply improved model\n",
    "\n",
    "nb = GaussianNB(var_smoothing=1e-01)\n",
    "# Fit the model\n",
    "nb.fit(X_train, y_train)\n",
    "\n",
    "# Predict on the test set\n",
    "nb_predict_test = nb.predict(X_test)\n",
    "nb_conf_matrix_test = confusion_matrix(y_test, nb_predict_test)\n",
    "nb_acc_score_test = accuracy_score(y_test, nb_predict_test)\n",
    "\n",
    "# Print performance on the test set\n",
    "print(\"Test Set Performance:\")\n",
    "print(\"Confusion Matrix (Test):\")\n",
    "print(nb_conf_matrix_test)\n",
    "print(\"\\nAccuracy of Logistic Regression model (Test):\", nb_acc_score_test * 100, \"\\n\")\n",
    "print(classification_report(y_test, nb_predict_test))"
   ]
  },
  {
   "cell_type": "markdown",
   "metadata": {
    "id": "7UsI8KKboAAD"
   },
   "source": [
    "## Decision Tree"
   ]
  },
  {
   "cell_type": "code",
   "execution_count": 88,
   "metadata": {
    "colab": {
     "base_uri": "https://localhost:8080/"
    },
    "id": "_KplRp2hoAAE",
    "outputId": "b29e85d8-9d00-4b90-e0c0-d5aa9e955570"
   },
   "outputs": [
    {
     "name": "stdout",
     "output_type": "stream",
     "text": [
      "Test Set Performance:\n",
      "Confusion Matrix (Test):\n",
      "[[413 312]\n",
      " [ 63  60]]\n",
      "\n",
      "Accuracy of Model (Test): 55.77830188679245 \n",
      "\n",
      "              precision    recall  f1-score   support\n",
      "\n",
      "           0       0.87      0.57      0.69       725\n",
      "           1       0.16      0.49      0.24       123\n",
      "\n",
      "    accuracy                           0.56       848\n",
      "   macro avg       0.51      0.53      0.47       848\n",
      "weighted avg       0.77      0.56      0.62       848\n",
      "\n",
      "Model Performance Results: None\n"
     ]
    }
   ],
   "source": [
    "# Model 3: Decision Tree\n",
    "m3 = \"Decision Tree\"\n",
    "dt = DecisionTreeClassifier()\n",
    "results = ml_model(dt, X_train, y_train, X_test, y_test)\n",
    "\n",
    "# Print results for further analysis\n",
    "print(\"Model Performance Results:\", results)"
   ]
  },
  {
   "cell_type": "code",
   "execution_count": 89,
   "metadata": {
    "colab": {
     "base_uri": "https://localhost:8080/"
    },
    "id": "JX4e8bDOoAAF",
    "outputId": "aa91e478-81ad-4c91-92ce-e6f7adce102e"
   },
   "outputs": [
    {
     "name": "stdout",
     "output_type": "stream",
     "text": [
      "Fitting 10 folds for each of 20 candidates, totalling 200 fits\n",
      "Best parameters found: {'splitter': 'random', 'min_samples_split': 2, 'min_samples_leaf': 1, 'max_features': None, 'max_depth': 3, 'criterion': 'entropy'}\n",
      "Best score: 0.6341667681149109\n"
     ]
    }
   ],
   "source": [
    "# Improve the Decision Tree model\n",
    "f1_scorer = make_scorer(f1_score, pos_label=1)\n",
    "param_grid_dt = {\n",
    "    \"criterion\": [\"gini\", \"entropy\"],\n",
    "    \"max_depth\": [3, 5, 7, 9, 11, None],\n",
    "    \"min_samples_split\": [2, 4, 6, 8, 10],\n",
    "    \"min_samples_leaf\": [1, 2, 3, 4, 5],\n",
    "    \"max_features\": [None, \"sqrt\", \"log2\"],\n",
    "    \"splitter\": [\"best\", \"random\"],\n",
    "}\n",
    "\n",
    "# train the model\n",
    "dt_model = DecisionTreeClassifier()\n",
    "\n",
    "results = RandomizedSearchCV(\n",
    "    estimator=dt_model,\n",
    "    param_distributions=param_grid_dt,\n",
    "    n_iter=20,\n",
    "    cv=10,\n",
    "    random_state=42,\n",
    "    verbose=1,\n",
    "    n_jobs=-1,\n",
    "    scoring=f1_scorer\n",
    ")\n",
    "\n",
    "results.fit(X_train, y_train)\n",
    "\n",
    "# Return the best model\n",
    "\n",
    "print(\"Best parameters found:\", results.best_params_)\n",
    "print(\"Best score:\", results.best_score_)"
   ]
  },
  {
   "cell_type": "code",
   "execution_count": 90,
   "metadata": {
    "colab": {
     "base_uri": "https://localhost:8080/"
    },
    "id": "qRv-qHJfoAAF",
    "outputId": "eca11109-4e82-4cc3-a971-b60ca3876fde"
   },
   "outputs": [
    {
     "name": "stdout",
     "output_type": "stream",
     "text": [
      "Test Set Performance:\n",
      "Confusion Matrix (Test):\n",
      "[[370 355]\n",
      " [ 32  91]]\n",
      "\n",
      "Accuracy of Decision Tree (Test): 54.363207547169814 \n",
      "\n",
      "              precision    recall  f1-score   support\n",
      "\n",
      "           0       0.92      0.51      0.66       725\n",
      "           1       0.20      0.74      0.32       123\n",
      "\n",
      "    accuracy                           0.54       848\n",
      "   macro avg       0.56      0.63      0.49       848\n",
      "weighted avg       0.82      0.54      0.61       848\n",
      "\n"
     ]
    }
   ],
   "source": [
    "# Model 3: Decision Tree\n",
    "m3 = \"Decision Tree\"\n",
    "dt = DecisionTreeClassifier(splitter= \"random\", min_samples_split= 4, min_samples_leaf= 5, max_features= None, max_depth= 3, criterion= \"entropy\", random_state=42)\n",
    "dt.fit(X_train, y_train)  # Use undersampled data for training\n",
    "\n",
    "# Predict on the test set\n",
    "dt_predict_test = dt.predict(X_test)\n",
    "dt_conf_matrix_test = confusion_matrix(y_test, dt_predict_test)\n",
    "dt_acc_score_test = accuracy_score(y_test, dt_predict_test)\n",
    "\n",
    "# Print performance on the test set\n",
    "print(\"Test Set Performance:\")\n",
    "print(\"Confusion Matrix (Test):\")\n",
    "print(dt_conf_matrix_test)\n",
    "print(\"\\nAccuracy of Decision Tree (Test):\", dt_acc_score_test * 100, \"\\n\")\n",
    "print(classification_report(y_test, dt_predict_test))"
   ]
  },
  {
   "cell_type": "markdown",
   "metadata": {
    "id": "a3BX_1F8oAAI"
   },
   "source": [
    "## Random Forest"
   ]
  },
  {
   "cell_type": "code",
   "execution_count": 91,
   "metadata": {
    "colab": {
     "base_uri": "https://localhost:8080/"
    },
    "id": "gFPBVOsqoAAJ",
    "outputId": "147b763b-e48c-4412-ca9a-995cf415e58c"
   },
   "outputs": [
    {
     "name": "stdout",
     "output_type": "stream",
     "text": [
      "Test Set Performance:\n",
      "Confusion Matrix (Test):\n",
      "[[478 247]\n",
      " [ 58  65]]\n",
      "\n",
      "Accuracy of Model (Test): 64.03301886792453 \n",
      "\n",
      "              precision    recall  f1-score   support\n",
      "\n",
      "           0       0.89      0.66      0.76       725\n",
      "           1       0.21      0.53      0.30       123\n",
      "\n",
      "    accuracy                           0.64       848\n",
      "   macro avg       0.55      0.59      0.53       848\n",
      "weighted avg       0.79      0.64      0.69       848\n",
      "\n",
      "Model Performance Results: None\n"
     ]
    }
   ],
   "source": [
    "# Model 4: Random Forest\n",
    "m4 = \"Random Forest\"\n",
    "rf = RandomForestClassifier()\n",
    "results = ml_model(rf, X_train, y_train, X_test, y_test)\n",
    "\n",
    "# Print results for further analysis\n",
    "print(\"Model Performance Results:\", results)"
   ]
  },
  {
   "cell_type": "code",
   "execution_count": 92,
   "metadata": {
    "colab": {
     "base_uri": "https://localhost:8080/"
    },
    "id": "r18qs7hHoAAL",
    "outputId": "c8a3669e-ec72-4117-8cf4-2edcaf11a83a"
   },
   "outputs": [
    {
     "name": "stdout",
     "output_type": "stream",
     "text": [
      "Fitting 5 folds for each of 20 candidates, totalling 100 fits\n"
     ]
    },
    {
     "name": "stderr",
     "output_type": "stream",
     "text": [
      "/Users/ramonwinkler/anaconda3/envs/Data Science/lib/python3.12/site-packages/sklearn/model_selection/_validation.py:540: FitFailedWarning: \n",
      "55 fits failed out of a total of 100.\n",
      "The score on these train-test partitions for these parameters will be set to nan.\n",
      "If these failures are not expected, you can try to debug them by setting error_score='raise'.\n",
      "\n",
      "Below are more details about the failures:\n",
      "--------------------------------------------------------------------------------\n",
      "34 fits failed with the following error:\n",
      "Traceback (most recent call last):\n",
      "  File \"/Users/ramonwinkler/anaconda3/envs/Data Science/lib/python3.12/site-packages/sklearn/model_selection/_validation.py\", line 888, in _fit_and_score\n",
      "    estimator.fit(X_train, y_train, **fit_params)\n",
      "  File \"/Users/ramonwinkler/anaconda3/envs/Data Science/lib/python3.12/site-packages/sklearn/base.py\", line 1466, in wrapper\n",
      "    estimator._validate_params()\n",
      "  File \"/Users/ramonwinkler/anaconda3/envs/Data Science/lib/python3.12/site-packages/sklearn/base.py\", line 666, in _validate_params\n",
      "    validate_parameter_constraints(\n",
      "  File \"/Users/ramonwinkler/anaconda3/envs/Data Science/lib/python3.12/site-packages/sklearn/utils/_param_validation.py\", line 95, in validate_parameter_constraints\n",
      "    raise InvalidParameterError(\n",
      "sklearn.utils._param_validation.InvalidParameterError: The 'max_features' parameter of RandomForestClassifier must be an int in the range [1, inf), a float in the range (0.0, 1.0], a str among {'log2', 'sqrt'} or None. Got 'auto' instead.\n",
      "\n",
      "--------------------------------------------------------------------------------\n",
      "21 fits failed with the following error:\n",
      "Traceback (most recent call last):\n",
      "  File \"/Users/ramonwinkler/anaconda3/envs/Data Science/lib/python3.12/site-packages/sklearn/model_selection/_validation.py\", line 888, in _fit_and_score\n",
      "    estimator.fit(X_train, y_train, **fit_params)\n",
      "  File \"/Users/ramonwinkler/anaconda3/envs/Data Science/lib/python3.12/site-packages/sklearn/base.py\", line 1466, in wrapper\n",
      "    estimator._validate_params()\n",
      "  File \"/Users/ramonwinkler/anaconda3/envs/Data Science/lib/python3.12/site-packages/sklearn/base.py\", line 666, in _validate_params\n",
      "    validate_parameter_constraints(\n",
      "  File \"/Users/ramonwinkler/anaconda3/envs/Data Science/lib/python3.12/site-packages/sklearn/utils/_param_validation.py\", line 95, in validate_parameter_constraints\n",
      "    raise InvalidParameterError(\n",
      "sklearn.utils._param_validation.InvalidParameterError: The 'max_features' parameter of RandomForestClassifier must be an int in the range [1, inf), a float in the range (0.0, 1.0], a str among {'sqrt', 'log2'} or None. Got 'auto' instead.\n",
      "\n",
      "  warnings.warn(some_fits_failed_message, FitFailedWarning)\n",
      "/Users/ramonwinkler/anaconda3/envs/Data Science/lib/python3.12/site-packages/sklearn/model_selection/_search.py:1102: UserWarning: One or more of the test scores are non-finite: [       nan        nan 0.63618375        nan        nan        nan\n",
      " 0.63883184 0.66566039 0.65380524 0.66329572        nan        nan\n",
      " 0.66342673        nan 0.64064009 0.63506853        nan        nan\n",
      " 0.64402263        nan]\n",
      "  warnings.warn(\n"
     ]
    },
    {
     "name": "stdout",
     "output_type": "stream",
     "text": [
      "Best parameters found: {'n_estimators': 1800, 'min_samples_split': 10, 'min_samples_leaf': 1, 'max_features': 'sqrt', 'max_depth': 10, 'bootstrap': True}\n",
      "Best F1 Score: 0.6656603871456602\n"
     ]
    }
   ],
   "source": [
    "# Number of trees in random forest\n",
    "n_estimators = [100, 200, 400, 600, 800, 1000, 1200, 1400, 1600, 1800, 2000]\n",
    "\n",
    "# Number of features to consider at every split\n",
    "max_features = ['auto', 'sqrt']\n",
    "\n",
    "# Maximum number of levels in tree\n",
    "max_depth = [10, 20, 30, 40, 50, 60, 70, 80, 90, 100, None]\n",
    "\n",
    "# Minimum number of samples required to split a node\n",
    "min_samples_split = [2, 5, 10]\n",
    "\n",
    "# Minimum number of samples required at each leaf node\n",
    "min_samples_leaf = [1, 2, 4]\n",
    "\n",
    "# Method of selecting samples for training each tree\n",
    "bootstrap = [True, False]\n",
    "\n",
    "# random grid for the predefined parameters\n",
    "random_grid = {'n_estimators': n_estimators,\n",
    "               'max_features': max_features,\n",
    "               'max_depth': max_depth,\n",
    "               'min_samples_split': min_samples_split,\n",
    "               'min_samples_leaf': min_samples_leaf,\n",
    "               'bootstrap': bootstrap}\n",
    "# Initialize Random Forest\n",
    "rf_model = RandomForestClassifier(random_state=42)\n",
    "\n",
    "# Define scoring metric\n",
    "f1_scorer = make_scorer(f1_score, pos_label=1)\n",
    "\n",
    "# Setup RandomizedSearchCV\n",
    "rf_random_search = RandomizedSearchCV(\n",
    "    estimator=rf_model,\n",
    "    param_distributions=random_grid,\n",
    "    n_iter=20,  # Define as per available resources\n",
    "    cv=5,  # Cross-validation folds\n",
    "    verbose=1,\n",
    "    random_state=42,\n",
    "    n_jobs=-1,\n",
    "    scoring=f1_scorer\n",
    ")\n",
    "\n",
    "# Fit model\n",
    "rf_random_search.fit(X_train, y_train)\n",
    "\n",
    "# Print best parameters and score\n",
    "print(\"Best parameters found:\", rf_random_search.best_params_)\n",
    "print(\"Best F1 Score:\", rf_random_search.best_score_)"
   ]
  },
  {
   "cell_type": "code",
   "execution_count": 93,
   "metadata": {
    "id": "29lAjUpVqOuZ"
   },
   "outputs": [
    {
     "name": "stdout",
     "output_type": "stream",
     "text": [
      "Test Set Performance:\n",
      "Confusion Matrix (Test):\n",
      "[[469 256]\n",
      " [ 51  72]]\n",
      "\n",
      "Accuracy of Random Forest (Test): 63.79716981132076 \n",
      "\n",
      "              precision    recall  f1-score   support\n",
      "\n",
      "           0       0.90      0.65      0.75       725\n",
      "           1       0.22      0.59      0.32       123\n",
      "\n",
      "    accuracy                           0.64       848\n",
      "   macro avg       0.56      0.62      0.54       848\n",
      "weighted avg       0.80      0.64      0.69       848\n",
      "\n"
     ]
    }
   ],
   "source": [
    "# optimized Random Forest Model\n",
    "m4 = \"Random Forest\"\n",
    "rf = RandomForestClassifier(n_estimators= 2000, min_samples_split= 2, min_samples_leaf= 4, max_features= 'sqrt', max_depth= 40, bootstrap= True)\n",
    "rf.fit(X_train, y_train)  # Use undersampled data for training\n",
    "\n",
    "# Predict on the test set\n",
    "rf_predict_test = rf.predict(X_test)\n",
    "rf_conf_matrix_test = confusion_matrix(y_test, rf_predict_test)\n",
    "rf_acc_score_test = accuracy_score(y_test, rf_predict_test)\n",
    "\n",
    "# Print performance on the test set\n",
    "print(\"Test Set Performance:\")\n",
    "print(\"Confusion Matrix (Test):\")\n",
    "print(rf_conf_matrix_test)\n",
    "print(\"\\nAccuracy of Random Forest (Test):\", rf_acc_score_test * 100, \"\\n\")\n",
    "print(classification_report(y_test, rf_predict_test))"
   ]
  },
  {
   "cell_type": "markdown",
   "metadata": {
    "id": "L3y028-HoAAM"
   },
   "source": [
    "## Extreme Gradient Boost"
   ]
  },
  {
   "cell_type": "code",
   "execution_count": 94,
   "metadata": {
    "colab": {
     "base_uri": "https://localhost:8080/"
    },
    "id": "Kty1LLcsqkS9",
    "outputId": "37bd23a4-d308-456e-d5a7-e9bfb52b3be3"
   },
   "outputs": [
    {
     "name": "stdout",
     "output_type": "stream",
     "text": [
      "Test Set Performance:\n",
      "Confusion Matrix (Test):\n",
      "[[452 273]\n",
      " [ 57  66]]\n",
      "\n",
      "Accuracy of Model (Test): 61.08490566037735 \n",
      "\n",
      "              precision    recall  f1-score   support\n",
      "\n",
      "           0       0.89      0.62      0.73       725\n",
      "           1       0.19      0.54      0.29       123\n",
      "\n",
      "    accuracy                           0.61       848\n",
      "   macro avg       0.54      0.58      0.51       848\n",
      "weighted avg       0.79      0.61      0.67       848\n",
      "\n",
      "Model Performance Results: None\n"
     ]
    }
   ],
   "source": [
    "# Model 5: Extreme Gradient Boost\n",
    "m5 = \"Extreme Gradient Boost\"\n",
    "xgb = XGBClassifier()\n",
    "results = ml_model(xgb, X_train, y_train, X_test, y_test)\n",
    "\n",
    "# Print results for further analysis\n",
    "print(\"Model Performance Results:\", results)"
   ]
  },
  {
   "cell_type": "code",
   "execution_count": 95,
   "metadata": {
    "colab": {
     "base_uri": "https://localhost:8080/"
    },
    "id": "pVJkemL0rwMZ",
    "outputId": "82b85d28-3c1b-497c-ffe8-fe460334e7b1"
   },
   "outputs": [
    {
     "name": "stdout",
     "output_type": "stream",
     "text": [
      "Fitting 5 folds for each of 20 candidates, totalling 100 fits\n"
     ]
    },
    {
     "name": "stderr",
     "output_type": "stream",
     "text": [
      "/Users/ramonwinkler/anaconda3/envs/Data Science/lib/python3.12/site-packages/xgboost/core.py:158: UserWarning: [21:38:25] WARNING: /Users/runner/work/xgboost/xgboost/src/learner.cc:740: \n",
      "Parameters: { \"use_label_encoder\" } are not used.\n",
      "\n",
      "  warnings.warn(smsg, UserWarning)\n",
      "/Users/ramonwinkler/anaconda3/envs/Data Science/lib/python3.12/site-packages/xgboost/core.py:158: UserWarning: [21:38:25] WARNING: /Users/runner/work/xgboost/xgboost/src/learner.cc:740: \n",
      "Parameters: { \"use_label_encoder\" } are not used.\n",
      "\n",
      "  warnings.warn(smsg, UserWarning)\n",
      "/Users/ramonwinkler/anaconda3/envs/Data Science/lib/python3.12/site-packages/xgboost/core.py:158: UserWarning: [21:38:25] WARNING: /Users/runner/work/xgboost/xgboost/src/learner.cc:740: \n",
      "Parameters: { \"use_label_encoder\" } are not used.\n",
      "\n",
      "  warnings.warn(smsg, UserWarning)\n",
      "/Users/ramonwinkler/anaconda3/envs/Data Science/lib/python3.12/site-packages/xgboost/core.py:158: UserWarning: [21:38:25] WARNING: /Users/runner/work/xgboost/xgboost/src/learner.cc:740: \n",
      "Parameters: { \"use_label_encoder\" } are not used.\n",
      "\n",
      "  warnings.warn(smsg, UserWarning)\n",
      "/Users/ramonwinkler/anaconda3/envs/Data Science/lib/python3.12/site-packages/xgboost/core.py:158: UserWarning: [21:38:25] WARNING: /Users/runner/work/xgboost/xgboost/src/learner.cc:740: \n",
      "Parameters: { \"use_label_encoder\" } are not used.\n",
      "\n",
      "  warnings.warn(smsg, UserWarning)\n",
      "/Users/ramonwinkler/anaconda3/envs/Data Science/lib/python3.12/site-packages/xgboost/core.py:158: UserWarning: [21:38:25] WARNING: /Users/runner/work/xgboost/xgboost/src/learner.cc:740: \n",
      "Parameters: { \"use_label_encoder\" } are not used.\n",
      "\n",
      "  warnings.warn(smsg, UserWarning)\n",
      "/Users/ramonwinkler/anaconda3/envs/Data Science/lib/python3.12/site-packages/xgboost/core.py:158: UserWarning: [21:38:25] WARNING: /Users/runner/work/xgboost/xgboost/src/learner.cc:740: \n",
      "Parameters: { \"use_label_encoder\" } are not used.\n",
      "\n",
      "  warnings.warn(smsg, UserWarning)\n",
      "/Users/ramonwinkler/anaconda3/envs/Data Science/lib/python3.12/site-packages/xgboost/core.py:158: UserWarning: [21:38:25] WARNING: /Users/runner/work/xgboost/xgboost/src/learner.cc:740: \n",
      "Parameters: { \"use_label_encoder\" } are not used.\n",
      "\n",
      "  warnings.warn(smsg, UserWarning)\n",
      "/Users/ramonwinkler/anaconda3/envs/Data Science/lib/python3.12/site-packages/xgboost/core.py:158: UserWarning: [21:38:25] WARNING: /Users/runner/work/xgboost/xgboost/src/learner.cc:740: \n",
      "Parameters: { \"use_label_encoder\" } are not used.\n",
      "\n",
      "  warnings.warn(smsg, UserWarning)\n",
      "/Users/ramonwinkler/anaconda3/envs/Data Science/lib/python3.12/site-packages/xgboost/core.py:158: UserWarning: [21:38:25] WARNING: /Users/runner/work/xgboost/xgboost/src/learner.cc:740: \n",
      "Parameters: { \"use_label_encoder\" } are not used.\n",
      "\n",
      "  warnings.warn(smsg, UserWarning)\n",
      "/Users/ramonwinkler/anaconda3/envs/Data Science/lib/python3.12/site-packages/xgboost/core.py:158: UserWarning: [21:38:25] WARNING: /Users/runner/work/xgboost/xgboost/src/learner.cc:740: \n",
      "Parameters: { \"use_label_encoder\" } are not used.\n",
      "\n",
      "  warnings.warn(smsg, UserWarning)\n",
      "/Users/ramonwinkler/anaconda3/envs/Data Science/lib/python3.12/site-packages/xgboost/core.py:158: UserWarning: [21:38:25] WARNING: /Users/runner/work/xgboost/xgboost/src/learner.cc:740: \n",
      "Parameters: { \"use_label_encoder\" } are not used.\n",
      "\n",
      "  warnings.warn(smsg, UserWarning)\n",
      "/Users/ramonwinkler/anaconda3/envs/Data Science/lib/python3.12/site-packages/xgboost/core.py:158: UserWarning: [21:38:25] WARNING: /Users/runner/work/xgboost/xgboost/src/learner.cc:740: \n",
      "Parameters: { \"use_label_encoder\" } are not used.\n",
      "\n",
      "  warnings.warn(smsg, UserWarning)\n",
      "/Users/ramonwinkler/anaconda3/envs/Data Science/lib/python3.12/site-packages/xgboost/core.py:158: UserWarning: [21:38:25] WARNING: /Users/runner/work/xgboost/xgboost/src/learner.cc:740: \n",
      "Parameters: { \"use_label_encoder\" } are not used.\n",
      "\n",
      "  warnings.warn(smsg, UserWarning)\n",
      "/Users/ramonwinkler/anaconda3/envs/Data Science/lib/python3.12/site-packages/xgboost/core.py:158: UserWarning: [21:38:25] WARNING: /Users/runner/work/xgboost/xgboost/src/learner.cc:740: \n",
      "Parameters: { \"use_label_encoder\" } are not used.\n",
      "\n",
      "  warnings.warn(smsg, UserWarning)\n",
      "/Users/ramonwinkler/anaconda3/envs/Data Science/lib/python3.12/site-packages/xgboost/core.py:158: UserWarning: [21:38:25] WARNING: /Users/runner/work/xgboost/xgboost/src/learner.cc:740: \n",
      "Parameters: { \"use_label_encoder\" } are not used.\n",
      "\n",
      "  warnings.warn(smsg, UserWarning)\n",
      "/Users/ramonwinkler/anaconda3/envs/Data Science/lib/python3.12/site-packages/xgboost/core.py:158: UserWarning: [21:38:25] WARNING: /Users/runner/work/xgboost/xgboost/src/learner.cc:740: \n",
      "Parameters: { \"use_label_encoder\" } are not used.\n",
      "\n",
      "  warnings.warn(smsg, UserWarning)\n",
      "/Users/ramonwinkler/anaconda3/envs/Data Science/lib/python3.12/site-packages/xgboost/core.py:158: UserWarning: [21:38:25] WARNING: /Users/runner/work/xgboost/xgboost/src/learner.cc:740: \n",
      "Parameters: { \"use_label_encoder\" } are not used.\n",
      "\n",
      "  warnings.warn(smsg, UserWarning)\n",
      "/Users/ramonwinkler/anaconda3/envs/Data Science/lib/python3.12/site-packages/xgboost/core.py:158: UserWarning: [21:38:25] WARNING: /Users/runner/work/xgboost/xgboost/src/learner.cc:740: \n",
      "Parameters: { \"use_label_encoder\" } are not used.\n",
      "\n",
      "  warnings.warn(smsg, UserWarning)\n",
      "/Users/ramonwinkler/anaconda3/envs/Data Science/lib/python3.12/site-packages/xgboost/core.py:158: UserWarning: [21:38:25] WARNING: /Users/runner/work/xgboost/xgboost/src/learner.cc:740: \n",
      "Parameters: { \"use_label_encoder\" } are not used.\n",
      "\n",
      "  warnings.warn(smsg, UserWarning)\n",
      "/Users/ramonwinkler/anaconda3/envs/Data Science/lib/python3.12/site-packages/xgboost/core.py:158: UserWarning: [21:38:25] WARNING: /Users/runner/work/xgboost/xgboost/src/learner.cc:740: \n",
      "Parameters: { \"use_label_encoder\" } are not used.\n",
      "\n",
      "  warnings.warn(smsg, UserWarning)\n",
      "/Users/ramonwinkler/anaconda3/envs/Data Science/lib/python3.12/site-packages/xgboost/core.py:158: UserWarning: [21:38:25] WARNING: /Users/runner/work/xgboost/xgboost/src/learner.cc:740: \n",
      "Parameters: { \"use_label_encoder\" } are not used.\n",
      "\n",
      "  warnings.warn(smsg, UserWarning)\n",
      "/Users/ramonwinkler/anaconda3/envs/Data Science/lib/python3.12/site-packages/xgboost/core.py:158: UserWarning: [21:38:25] WARNING: /Users/runner/work/xgboost/xgboost/src/learner.cc:740: \n",
      "Parameters: { \"use_label_encoder\" } are not used.\n",
      "\n",
      "  warnings.warn(smsg, UserWarning)\n",
      "/Users/ramonwinkler/anaconda3/envs/Data Science/lib/python3.12/site-packages/xgboost/core.py:158: UserWarning: [21:38:25] WARNING: /Users/runner/work/xgboost/xgboost/src/learner.cc:740: \n",
      "Parameters: { \"use_label_encoder\" } are not used.\n",
      "\n",
      "  warnings.warn(smsg, UserWarning)\n",
      "/Users/ramonwinkler/anaconda3/envs/Data Science/lib/python3.12/site-packages/xgboost/core.py:158: UserWarning: [21:38:25] WARNING: /Users/runner/work/xgboost/xgboost/src/learner.cc:740: \n",
      "Parameters: { \"use_label_encoder\" } are not used.\n",
      "\n",
      "  warnings.warn(smsg, UserWarning)\n",
      "/Users/ramonwinkler/anaconda3/envs/Data Science/lib/python3.12/site-packages/xgboost/core.py:158: UserWarning: [21:38:25] WARNING: /Users/runner/work/xgboost/xgboost/src/learner.cc:740: \n",
      "Parameters: { \"use_label_encoder\" } are not used.\n",
      "\n",
      "  warnings.warn(smsg, UserWarning)\n",
      "/Users/ramonwinkler/anaconda3/envs/Data Science/lib/python3.12/site-packages/xgboost/core.py:158: UserWarning: [21:38:25] WARNING: /Users/runner/work/xgboost/xgboost/src/learner.cc:740: \n",
      "Parameters: { \"use_label_encoder\" } are not used.\n",
      "\n",
      "  warnings.warn(smsg, UserWarning)\n",
      "/Users/ramonwinkler/anaconda3/envs/Data Science/lib/python3.12/site-packages/xgboost/core.py:158: UserWarning: [21:38:25] WARNING: /Users/runner/work/xgboost/xgboost/src/learner.cc:740: \n",
      "Parameters: { \"use_label_encoder\" } are not used.\n",
      "\n",
      "  warnings.warn(smsg, UserWarning)\n",
      "/Users/ramonwinkler/anaconda3/envs/Data Science/lib/python3.12/site-packages/xgboost/core.py:158: UserWarning: [21:38:25] WARNING: /Users/runner/work/xgboost/xgboost/src/learner.cc:740: \n",
      "Parameters: { \"use_label_encoder\" } are not used.\n",
      "\n",
      "  warnings.warn(smsg, UserWarning)\n",
      "/Users/ramonwinkler/anaconda3/envs/Data Science/lib/python3.12/site-packages/xgboost/core.py:158: UserWarning: [21:38:25] WARNING: /Users/runner/work/xgboost/xgboost/src/learner.cc:740: \n",
      "Parameters: { \"use_label_encoder\" } are not used.\n",
      "\n",
      "  warnings.warn(smsg, UserWarning)\n",
      "/Users/ramonwinkler/anaconda3/envs/Data Science/lib/python3.12/site-packages/xgboost/core.py:158: UserWarning: [21:38:25] WARNING: /Users/runner/work/xgboost/xgboost/src/learner.cc:740: \n",
      "Parameters: { \"use_label_encoder\" } are not used.\n",
      "\n",
      "  warnings.warn(smsg, UserWarning)\n",
      "/Users/ramonwinkler/anaconda3/envs/Data Science/lib/python3.12/site-packages/xgboost/core.py:158: UserWarning: [21:38:25] WARNING: /Users/runner/work/xgboost/xgboost/src/learner.cc:740: \n",
      "Parameters: { \"use_label_encoder\" } are not used.\n",
      "\n",
      "  warnings.warn(smsg, UserWarning)\n",
      "/Users/ramonwinkler/anaconda3/envs/Data Science/lib/python3.12/site-packages/xgboost/core.py:158: UserWarning: [21:38:25] WARNING: /Users/runner/work/xgboost/xgboost/src/learner.cc:740: \n",
      "Parameters: { \"use_label_encoder\" } are not used.\n",
      "\n",
      "  warnings.warn(smsg, UserWarning)\n",
      "/Users/ramonwinkler/anaconda3/envs/Data Science/lib/python3.12/site-packages/xgboost/core.py:158: UserWarning: [21:38:25] WARNING: /Users/runner/work/xgboost/xgboost/src/learner.cc:740: \n",
      "Parameters: { \"use_label_encoder\" } are not used.\n",
      "\n",
      "  warnings.warn(smsg, UserWarning)\n",
      "/Users/ramonwinkler/anaconda3/envs/Data Science/lib/python3.12/site-packages/xgboost/core.py:158: UserWarning: [21:38:25] WARNING: /Users/runner/work/xgboost/xgboost/src/learner.cc:740: \n",
      "Parameters: { \"use_label_encoder\" } are not used.\n",
      "\n",
      "  warnings.warn(smsg, UserWarning)\n",
      "/Users/ramonwinkler/anaconda3/envs/Data Science/lib/python3.12/site-packages/xgboost/core.py:158: UserWarning: [21:38:25] WARNING: /Users/runner/work/xgboost/xgboost/src/learner.cc:740: \n",
      "Parameters: { \"use_label_encoder\" } are not used.\n",
      "\n",
      "  warnings.warn(smsg, UserWarning)\n",
      "/Users/ramonwinkler/anaconda3/envs/Data Science/lib/python3.12/site-packages/xgboost/core.py:158: UserWarning: [21:38:25] WARNING: /Users/runner/work/xgboost/xgboost/src/learner.cc:740: \n",
      "Parameters: { \"use_label_encoder\" } are not used.\n",
      "\n",
      "  warnings.warn(smsg, UserWarning)\n",
      "/Users/ramonwinkler/anaconda3/envs/Data Science/lib/python3.12/site-packages/xgboost/core.py:158: UserWarning: [21:38:25] WARNING: /Users/runner/work/xgboost/xgboost/src/learner.cc:740: \n",
      "Parameters: { \"use_label_encoder\" } are not used.\n",
      "\n",
      "  warnings.warn(smsg, UserWarning)\n",
      "/Users/ramonwinkler/anaconda3/envs/Data Science/lib/python3.12/site-packages/xgboost/core.py:158: UserWarning: [21:38:25] WARNING: /Users/runner/work/xgboost/xgboost/src/learner.cc:740: \n",
      "Parameters: { \"use_label_encoder\" } are not used.\n",
      "\n",
      "  warnings.warn(smsg, UserWarning)\n",
      "/Users/ramonwinkler/anaconda3/envs/Data Science/lib/python3.12/site-packages/xgboost/core.py:158: UserWarning: [21:38:25] WARNING: /Users/runner/work/xgboost/xgboost/src/learner.cc:740: \n",
      "Parameters: { \"use_label_encoder\" } are not used.\n",
      "\n",
      "  warnings.warn(smsg, UserWarning)\n",
      "/Users/ramonwinkler/anaconda3/envs/Data Science/lib/python3.12/site-packages/xgboost/core.py:158: UserWarning: [21:38:25] WARNING: /Users/runner/work/xgboost/xgboost/src/learner.cc:740: \n",
      "Parameters: { \"use_label_encoder\" } are not used.\n",
      "\n",
      "  warnings.warn(smsg, UserWarning)\n",
      "/Users/ramonwinkler/anaconda3/envs/Data Science/lib/python3.12/site-packages/xgboost/core.py:158: UserWarning: [21:38:25] WARNING: /Users/runner/work/xgboost/xgboost/src/learner.cc:740: \n",
      "Parameters: { \"use_label_encoder\" } are not used.\n",
      "\n",
      "  warnings.warn(smsg, UserWarning)\n",
      "/Users/ramonwinkler/anaconda3/envs/Data Science/lib/python3.12/site-packages/xgboost/core.py:158: UserWarning: [21:38:25] WARNING: /Users/runner/work/xgboost/xgboost/src/learner.cc:740: \n",
      "Parameters: { \"use_label_encoder\" } are not used.\n",
      "\n",
      "  warnings.warn(smsg, UserWarning)\n",
      "/Users/ramonwinkler/anaconda3/envs/Data Science/lib/python3.12/site-packages/xgboost/core.py:158: UserWarning: [21:38:25] WARNING: /Users/runner/work/xgboost/xgboost/src/learner.cc:740: \n",
      "Parameters: { \"use_label_encoder\" } are not used.\n",
      "\n",
      "  warnings.warn(smsg, UserWarning)\n",
      "/Users/ramonwinkler/anaconda3/envs/Data Science/lib/python3.12/site-packages/xgboost/core.py:158: UserWarning: [21:38:25] WARNING: /Users/runner/work/xgboost/xgboost/src/learner.cc:740: \n",
      "Parameters: { \"use_label_encoder\" } are not used.\n",
      "\n",
      "  warnings.warn(smsg, UserWarning)\n",
      "/Users/ramonwinkler/anaconda3/envs/Data Science/lib/python3.12/site-packages/xgboost/core.py:158: UserWarning: [21:38:25] WARNING: /Users/runner/work/xgboost/xgboost/src/learner.cc:740: \n",
      "Parameters: { \"use_label_encoder\" } are not used.\n",
      "\n",
      "  warnings.warn(smsg, UserWarning)\n",
      "/Users/ramonwinkler/anaconda3/envs/Data Science/lib/python3.12/site-packages/xgboost/core.py:158: UserWarning: [21:38:25] WARNING: /Users/runner/work/xgboost/xgboost/src/learner.cc:740: \n",
      "Parameters: { \"use_label_encoder\" } are not used.\n",
      "\n",
      "  warnings.warn(smsg, UserWarning)\n",
      "/Users/ramonwinkler/anaconda3/envs/Data Science/lib/python3.12/site-packages/xgboost/core.py:158: UserWarning: [21:38:25] WARNING: /Users/runner/work/xgboost/xgboost/src/learner.cc:740: \n",
      "Parameters: { \"use_label_encoder\" } are not used.\n",
      "\n",
      "  warnings.warn(smsg, UserWarning)\n",
      "/Users/ramonwinkler/anaconda3/envs/Data Science/lib/python3.12/site-packages/xgboost/core.py:158: UserWarning: [21:38:25] WARNING: /Users/runner/work/xgboost/xgboost/src/learner.cc:740: \n",
      "Parameters: { \"use_label_encoder\" } are not used.\n",
      "\n",
      "  warnings.warn(smsg, UserWarning)\n",
      "/Users/ramonwinkler/anaconda3/envs/Data Science/lib/python3.12/site-packages/xgboost/core.py:158: UserWarning: [21:38:25] WARNING: /Users/runner/work/xgboost/xgboost/src/learner.cc:740: \n",
      "Parameters: { \"use_label_encoder\" } are not used.\n",
      "\n",
      "  warnings.warn(smsg, UserWarning)\n",
      "/Users/ramonwinkler/anaconda3/envs/Data Science/lib/python3.12/site-packages/xgboost/core.py:158: UserWarning: [21:38:25] WARNING: /Users/runner/work/xgboost/xgboost/src/learner.cc:740: \n",
      "Parameters: { \"use_label_encoder\" } are not used.\n",
      "\n",
      "  warnings.warn(smsg, UserWarning)\n",
      "/Users/ramonwinkler/anaconda3/envs/Data Science/lib/python3.12/site-packages/xgboost/core.py:158: UserWarning: [21:38:25] WARNING: /Users/runner/work/xgboost/xgboost/src/learner.cc:740: \n",
      "Parameters: { \"use_label_encoder\" } are not used.\n",
      "\n",
      "  warnings.warn(smsg, UserWarning)\n",
      "/Users/ramonwinkler/anaconda3/envs/Data Science/lib/python3.12/site-packages/xgboost/core.py:158: UserWarning: [21:38:25] WARNING: /Users/runner/work/xgboost/xgboost/src/learner.cc:740: \n",
      "Parameters: { \"use_label_encoder\" } are not used.\n",
      "\n",
      "  warnings.warn(smsg, UserWarning)\n",
      "/Users/ramonwinkler/anaconda3/envs/Data Science/lib/python3.12/site-packages/xgboost/core.py:158: UserWarning: [21:38:25] WARNING: /Users/runner/work/xgboost/xgboost/src/learner.cc:740: \n",
      "Parameters: { \"use_label_encoder\" } are not used.\n",
      "\n",
      "  warnings.warn(smsg, UserWarning)\n",
      "/Users/ramonwinkler/anaconda3/envs/Data Science/lib/python3.12/site-packages/xgboost/core.py:158: UserWarning: [21:38:25] WARNING: /Users/runner/work/xgboost/xgboost/src/learner.cc:740: \n",
      "Parameters: { \"use_label_encoder\" } are not used.\n",
      "\n",
      "  warnings.warn(smsg, UserWarning)\n",
      "/Users/ramonwinkler/anaconda3/envs/Data Science/lib/python3.12/site-packages/xgboost/core.py:158: UserWarning: [21:38:25] WARNING: /Users/runner/work/xgboost/xgboost/src/learner.cc:740: \n",
      "Parameters: { \"use_label_encoder\" } are not used.\n",
      "\n",
      "  warnings.warn(smsg, UserWarning)\n",
      "/Users/ramonwinkler/anaconda3/envs/Data Science/lib/python3.12/site-packages/xgboost/core.py:158: UserWarning: [21:38:25] WARNING: /Users/runner/work/xgboost/xgboost/src/learner.cc:740: \n",
      "Parameters: { \"use_label_encoder\" } are not used.\n",
      "\n",
      "  warnings.warn(smsg, UserWarning)\n",
      "/Users/ramonwinkler/anaconda3/envs/Data Science/lib/python3.12/site-packages/xgboost/core.py:158: UserWarning: [21:38:25] WARNING: /Users/runner/work/xgboost/xgboost/src/learner.cc:740: \n",
      "Parameters: { \"use_label_encoder\" } are not used.\n",
      "\n",
      "  warnings.warn(smsg, UserWarning)\n",
      "/Users/ramonwinkler/anaconda3/envs/Data Science/lib/python3.12/site-packages/xgboost/core.py:158: UserWarning: [21:38:25] WARNING: /Users/runner/work/xgboost/xgboost/src/learner.cc:740: \n",
      "Parameters: { \"use_label_encoder\" } are not used.\n",
      "\n",
      "  warnings.warn(smsg, UserWarning)\n",
      "/Users/ramonwinkler/anaconda3/envs/Data Science/lib/python3.12/site-packages/xgboost/core.py:158: UserWarning: [21:38:25] WARNING: /Users/runner/work/xgboost/xgboost/src/learner.cc:740: \n",
      "Parameters: { \"use_label_encoder\" } are not used.\n",
      "\n",
      "  warnings.warn(smsg, UserWarning)\n",
      "/Users/ramonwinkler/anaconda3/envs/Data Science/lib/python3.12/site-packages/xgboost/core.py:158: UserWarning: [21:38:25] WARNING: /Users/runner/work/xgboost/xgboost/src/learner.cc:740: \n",
      "Parameters: { \"use_label_encoder\" } are not used.\n",
      "\n",
      "  warnings.warn(smsg, UserWarning)\n",
      "/Users/ramonwinkler/anaconda3/envs/Data Science/lib/python3.12/site-packages/xgboost/core.py:158: UserWarning: [21:38:25] WARNING: /Users/runner/work/xgboost/xgboost/src/learner.cc:740: \n",
      "Parameters: { \"use_label_encoder\" } are not used.\n",
      "\n",
      "  warnings.warn(smsg, UserWarning)\n",
      "/Users/ramonwinkler/anaconda3/envs/Data Science/lib/python3.12/site-packages/xgboost/core.py:158: UserWarning: [21:38:25] WARNING: /Users/runner/work/xgboost/xgboost/src/learner.cc:740: \n",
      "Parameters: { \"use_label_encoder\" } are not used.\n",
      "\n",
      "  warnings.warn(smsg, UserWarning)\n",
      "/Users/ramonwinkler/anaconda3/envs/Data Science/lib/python3.12/site-packages/xgboost/core.py:158: UserWarning: [21:38:25] WARNING: /Users/runner/work/xgboost/xgboost/src/learner.cc:740: \n",
      "Parameters: { \"use_label_encoder\" } are not used.\n",
      "\n",
      "  warnings.warn(smsg, UserWarning)\n",
      "/Users/ramonwinkler/anaconda3/envs/Data Science/lib/python3.12/site-packages/xgboost/core.py:158: UserWarning: [21:38:25] WARNING: /Users/runner/work/xgboost/xgboost/src/learner.cc:740: \n",
      "Parameters: { \"use_label_encoder\" } are not used.\n",
      "\n",
      "  warnings.warn(smsg, UserWarning)\n",
      "/Users/ramonwinkler/anaconda3/envs/Data Science/lib/python3.12/site-packages/xgboost/core.py:158: UserWarning: [21:38:25] WARNING: /Users/runner/work/xgboost/xgboost/src/learner.cc:740: \n",
      "Parameters: { \"use_label_encoder\" } are not used.\n",
      "\n",
      "  warnings.warn(smsg, UserWarning)\n",
      "/Users/ramonwinkler/anaconda3/envs/Data Science/lib/python3.12/site-packages/xgboost/core.py:158: UserWarning: [21:38:25] WARNING: /Users/runner/work/xgboost/xgboost/src/learner.cc:740: \n",
      "Parameters: { \"use_label_encoder\" } are not used.\n",
      "\n",
      "  warnings.warn(smsg, UserWarning)\n",
      "/Users/ramonwinkler/anaconda3/envs/Data Science/lib/python3.12/site-packages/xgboost/core.py:158: UserWarning: [21:38:25] WARNING: /Users/runner/work/xgboost/xgboost/src/learner.cc:740: \n",
      "Parameters: { \"use_label_encoder\" } are not used.\n",
      "\n",
      "  warnings.warn(smsg, UserWarning)\n",
      "/Users/ramonwinkler/anaconda3/envs/Data Science/lib/python3.12/site-packages/xgboost/core.py:158: UserWarning: [21:38:25] WARNING: /Users/runner/work/xgboost/xgboost/src/learner.cc:740: \n",
      "Parameters: { \"use_label_encoder\" } are not used.\n",
      "\n",
      "  warnings.warn(smsg, UserWarning)\n",
      "/Users/ramonwinkler/anaconda3/envs/Data Science/lib/python3.12/site-packages/xgboost/core.py:158: UserWarning: [21:38:25] WARNING: /Users/runner/work/xgboost/xgboost/src/learner.cc:740: \n",
      "Parameters: { \"use_label_encoder\" } are not used.\n",
      "\n",
      "  warnings.warn(smsg, UserWarning)\n",
      "/Users/ramonwinkler/anaconda3/envs/Data Science/lib/python3.12/site-packages/xgboost/core.py:158: UserWarning: [21:38:25] WARNING: /Users/runner/work/xgboost/xgboost/src/learner.cc:740: \n",
      "Parameters: { \"use_label_encoder\" } are not used.\n",
      "\n",
      "  warnings.warn(smsg, UserWarning)\n",
      "/Users/ramonwinkler/anaconda3/envs/Data Science/lib/python3.12/site-packages/xgboost/core.py:158: UserWarning: [21:38:25] WARNING: /Users/runner/work/xgboost/xgboost/src/learner.cc:740: \n",
      "Parameters: { \"use_label_encoder\" } are not used.\n",
      "\n",
      "  warnings.warn(smsg, UserWarning)\n",
      "/Users/ramonwinkler/anaconda3/envs/Data Science/lib/python3.12/site-packages/xgboost/core.py:158: UserWarning: [21:38:25] WARNING: /Users/runner/work/xgboost/xgboost/src/learner.cc:740: \n",
      "Parameters: { \"use_label_encoder\" } are not used.\n",
      "\n",
      "  warnings.warn(smsg, UserWarning)\n",
      "/Users/ramonwinkler/anaconda3/envs/Data Science/lib/python3.12/site-packages/xgboost/core.py:158: UserWarning: [21:38:25] WARNING: /Users/runner/work/xgboost/xgboost/src/learner.cc:740: \n",
      "Parameters: { \"use_label_encoder\" } are not used.\n",
      "\n",
      "  warnings.warn(smsg, UserWarning)\n",
      "/Users/ramonwinkler/anaconda3/envs/Data Science/lib/python3.12/site-packages/xgboost/core.py:158: UserWarning: [21:38:25] WARNING: /Users/runner/work/xgboost/xgboost/src/learner.cc:740: \n",
      "Parameters: { \"use_label_encoder\" } are not used.\n",
      "\n",
      "  warnings.warn(smsg, UserWarning)\n",
      "/Users/ramonwinkler/anaconda3/envs/Data Science/lib/python3.12/site-packages/xgboost/core.py:158: UserWarning: [21:38:25] WARNING: /Users/runner/work/xgboost/xgboost/src/learner.cc:740: \n",
      "Parameters: { \"use_label_encoder\" } are not used.\n",
      "\n",
      "  warnings.warn(smsg, UserWarning)\n",
      "/Users/ramonwinkler/anaconda3/envs/Data Science/lib/python3.12/site-packages/xgboost/core.py:158: UserWarning: [21:38:25] WARNING: /Users/runner/work/xgboost/xgboost/src/learner.cc:740: \n",
      "Parameters: { \"use_label_encoder\" } are not used.\n",
      "\n",
      "  warnings.warn(smsg, UserWarning)\n",
      "/Users/ramonwinkler/anaconda3/envs/Data Science/lib/python3.12/site-packages/xgboost/core.py:158: UserWarning: [21:38:25] WARNING: /Users/runner/work/xgboost/xgboost/src/learner.cc:740: \n",
      "Parameters: { \"use_label_encoder\" } are not used.\n",
      "\n",
      "  warnings.warn(smsg, UserWarning)\n",
      "/Users/ramonwinkler/anaconda3/envs/Data Science/lib/python3.12/site-packages/xgboost/core.py:158: UserWarning: [21:38:25] WARNING: /Users/runner/work/xgboost/xgboost/src/learner.cc:740: \n",
      "Parameters: { \"use_label_encoder\" } are not used.\n",
      "\n",
      "  warnings.warn(smsg, UserWarning)\n",
      "/Users/ramonwinkler/anaconda3/envs/Data Science/lib/python3.12/site-packages/xgboost/core.py:158: UserWarning: [21:38:25] WARNING: /Users/runner/work/xgboost/xgboost/src/learner.cc:740: \n",
      "Parameters: { \"use_label_encoder\" } are not used.\n",
      "\n",
      "  warnings.warn(smsg, UserWarning)\n",
      "/Users/ramonwinkler/anaconda3/envs/Data Science/lib/python3.12/site-packages/xgboost/core.py:158: UserWarning: [21:38:25] WARNING: /Users/runner/work/xgboost/xgboost/src/learner.cc:740: \n",
      "Parameters: { \"use_label_encoder\" } are not used.\n",
      "\n",
      "  warnings.warn(smsg, UserWarning)\n",
      "/Users/ramonwinkler/anaconda3/envs/Data Science/lib/python3.12/site-packages/xgboost/core.py:158: UserWarning: [21:38:25] WARNING: /Users/runner/work/xgboost/xgboost/src/learner.cc:740: \n",
      "Parameters: { \"use_label_encoder\" } are not used.\n",
      "\n",
      "  warnings.warn(smsg, UserWarning)\n",
      "/Users/ramonwinkler/anaconda3/envs/Data Science/lib/python3.12/site-packages/xgboost/core.py:158: UserWarning: [21:38:25] WARNING: /Users/runner/work/xgboost/xgboost/src/learner.cc:740: \n",
      "Parameters: { \"use_label_encoder\" } are not used.\n",
      "\n",
      "  warnings.warn(smsg, UserWarning)\n",
      "/Users/ramonwinkler/anaconda3/envs/Data Science/lib/python3.12/site-packages/xgboost/core.py:158: UserWarning: [21:38:25] WARNING: /Users/runner/work/xgboost/xgboost/src/learner.cc:740: \n",
      "Parameters: { \"use_label_encoder\" } are not used.\n",
      "\n",
      "  warnings.warn(smsg, UserWarning)\n",
      "/Users/ramonwinkler/anaconda3/envs/Data Science/lib/python3.12/site-packages/xgboost/core.py:158: UserWarning: [21:38:25] WARNING: /Users/runner/work/xgboost/xgboost/src/learner.cc:740: \n",
      "Parameters: { \"use_label_encoder\" } are not used.\n",
      "\n",
      "  warnings.warn(smsg, UserWarning)\n",
      "/Users/ramonwinkler/anaconda3/envs/Data Science/lib/python3.12/site-packages/xgboost/core.py:158: UserWarning: [21:38:25] WARNING: /Users/runner/work/xgboost/xgboost/src/learner.cc:740: \n",
      "Parameters: { \"use_label_encoder\" } are not used.\n",
      "\n",
      "  warnings.warn(smsg, UserWarning)\n",
      "/Users/ramonwinkler/anaconda3/envs/Data Science/lib/python3.12/site-packages/xgboost/core.py:158: UserWarning: [21:38:25] WARNING: /Users/runner/work/xgboost/xgboost/src/learner.cc:740: \n",
      "Parameters: { \"use_label_encoder\" } are not used.\n",
      "\n",
      "  warnings.warn(smsg, UserWarning)\n",
      "/Users/ramonwinkler/anaconda3/envs/Data Science/lib/python3.12/site-packages/xgboost/core.py:158: UserWarning: [21:38:26] WARNING: /Users/runner/work/xgboost/xgboost/src/learner.cc:740: \n",
      "Parameters: { \"use_label_encoder\" } are not used.\n",
      "\n",
      "  warnings.warn(smsg, UserWarning)\n",
      "/Users/ramonwinkler/anaconda3/envs/Data Science/lib/python3.12/site-packages/xgboost/core.py:158: UserWarning: [21:38:26] WARNING: /Users/runner/work/xgboost/xgboost/src/learner.cc:740: \n",
      "Parameters: { \"use_label_encoder\" } are not used.\n",
      "\n",
      "  warnings.warn(smsg, UserWarning)\n",
      "/Users/ramonwinkler/anaconda3/envs/Data Science/lib/python3.12/site-packages/xgboost/core.py:158: UserWarning: [21:38:26] WARNING: /Users/runner/work/xgboost/xgboost/src/learner.cc:740: \n",
      "Parameters: { \"use_label_encoder\" } are not used.\n",
      "\n",
      "  warnings.warn(smsg, UserWarning)\n",
      "/Users/ramonwinkler/anaconda3/envs/Data Science/lib/python3.12/site-packages/xgboost/core.py:158: UserWarning: [21:38:26] WARNING: /Users/runner/work/xgboost/xgboost/src/learner.cc:740: \n",
      "Parameters: { \"use_label_encoder\" } are not used.\n",
      "\n",
      "  warnings.warn(smsg, UserWarning)\n",
      "/Users/ramonwinkler/anaconda3/envs/Data Science/lib/python3.12/site-packages/xgboost/core.py:158: UserWarning: [21:38:26] WARNING: /Users/runner/work/xgboost/xgboost/src/learner.cc:740: \n",
      "Parameters: { \"use_label_encoder\" } are not used.\n",
      "\n",
      "  warnings.warn(smsg, UserWarning)\n",
      "/Users/ramonwinkler/anaconda3/envs/Data Science/lib/python3.12/site-packages/xgboost/core.py:158: UserWarning: [21:38:26] WARNING: /Users/runner/work/xgboost/xgboost/src/learner.cc:740: \n",
      "Parameters: { \"use_label_encoder\" } are not used.\n",
      "\n",
      "  warnings.warn(smsg, UserWarning)\n",
      "/Users/ramonwinkler/anaconda3/envs/Data Science/lib/python3.12/site-packages/xgboost/core.py:158: UserWarning: [21:38:26] WARNING: /Users/runner/work/xgboost/xgboost/src/learner.cc:740: \n",
      "Parameters: { \"use_label_encoder\" } are not used.\n",
      "\n",
      "  warnings.warn(smsg, UserWarning)\n",
      "/Users/ramonwinkler/anaconda3/envs/Data Science/lib/python3.12/site-packages/xgboost/core.py:158: UserWarning: [21:38:26] WARNING: /Users/runner/work/xgboost/xgboost/src/learner.cc:740: \n",
      "Parameters: { \"use_label_encoder\" } are not used.\n",
      "\n",
      "  warnings.warn(smsg, UserWarning)\n",
      "/Users/ramonwinkler/anaconda3/envs/Data Science/lib/python3.12/site-packages/xgboost/core.py:158: UserWarning: [21:38:26] WARNING: /Users/runner/work/xgboost/xgboost/src/learner.cc:740: \n",
      "Parameters: { \"use_label_encoder\" } are not used.\n",
      "\n",
      "  warnings.warn(smsg, UserWarning)\n",
      "/Users/ramonwinkler/anaconda3/envs/Data Science/lib/python3.12/site-packages/xgboost/core.py:158: UserWarning: [21:38:26] WARNING: /Users/runner/work/xgboost/xgboost/src/learner.cc:740: \n",
      "Parameters: { \"use_label_encoder\" } are not used.\n",
      "\n",
      "  warnings.warn(smsg, UserWarning)\n",
      "/Users/ramonwinkler/anaconda3/envs/Data Science/lib/python3.12/site-packages/xgboost/core.py:158: UserWarning: [21:38:26] WARNING: /Users/runner/work/xgboost/xgboost/src/learner.cc:740: \n",
      "Parameters: { \"use_label_encoder\" } are not used.\n",
      "\n",
      "  warnings.warn(smsg, UserWarning)\n"
     ]
    },
    {
     "name": "stdout",
     "output_type": "stream",
     "text": [
      "Best parameters found: {'subsample': 0.6, 'scale_pos_weight': 30, 'n_estimators': 200, 'min_child_weight': 1, 'max_depth': 3, 'learning_rate': 0.05, 'gamma': 0.5, 'colsample_bytree': 1.0}\n",
      "Best F1 Score: 0.6805907442769517\n"
     ]
    },
    {
     "name": "stderr",
     "output_type": "stream",
     "text": [
      "/Users/ramonwinkler/anaconda3/envs/Data Science/lib/python3.12/site-packages/xgboost/core.py:158: UserWarning: [21:38:26] WARNING: /Users/runner/work/xgboost/xgboost/src/learner.cc:740: \n",
      "Parameters: { \"use_label_encoder\" } are not used.\n",
      "\n",
      "  warnings.warn(smsg, UserWarning)\n",
      "/Users/ramonwinkler/anaconda3/envs/Data Science/lib/python3.12/site-packages/xgboost/core.py:158: UserWarning: [21:38:26] WARNING: /Users/runner/work/xgboost/xgboost/src/learner.cc:740: \n",
      "Parameters: { \"use_label_encoder\" } are not used.\n",
      "\n",
      "  warnings.warn(smsg, UserWarning)\n",
      "/Users/ramonwinkler/anaconda3/envs/Data Science/lib/python3.12/site-packages/xgboost/core.py:158: UserWarning: [21:38:26] WARNING: /Users/runner/work/xgboost/xgboost/src/learner.cc:740: \n",
      "Parameters: { \"use_label_encoder\" } are not used.\n",
      "\n",
      "  warnings.warn(smsg, UserWarning)\n"
     ]
    }
   ],
   "source": [
    "# Define parameter grid\n",
    "param_grid = {\n",
    "    'n_estimators': [100, 200, 300, 400, 500],\n",
    "    'max_depth': [3, 5, 7, 9, 10],\n",
    "    'learning_rate': [0.01, 0.05, 0.1, 0.2, 0.3],\n",
    "    'min_child_weight': [1, 3, 5, 7],\n",
    "    'gamma': [0, 0.1, 0.3, 0.5],\n",
    "    'subsample': [0.6, 0.8, 1.0],\n",
    "    'colsample_bytree': [0.6, 0.8, 1.0],\n",
    "    'scale_pos_weight': [1, 10, 20, 30]  # Adjust for imbalance\n",
    "}\n",
    "\n",
    "# Initialize XGBClassifier\n",
    "xgb_model = XGBClassifier(random_state=42, use_label_encoder=False, eval_metric='logloss')\n",
    "\n",
    "# Define scoring metric (F1 for minority class)\n",
    "f1_scorer = make_scorer(f1_score, pos_label=1)\n",
    "\n",
    "# Setup RandomizedSearchCV\n",
    "xgb_random_search = RandomizedSearchCV(\n",
    "    estimator=xgb_model,\n",
    "    param_distributions=param_grid,\n",
    "    n_iter=20,  # Define as per available resources\n",
    "    scoring=f1_scorer,\n",
    "    cv=5,\n",
    "    verbose=1,\n",
    "    random_state=42,\n",
    "    n_jobs=-1\n",
    ")\n",
    "\n",
    "# Fit model\n",
    "xgb_random_search.fit(X_train, y_train)\n",
    "\n",
    "# Print best parameters and score\n",
    "print(\"Best parameters found:\", xgb_random_search.best_params_)\n",
    "print(\"Best F1 Score:\", xgb_random_search.best_score_)"
   ]
  },
  {
   "cell_type": "code",
   "execution_count": 96,
   "metadata": {
    "colab": {
     "base_uri": "https://localhost:8080/"
    },
    "id": "WXlyNDinoAAN",
    "outputId": "905fdc1b-3cb9-4e72-8079-89761dbb8286"
   },
   "outputs": [
    {
     "name": "stdout",
     "output_type": "stream",
     "text": [
      "Confusion Matrix (Test):\n",
      "[[104 621]\n",
      " [  3 120]]\n",
      "\n",
      "Accuracy of Extreme Gradient Boost: 26.41509433962264 \n",
      "\n",
      "              precision    recall  f1-score   support\n",
      "\n",
      "           0       0.97      0.14      0.25       725\n",
      "           1       0.16      0.98      0.28       123\n",
      "\n",
      "    accuracy                           0.26       848\n",
      "   macro avg       0.57      0.56      0.26       848\n",
      "weighted avg       0.85      0.26      0.25       848\n",
      "\n"
     ]
    }
   ],
   "source": [
    "# Optimized Model\n",
    "m5 = \"Extreme Gradient Boost\"\n",
    "xgb = XGBClassifier(subsample= 0.8, scale_pos_weight= 30, n_estimators= 400, min_child_weight= 5, max_depth= 9, learning_rate= 0.01, gamma= 0.1, colsample_bytree= 1.0)\n",
    "\n",
    "xgb.fit(X_train, y_train)\n",
    "\n",
    "# Predict on the test set\n",
    "xgb_predict_test = xgb.predict(X_test)\n",
    "xgb_conf_matrix = confusion_matrix(y_test, xgb_predict_test)\n",
    "xgb_acc_score = accuracy_score(y_test, xgb_predict_test)\n",
    "\n",
    "# Print performance on the test set\n",
    "print(\"Confusion Matrix (Test):\")\n",
    "print(xgb_conf_matrix)\n",
    "print(\"\\nAccuracy of Extreme Gradient Boost:\", xgb_acc_score * 100, '\\n')\n",
    "print(classification_report(y_test, xgb_predict_test))"
   ]
  },
  {
   "cell_type": "markdown",
   "metadata": {
    "id": "RnWxjzFpoAAP"
   },
   "source": [
    "## kNN"
   ]
  },
  {
   "cell_type": "code",
   "execution_count": 97,
   "metadata": {
    "colab": {
     "base_uri": "https://localhost:8080/"
    },
    "id": "B_AEp7JHr1OG",
    "outputId": "7fd14674-fb20-4def-8385-11f01d30be0a"
   },
   "outputs": [
    {
     "name": "stdout",
     "output_type": "stream",
     "text": [
      "Test Set Performance:\n",
      "Confusion Matrix (Test):\n",
      "[[463 262]\n",
      " [ 57  66]]\n",
      "\n",
      "Accuracy of Model (Test): 62.382075471698116 \n",
      "\n",
      "              precision    recall  f1-score   support\n",
      "\n",
      "           0       0.89      0.64      0.74       725\n",
      "           1       0.20      0.54      0.29       123\n",
      "\n",
      "    accuracy                           0.62       848\n",
      "   macro avg       0.55      0.59      0.52       848\n",
      "weighted avg       0.79      0.62      0.68       848\n",
      "\n",
      "Model Performance Results: None\n"
     ]
    }
   ],
   "source": [
    "# Model 5: KNN\n",
    "m6 = \"KNN\"\n",
    "knn = KNeighborsClassifier()\n",
    "results = ml_model(knn, X_train, y_train, X_test, y_test)\n",
    "\n",
    "# Print results for further analysis\n",
    "print(\"Model Performance Results:\", results)"
   ]
  },
  {
   "cell_type": "code",
   "execution_count": 98,
   "metadata": {
    "colab": {
     "base_uri": "https://localhost:8080/"
    },
    "id": "-oydD8xKsM14",
    "outputId": "ecb14ca0-c714-4700-921e-0265a856235c"
   },
   "outputs": [
    {
     "name": "stdout",
     "output_type": "stream",
     "text": [
      "Fitting 5 folds for each of 20 candidates, totalling 100 fits\n",
      "Best parameters found: {'weights': 'uniform', 'n_neighbors': 15, 'metric': 'euclidean', 'algorithm': 'brute'}\n",
      "Best F1 Score: 0.6069198401399549\n"
     ]
    }
   ],
   "source": [
    "# Define parameter grid\n",
    "param_grid = {\n",
    "    'n_neighbors': [1, 3, 5, 7, 10, 15, 20, 25, 30],\n",
    "    'weights': ['uniform', 'distance'],\n",
    "    'metric': ['euclidean', 'manhattan', 'minkowski'],\n",
    "    'algorithm': ['auto', 'ball_tree', 'kd_tree', 'brute']\n",
    "}\n",
    "\n",
    "# Initialize kNN\n",
    "knn_model = KNeighborsClassifier()\n",
    "\n",
    "# Define scoring metric (F1 for minority class)\n",
    "f1_scorer = make_scorer(f1_score, pos_label=1)\n",
    "\n",
    "# Setup RandomizedSearchCV\n",
    "knn_random_search = RandomizedSearchCV(\n",
    "    estimator=knn_model,\n",
    "    param_distributions=param_grid,\n",
    "    n_iter=20,  # Define as per available resources\n",
    "    scoring=f1_scorer,\n",
    "    cv=5,\n",
    "    verbose=1,\n",
    "    random_state=42,\n",
    "    n_jobs=-1\n",
    ")\n",
    "\n",
    "# Fit model\n",
    "knn_random_search.fit(X_train, y_train)\n",
    "\n",
    "# Print best parameters and score\n",
    "print(\"Best parameters found:\", knn_random_search.best_params_)\n",
    "print(\"Best F1 Score:\", knn_random_search.best_score_)"
   ]
  },
  {
   "cell_type": "code",
   "execution_count": 99,
   "metadata": {
    "id": "4lYcpxDSoAAQ",
    "outputId": "e91d24fc-8f1a-4b3f-f31d-346c036c23e2"
   },
   "outputs": [
    {
     "name": "stdout",
     "output_type": "stream",
     "text": [
      "Confusion Matrix (Test):\n",
      "[[481 244]\n",
      " [ 53  70]]\n",
      "\n",
      "Accuracy of K-Neighbors Classifier: 64.97641509433963 \n",
      "\n",
      "              precision    recall  f1-score   support\n",
      "\n",
      "           0       0.90      0.66      0.76       725\n",
      "           1       0.22      0.57      0.32       123\n",
      "\n",
      "    accuracy                           0.65       848\n",
      "   macro avg       0.56      0.62      0.54       848\n",
      "weighted avg       0.80      0.65      0.70       848\n",
      "\n"
     ]
    }
   ],
   "source": [
    "# Initialize the K-Neighbors Classifier\n",
    "m5 = 'K-NeighborsClassifier'\n",
    "knn = KNeighborsClassifier(weights= 'uniform', n_neighbors= 15, metric= 'manhattan', algorithm= 'brute')\n",
    "\n",
    "# Fit the model with the undersampled training data\n",
    "knn.fit(X_train, y_train)\n",
    "\n",
    "# Predict on the test set\n",
    "knn_predict_test = knn.predict(X_test)\n",
    "knn_conf_matrix = confusion_matrix(y_test, knn_predict_test)\n",
    "knn_acc_score = accuracy_score(y_test, knn_predict_test)\n",
    "\n",
    "# Print performance on the test set\n",
    "print(\"Confusion Matrix (Test):\")\n",
    "print(knn_conf_matrix)\n",
    "print(\"\\nAccuracy of K-Neighbors Classifier:\", knn_acc_score * 100, '\\n')\n",
    "print(classification_report(y_test, knn_predict_test))"
   ]
  },
  {
   "cell_type": "markdown",
   "metadata": {
    "id": "cNXvu2fXoAAQ"
   },
   "source": [
    "## Support Vector Machine (SVM)"
   ]
  },
  {
   "cell_type": "code",
   "execution_count": 100,
   "metadata": {
    "id": "h8jT3_kwoAAR",
    "outputId": "863164ad-9a5e-4268-c035-65b6ec142522"
   },
   "outputs": [
    {
     "name": "stdout",
     "output_type": "stream",
     "text": [
      "Test Set Performance:\n",
      "Confusion Matrix (Test):\n",
      "[[477 248]\n",
      " [ 43  80]]\n",
      "\n",
      "Accuracy of Model (Test): 65.68396226415094 \n",
      "\n",
      "              precision    recall  f1-score   support\n",
      "\n",
      "           0       0.92      0.66      0.77       725\n",
      "           1       0.24      0.65      0.35       123\n",
      "\n",
      "    accuracy                           0.66       848\n",
      "   macro avg       0.58      0.65      0.56       848\n",
      "weighted avg       0.82      0.66      0.71       848\n",
      "\n",
      "Model Performance Results: None\n"
     ]
    }
   ],
   "source": [
    "# Model 5: Support Vector Machine\n",
    "m7 = \"SVM\"\n",
    "svm = SVC()\n",
    "results = ml_model(svm, X_train, y_train, X_test, y_test)\n",
    "\n",
    "# Print results for further analysis\n",
    "print(\"Model Performance Results:\", results)"
   ]
  },
  {
   "cell_type": "code",
   "execution_count": 101,
   "metadata": {
    "colab": {
     "base_uri": "https://localhost:8080/",
     "height": 373
    },
    "id": "A9fcb3qxsxZx",
    "outputId": "4f271d6f-a02c-474c-c786-8c0a0323df3b"
   },
   "outputs": [
    {
     "name": "stdout",
     "output_type": "stream",
     "text": [
      "Fitting 5 folds for each of 10 candidates, totalling 50 fits\n",
      "Best parameters found: {'kernel': 'sigmoid', 'gamma': 0.001, 'degree': 4, 'class_weight': None, 'C': 10}\n",
      "Best F1 Score: 0.6732338035049155\n"
     ]
    }
   ],
   "source": [
    "# Define parameter grid\n",
    "param_grid = {\n",
    "    'C': [0.1, 1, 10, 100, 1000],\n",
    "    'kernel': ['linear', 'poly', 'rbf', 'sigmoid'],\n",
    "    'gamma': [0.001, 0.01, 0.1, 1],\n",
    "    'degree': [2, 3, 4, 5],  # Only used for 'poly' kernel\n",
    "    'class_weight': [None, 'balanced']\n",
    "}\n",
    "\n",
    "# Initialize SVM\n",
    "svm_model = SVC()\n",
    "\n",
    "# Define scoring metric (F1 for minority class)\n",
    "f1_scorer = make_scorer(f1_score, pos_label=1)\n",
    "\n",
    "# Setup RandomizedSearchCV\n",
    "svm_random_search = RandomizedSearchCV(\n",
    "    estimator=svm_model,\n",
    "    param_distributions=param_grid,\n",
    "    n_iter=10,  \n",
    "    scoring=f1_scorer,\n",
    "    cv=5,\n",
    "    verbose=1,\n",
    "    random_state=42,\n",
    "    n_jobs=-1\n",
    ")\n",
    "\n",
    "# Fit model\n",
    "svm_random_search.fit(X_train, y_train)\n",
    "\n",
    "# Print best parameters and score\n",
    "print(\"Best parameters found:\", svm_random_search.best_params_)\n",
    "print(\"Best F1 Score:\", svm_random_search.best_score_)"
   ]
  },
  {
   "cell_type": "code",
   "execution_count": 102,
   "metadata": {
    "colab": {
     "base_uri": "https://localhost:8080/"
    },
    "id": "_3JTHv0ks8An",
    "outputId": "30acf38b-70b2-45c5-d0e2-502ad9dc44b2"
   },
   "outputs": [
    {
     "name": "stdout",
     "output_type": "stream",
     "text": [
      "Confusion Matrix (Test):\n",
      "[[493 232]\n",
      " [ 43  80]]\n",
      "\n",
      "Accuracy of Support Vector Classifier: 67.57075471698113 \n",
      "\n",
      "              precision    recall  f1-score   support\n",
      "\n",
      "           0       0.92      0.68      0.78       725\n",
      "           1       0.26      0.65      0.37       123\n",
      "\n",
      "    accuracy                           0.68       848\n",
      "   macro avg       0.59      0.67      0.57       848\n",
      "weighted avg       0.82      0.68      0.72       848\n",
      "\n"
     ]
    }
   ],
   "source": [
    "# Optimized Model\n",
    "m7 = 'Support Vector Classifier'\n",
    "svc = SVC(kernel= 'sigmoid', gamma= 0.01, degree= 5, class_weight= 'balanced', C= 1)\n",
    "\n",
    "# Fit the model with the undersampled training data\n",
    "svc.fit(X_train, y_train)\n",
    "\n",
    "# Predict on the test set\n",
    "svc_predict_test = svc.predict(X_test)\n",
    "svc_conf_matrix = confusion_matrix(y_test, svc_predict_test)\n",
    "svc_acc_score = accuracy_score(y_test, svc_predict_test)\n",
    "\n",
    "# Print performance on the test set\n",
    "print(\"Confusion Matrix (Test):\")\n",
    "print(svc_conf_matrix)\n",
    "print(\"\\nAccuracy of Support Vector Classifier:\", svc_acc_score * 100, '\\n')\n",
    "print(classification_report(y_test, svc_predict_test))"
   ]
  },
  {
   "cell_type": "markdown",
   "metadata": {
    "id": "3wy10it7oAAR"
   },
   "source": [
    "## ROC curve for models with undersampling"
   ]
  },
  {
   "cell_type": "code",
   "execution_count": 103,
   "metadata": {
    "id": "CvEJ1ZUvoAAR",
    "outputId": "272704b8-882b-4e7a-e71f-d174c0c674a1"
   },
   "outputs": [
    {
     "data": {
      "image/png": "[encoded data removed]",
      "text/plain": [
       "<Figure size 1000x500 with 1 Axes>"
      ]
     },
     "metadata": {},
     "output_type": "display_data"
    }
   ],
   "source": [
    "import matplotlib.pyplot as plt\n",
    "import seaborn as sns\n",
    "\n",
    "lr_false_positive_rate,lr_true_positive_rate,lr_threshold = roc_curve(y_test,lr_predict_test)\n",
    "nb_false_positive_rate,nb_true_positive_rate,nb_threshold = roc_curve(y_test,nb_predict_test)\n",
    "rf_false_positive_rate,rf_true_positive_rate,rf_threshold = roc_curve(y_test,rf_predict_test)\n",
    "xgb_false_positive_rate,xgb_true_positive_rate,xgb_threshold = roc_curve(y_test,xgb_predict_test)\n",
    "knn_false_positive_rate,knn_true_positive_rate,knn_threshold = roc_curve(y_test,knn_predict_test)\n",
    "dt_false_positive_rate,dt_true_positive_rate,dt_threshold = roc_curve(y_test,dt_predict_test)\n",
    "svc_false_positive_rate,svc_true_positive_rate,svc_threshold = roc_curve(y_test,svc_predict_test)\n",
    "\n",
    "\n",
    "sns.set_style('whitegrid')\n",
    "plt.figure(figsize=(10,5))\n",
    "plt.title('Reciver Operating Characterstic Curve')\n",
    "plt.plot(lr_false_positive_rate,lr_true_positive_rate,label='Logistic Regression')\n",
    "plt.plot(nb_false_positive_rate,nb_true_positive_rate,label='Naive Bayes')\n",
    "plt.plot(rf_false_positive_rate,rf_true_positive_rate,label='Random Forest')\n",
    "plt.plot(xgb_false_positive_rate,xgb_true_positive_rate,label='Extreme Gradient Boost')\n",
    "plt.plot(knn_false_positive_rate,knn_true_positive_rate,label='K-Nearest Neighbor')\n",
    "plt.plot(dt_false_positive_rate,dt_true_positive_rate,label='Decision Tree')\n",
    "plt.plot(svc_false_positive_rate,svc_true_positive_rate,label='Support Vector Classifier')\n",
    "plt.plot([0,1],ls='--')\n",
    "plt.plot([0,0],[1,0],c='.5')\n",
    "plt.plot([1,1],c='.5')\n",
    "plt.ylabel('True positive rate')\n",
    "plt.xlabel('False positive rate')\n",
    "plt.legend()\n",
    "plt.show()"
   ]
  },
  {
   "cell_type": "markdown",
   "metadata": {
    "id": "pYeO3iraoAAR"
   },
   "source": [
    "## Results\n",
    "\n",
    "As the Target == 1 was the main problem to predict, we tried to optimized the F1-score rather then the accuracy.\n",
    "For each model we build a random grid with potential hyperparameters to optimize a model.\n",
    "The \"best\" model was applied and printed into the Receiver Operation Characteristic Curve"
   ]
  },
  {
   "cell_type": "markdown",
   "metadata": {
    "id": "kCGJZfCZoAAS"
   },
   "source": [
    "# Machine Learning with Oversampling Minority Class\n",
    "\n",
    "The same process is repeated with oversampling the minority class (target==1)"
   ]
  },
  {
   "cell_type": "code",
   "execution_count": 104,
   "metadata": {
    "id": "Gat0qDKSoAAS"
   },
   "outputs": [],
   "source": [
    "# Prepare the originial data for oversampling\n",
    "df2 = pd.read_csv(\"01_framingham_clean.csv\")\n",
    "X1 = df2.drop(columns=[\"TenYearCHD\"])\n",
    "y1 = df2[\"TenYearCHD\"]\n",
    "\n",
    "# Split the data into training and testing sets\n",
    "\n",
    "from sklearn.model_selection import train_test_split\n",
    "\n",
    "X_train1, X_test1, y_train1, y_test1 = train_test_split(X1, y1, test_size=0.2, random_state=42)\n",
    "\n",
    "from sklearn.preprocessing import StandardScaler\n",
    "\n",
    "# Initialize the scaler\n",
    "scaler = StandardScaler()\n",
    "\n",
    "# Fit on the training data and transform it\n",
    "X_train1 = scaler.fit_transform(X_train1)\n",
    "\n",
    "# Use the same scaler to transform the test data\n",
    "X_test1 = scaler.transform(X_test1)\n",
    "\n",
    "# Oversampling\n",
    "from imblearn.over_sampling import RandomOverSampler\n",
    "\n",
    "# oversample = RandomOverSampler(sampling_strategy='minority')\n",
    "oversample = RandomOverSampler(sampling_strategy=1)\n",
    "X_over1, y_over1 = oversample.fit_resample(X_train1, y_train1)\n",
    "\n",
    "X_train1 = X_over1\n",
    "y_train1 = y_over1"
   ]
  },
  {
   "cell_type": "markdown",
   "metadata": {
    "id": "sZetvyOYoAAY"
   },
   "source": [
    "## Adjustment of Function"
   ]
  },
  {
   "cell_type": "code",
   "execution_count": 105,
   "metadata": {
    "id": "farRxRZPoAAY"
   },
   "outputs": [],
   "source": [
    "def ml_model_os(model, X_train1, y_train1, X_test1, y_test1):\n",
    "\n",
    "    # Fit the model\n",
    "    model.fit(X_train1, y_train1)\n",
    "\n",
    "    # Predict on the test set\n",
    "    y_pred_test1 = model.predict(X_test1)\n",
    "\n",
    "    # Calculate performance metrics for the test set\n",
    "    acc_test1 = accuracy_score(y_test1, y_pred_test1)\n",
    "    prec_test1 = precision_score(y_test1, y_pred_test1)\n",
    "    rec_test1 = recall_score(y_test1, y_pred_test1)\n",
    "    f1_test1 = f1_score(y_test1, y_pred_test1)\n",
    "\n",
    "    # Print performance on the test set\n",
    "    print(\"Test Set Performance:\")\n",
    "    print(\"Confusion Matrix (Test):\")\n",
    "    print(confusion_matrix(y_test1, y_pred_test1))\n",
    "    print(\"\\nAccuracy of Model (Test):\", acc_test1 * 100, \"\\n\")\n",
    "    print(classification_report(y_test1, y_pred_test1))"
   ]
  },
  {
   "cell_type": "markdown",
   "metadata": {
    "id": "wcx9eoNMoAAZ"
   },
   "source": [
    "## Logistic Regression"
   ]
  },
  {
   "cell_type": "markdown",
   "metadata": {
    "id": "qFw_UMBaoAAZ"
   },
   "source": []
  },
  {
   "cell_type": "code",
   "execution_count": 106,
   "metadata": {
    "id": "qt1bDDbQoAAZ",
    "outputId": "7789ae0e-4d98-4f11-ccb4-51dabddf592a"
   },
   "outputs": [
    {
     "name": "stdout",
     "output_type": "stream",
     "text": [
      "Test Set Performance:\n",
      "Confusion Matrix (Test):\n",
      "[[485 240]\n",
      " [ 49  74]]\n",
      "\n",
      "Accuracy of Model (Test): 65.91981132075472 \n",
      "\n",
      "              precision    recall  f1-score   support\n",
      "\n",
      "           0       0.91      0.67      0.77       725\n",
      "           1       0.24      0.60      0.34       123\n",
      "\n",
      "    accuracy                           0.66       848\n",
      "   macro avg       0.57      0.64      0.55       848\n",
      "weighted avg       0.81      0.66      0.71       848\n",
      "\n",
      "Model Performance Results: None\n"
     ]
    }
   ],
   "source": [
    "# Model 1: Logistic Regression\n",
    "m1 = \"Logistic Regression\"\n",
    "lr = LogisticRegression()\n",
    "# Assuming you have X_train, y_train, X_test, y_test, X_val, y_val ready\n",
    "results = ml_model_os(lr, X_train1, y_train1, X_test1, y_test1)\n",
    "\n",
    "# Print results for further analysis\n",
    "print(\"Model Performance Results:\", results)"
   ]
  },
  {
   "cell_type": "code",
   "execution_count": 107,
   "metadata": {
    "id": "2H3W0Jf7zL4V"
   },
   "outputs": [
    {
     "name": "stdout",
     "output_type": "stream",
     "text": [
      "Fitting 5 folds for each of 10 candidates, totalling 50 fits\n",
      "Best parameters found: {'solver': 'liblinear', 'penalty': 'l2', 'max_iter': 100, 'C': 0.1}\n",
      "Best F1 score for target == 1: 0.676975227533654\n"
     ]
    }
   ],
   "source": [
    "# try to focus f1-score to target== 1\n",
    "f1_scorer = make_scorer(f1_score, pos_label=1)\n",
    "\n",
    "param_grid_lr = {\n",
    "    \"C\": [0.1, 1, 10, 100],\n",
    "    'penalty': [\"l2\"],\n",
    "    \"solver\": [\"lbfgs\", \"liblinear\"],\n",
    "    \"max_iter\": [100, 200, 300]\n",
    "}\n",
    "\n",
    "lr_model = LogisticRegression()\n",
    "results = RandomizedSearchCV(\n",
    "    estimator=lr_model,\n",
    "    param_distributions=param_grid_lr,\n",
    "    n_iter=10,\n",
    "    cv=5,\n",
    "    scoring=f1_scorer,\n",
    "    random_state=42,\n",
    "    verbose=1,\n",
    "    n_jobs=-1\n",
    ")\n",
    "\n",
    "results.fit(X_train1, y_train1)\n",
    "\n",
    "print(\"Best parameters found:\", results.best_params_)\n",
    "print(\"Best F1 score for target == 1:\", results.best_score_)"
   ]
  },
  {
   "cell_type": "code",
   "execution_count": 108,
   "metadata": {
    "id": "PJYdU4R6zL-V"
   },
   "outputs": [
    {
     "name": "stdout",
     "output_type": "stream",
     "text": [
      "Test Set Performance:\n",
      "Confusion Matrix (Test):\n",
      "[[484 241]\n",
      " [ 48  75]]\n",
      "\n",
      "Accuracy of Logistic Regression model (Test): 65.91981132075472 \n",
      "\n",
      "              precision    recall  f1-score   support\n",
      "\n",
      "           0       0.91      0.67      0.77       725\n",
      "           1       0.24      0.61      0.34       123\n",
      "\n",
      "    accuracy                           0.66       848\n",
      "   macro avg       0.57      0.64      0.56       848\n",
      "weighted avg       0.81      0.66      0.71       848\n",
      "\n"
     ]
    }
   ],
   "source": [
    "# Apply improved model\n",
    "\n",
    "lr = LogisticRegression(solver= 'lbfgs', penalty= 'l2', max_iter= 100, C= 0.1)\n",
    "# Fit the model\n",
    "lr.fit(X_train1, y_train1)\n",
    "\n",
    "# Predict on the test set\n",
    "lr_predict_test1 = lr.predict(X_test1)\n",
    "lr_conf_matrix_test1 = confusion_matrix(y_test1, lr_predict_test1)\n",
    "lr_acc_score_test1 = accuracy_score(y_test1, lr_predict_test1)\n",
    "\n",
    "# Print performance on the test set\n",
    "print(\"Test Set Performance:\")\n",
    "print(\"Confusion Matrix (Test):\")\n",
    "print(lr_conf_matrix_test1)\n",
    "print(\"\\nAccuracy of Logistic Regression model (Test):\",lr_acc_score_test1 * 100, \"\\n\")\n",
    "print(classification_report(y_test1, lr_predict_test1))"
   ]
  },
  {
   "cell_type": "markdown",
   "metadata": {
    "id": "35p3G8sDoAAZ"
   },
   "source": [
    "## Naive Bayes"
   ]
  },
  {
   "cell_type": "code",
   "execution_count": 109,
   "metadata": {
    "id": "QCdwalNsoAAZ",
    "outputId": "822b497f-1ba8-42c3-dd41-a2204df7c40e"
   },
   "outputs": [
    {
     "name": "stdout",
     "output_type": "stream",
     "text": [
      "Test Set Performance:\n",
      "Confusion Matrix (Test):\n",
      "[[666  59]\n",
      " [ 95  28]]\n",
      "\n",
      "Accuracy of Model (Test): 81.83962264150944 \n",
      "\n",
      "              precision    recall  f1-score   support\n",
      "\n",
      "           0       0.88      0.92      0.90       725\n",
      "           1       0.32      0.23      0.27       123\n",
      "\n",
      "    accuracy                           0.82       848\n",
      "   macro avg       0.60      0.57      0.58       848\n",
      "weighted avg       0.79      0.82      0.81       848\n",
      "\n",
      "Model Performance Results: None\n"
     ]
    }
   ],
   "source": [
    "# Model 2: Naive Bayes\n",
    "m2 = \"Logistic Regression\"\n",
    "nb = GaussianNB()\n",
    "# Assuming you have X_train, y_train, X_test, y_test, X_val, y_val ready\n",
    "results = ml_model_os(nb, X_train1, y_train1, X_test1, y_test1)\n",
    "\n",
    "# Print results for further analysis\n",
    "print(\"Model Performance Results:\", results)"
   ]
  },
  {
   "cell_type": "code",
   "execution_count": 110,
   "metadata": {
    "id": "KeGl5fRLz3Nx"
   },
   "outputs": [
    {
     "name": "stdout",
     "output_type": "stream",
     "text": [
      "Fitting 5 folds for each of 5 candidates, totalling 25 fits\n",
      "Best parameters found: {'var_smoothing': 1e-09}\n",
      "Best score: 0.44056819712551054\n"
     ]
    }
   ],
   "source": [
    "# optimization of the Naive Bayes model\n",
    "\n",
    "f1_scorer = make_scorer(f1_score, pos_label=1)\n",
    "# grid\n",
    "param_grid_nb = {\n",
    "    \"var_smoothing\": [1e-9, 1e-8, 1e-7, 1e-6, 1e-5]\n",
    "}\n",
    "\n",
    "# train the model\n",
    "nb_model = GaussianNB()\n",
    "\n",
    "results = RandomizedSearchCV(\n",
    "    estimator=nb_model,\n",
    "    param_distributions=param_grid_nb,\n",
    "    n_iter=5,\n",
    "    cv=5,\n",
    "    random_state=42,\n",
    "    verbose=1,\n",
    "    n_jobs=-1,\n",
    "    scoring=f1_scorer\n",
    ")\n",
    "\n",
    "results.fit(X_train1, y_train1)\n",
    "\n",
    "# Return the best model\n",
    "print(\"Best parameters found:\", results.best_params_)\n",
    "print(\"Best score:\", results.best_score_)"
   ]
  },
  {
   "cell_type": "code",
   "execution_count": 111,
   "metadata": {
    "id": "1IkcYSipz3Ql"
   },
   "outputs": [
    {
     "name": "stdout",
     "output_type": "stream",
     "text": [
      "Test Set Performance:\n",
      "Confusion Matrix (Test):\n",
      "[[666  59]\n",
      " [ 95  28]]\n",
      "\n",
      "Accuracy of Logistic Regression model (Test): 81.83962264150944 \n",
      "\n",
      "              precision    recall  f1-score   support\n",
      "\n",
      "           0       0.88      0.92      0.90       725\n",
      "           1       0.32      0.23      0.27       123\n",
      "\n",
      "    accuracy                           0.82       848\n",
      "   macro avg       0.60      0.57      0.58       848\n",
      "weighted avg       0.79      0.82      0.81       848\n",
      "\n"
     ]
    }
   ],
   "source": [
    "# Apply improved model\n",
    "\n",
    "nb = GaussianNB(var_smoothing= 1e-09)\n",
    "# Fit the model\n",
    "nb.fit(X_train1, y_train1)\n",
    "\n",
    "# Predict on the test set\n",
    "nb_predict_test1 = nb.predict(X_test1)\n",
    "nb_conf_matrix_test1 = confusion_matrix(y_test1, nb_predict_test1)\n",
    "nb_acc_score_test1 = accuracy_score(y_test1, nb_predict_test1)\n",
    "\n",
    "# Print performance on the test set\n",
    "print(\"Test Set Performance:\")\n",
    "print(\"Confusion Matrix (Test):\")\n",
    "print(nb_conf_matrix_test1)\n",
    "print(\"\\nAccuracy of Logistic Regression model (Test):\", nb_acc_score_test1 * 100, \"\\n\")\n",
    "print(classification_report(y_test1, nb_predict_test1))"
   ]
  },
  {
   "cell_type": "markdown",
   "metadata": {
    "id": "aJdiHutdoAAa"
   },
   "source": [
    "## Decision Tree"
   ]
  },
  {
   "cell_type": "code",
   "execution_count": 112,
   "metadata": {
    "id": "cGVsIRM6oAAa",
    "outputId": "14321ecb-9c2f-4a2d-a5a8-3a9e368a6832"
   },
   "outputs": [
    {
     "name": "stdout",
     "output_type": "stream",
     "text": [
      "Test Set Performance:\n",
      "Confusion Matrix (Test):\n",
      "[[624 101]\n",
      " [ 96  27]]\n",
      "\n",
      "Accuracy of Model (Test): 76.76886792452831 \n",
      "\n",
      "              precision    recall  f1-score   support\n",
      "\n",
      "           0       0.87      0.86      0.86       725\n",
      "           1       0.21      0.22      0.22       123\n",
      "\n",
      "    accuracy                           0.77       848\n",
      "   macro avg       0.54      0.54      0.54       848\n",
      "weighted avg       0.77      0.77      0.77       848\n",
      "\n",
      "Model Performance Results: None\n"
     ]
    }
   ],
   "source": [
    "# Model 3: Decision Tree\n",
    "m3 = \"Decision Tree\"\n",
    "dt = DecisionTreeClassifier()\n",
    "results = ml_model_os(dt, X_train1, y_train1, X_test1, y_test1)\n",
    "\n",
    "# Print results for further analysis\n",
    "print(\"Model Performance Results:\", results)"
   ]
  },
  {
   "cell_type": "code",
   "execution_count": 113,
   "metadata": {
    "id": "GiIZakR6oAAa"
   },
   "outputs": [
    {
     "name": "stdout",
     "output_type": "stream",
     "text": [
      "Fitting 10 folds for each of 20 candidates, totalling 200 fits\n",
      "Best parameters found: {'splitter': 'best', 'min_samples_split': 4, 'min_samples_leaf': 2, 'max_features': None, 'max_depth': None, 'criterion': 'entropy'}\n",
      "Best score: 0.9125415498840755\n"
     ]
    }
   ],
   "source": [
    "# Improve the Decision Tree model\n",
    "f1_scorer = make_scorer(f1_score, pos_label=1)\n",
    "param_grid_dt = {\n",
    "    \"criterion\": [\"gini\", \"entropy\"],\n",
    "    \"max_depth\": [3, 5, 7, 9, 11, None],\n",
    "    \"min_samples_split\": [2, 4, 6, 8, 10],\n",
    "    \"min_samples_leaf\": [1, 2, 3, 4, 5],\n",
    "    \"max_features\": [None, \"sqrt\", \"log2\"],\n",
    "    \"splitter\": [\"best\", \"random\"],\n",
    "}\n",
    "\n",
    "# train the model\n",
    "dt_model = DecisionTreeClassifier()\n",
    "\n",
    "results = RandomizedSearchCV(\n",
    "    estimator=dt_model,\n",
    "    param_distributions=param_grid_dt,\n",
    "    n_iter=20,\n",
    "    cv=10,\n",
    "    random_state=42,\n",
    "    verbose=1,\n",
    "    n_jobs=-1,\n",
    "    scoring=f1_scorer\n",
    ")\n",
    "\n",
    "results.fit(X_train1, y_train1)\n",
    "\n",
    "# Return the best model\n",
    "\n",
    "print(\"Best parameters found:\", results.best_params_)\n",
    "print(\"Best score:\", results.best_score_)"
   ]
  },
  {
   "cell_type": "code",
   "execution_count": 114,
   "metadata": {
    "id": "WxEZl98o0nZV"
   },
   "outputs": [
    {
     "name": "stdout",
     "output_type": "stream",
     "text": [
      "Test Set Performance:\n",
      "Confusion Matrix (Test):\n",
      "[[622 103]\n",
      " [ 93  30]]\n",
      "\n",
      "Accuracy of Decision Tree (Test): 76.88679245283019 \n",
      "\n",
      "              precision    recall  f1-score   support\n",
      "\n",
      "           0       0.87      0.86      0.86       725\n",
      "           1       0.23      0.24      0.23       123\n",
      "\n",
      "    accuracy                           0.77       848\n",
      "   macro avg       0.55      0.55      0.55       848\n",
      "weighted avg       0.78      0.77      0.77       848\n",
      "\n"
     ]
    }
   ],
   "source": [
    "# Model 3: Decision Tree\n",
    "m3 = \"Decision Tree\"\n",
    "dt = DecisionTreeClassifier(splitter= 'best', min_samples_split= 4, min_samples_leaf= 2, max_features= None, max_depth= None, criterion= 'entropy')\n",
    "dt.fit(X_train1, y_train1)\n",
    "\n",
    "# Predict on the test set\n",
    "dt_predict_test1 = dt.predict(X_test1)\n",
    "dt_conf_matrix_test1 = confusion_matrix(y_test1, dt_predict_test1)\n",
    "dt_acc_score_test1 = accuracy_score(y_test1, dt_predict_test1)\n",
    "\n",
    "# Print performance on the test set\n",
    "print(\"Test Set Performance:\")\n",
    "print(\"Confusion Matrix (Test):\")\n",
    "print(dt_conf_matrix_test1)\n",
    "print(\"\\nAccuracy of Decision Tree (Test):\", dt_acc_score_test1 * 100, \"\\n\")\n",
    "print(classification_report(y_test1, dt_predict_test1))"
   ]
  },
  {
   "cell_type": "markdown",
   "metadata": {
    "id": "YSmYBbUFoAAa"
   },
   "source": [
    "## Random Forest"
   ]
  },
  {
   "cell_type": "code",
   "execution_count": 115,
   "metadata": {
    "id": "vlZ1esw-oAAa",
    "outputId": "2db2154b-9425-4ad0-90c8-a03a05c766e3"
   },
   "outputs": [
    {
     "name": "stdout",
     "output_type": "stream",
     "text": [
      "Test Set Performance:\n",
      "Confusion Matrix (Test):\n",
      "[[701  24]\n",
      " [110  13]]\n",
      "\n",
      "Accuracy of Model (Test): 84.19811320754717 \n",
      "\n",
      "              precision    recall  f1-score   support\n",
      "\n",
      "           0       0.86      0.97      0.91       725\n",
      "           1       0.35      0.11      0.16       123\n",
      "\n",
      "    accuracy                           0.84       848\n",
      "   macro avg       0.61      0.54      0.54       848\n",
      "weighted avg       0.79      0.84      0.80       848\n",
      "\n",
      "Model Performance Results: None\n"
     ]
    }
   ],
   "source": [
    "# Model 4: Random Forest\n",
    "m4 = \"Random Forest\"\n",
    "rf = RandomForestClassifier()\n",
    "results = ml_model_os(rf, X_train1, y_train1, X_test1, y_test1)\n",
    "\n",
    "# Print results for further analysis\n",
    "print(\"Model Performance Results:\", results)"
   ]
  },
  {
   "cell_type": "code",
   "execution_count": 116,
   "metadata": {
    "id": "djcpGkZ51Sun"
   },
   "outputs": [
    {
     "name": "stdout",
     "output_type": "stream",
     "text": [
      "Fitting 5 folds for each of 20 candidates, totalling 100 fits\n"
     ]
    },
    {
     "name": "stderr",
     "output_type": "stream",
     "text": [
      "/Users/ramonwinkler/anaconda3/envs/Data Science/lib/python3.12/site-packages/sklearn/model_selection/_validation.py:540: FitFailedWarning: \n",
      "20 fits failed out of a total of 100.\n",
      "The score on these train-test partitions for these parameters will be set to nan.\n",
      "If these failures are not expected, you can try to debug them by setting error_score='raise'.\n",
      "\n",
      "Below are more details about the failures:\n",
      "--------------------------------------------------------------------------------\n",
      "13 fits failed with the following error:\n",
      "Traceback (most recent call last):\n",
      "  File \"/Users/ramonwinkler/anaconda3/envs/Data Science/lib/python3.12/site-packages/sklearn/model_selection/_validation.py\", line 888, in _fit_and_score\n",
      "    estimator.fit(X_train, y_train, **fit_params)\n",
      "  File \"/Users/ramonwinkler/anaconda3/envs/Data Science/lib/python3.12/site-packages/sklearn/base.py\", line 1466, in wrapper\n",
      "    estimator._validate_params()\n",
      "  File \"/Users/ramonwinkler/anaconda3/envs/Data Science/lib/python3.12/site-packages/sklearn/base.py\", line 666, in _validate_params\n",
      "    validate_parameter_constraints(\n",
      "  File \"/Users/ramonwinkler/anaconda3/envs/Data Science/lib/python3.12/site-packages/sklearn/utils/_param_validation.py\", line 95, in validate_parameter_constraints\n",
      "    raise InvalidParameterError(\n",
      "sklearn.utils._param_validation.InvalidParameterError: The 'max_features' parameter of RandomForestClassifier must be an int in the range [1, inf), a float in the range (0.0, 1.0], a str among {'log2', 'sqrt'} or None. Got 'auto' instead.\n",
      "\n",
      "--------------------------------------------------------------------------------\n",
      "7 fits failed with the following error:\n",
      "Traceback (most recent call last):\n",
      "  File \"/Users/ramonwinkler/anaconda3/envs/Data Science/lib/python3.12/site-packages/sklearn/model_selection/_validation.py\", line 888, in _fit_and_score\n",
      "    estimator.fit(X_train, y_train, **fit_params)\n",
      "  File \"/Users/ramonwinkler/anaconda3/envs/Data Science/lib/python3.12/site-packages/sklearn/base.py\", line 1466, in wrapper\n",
      "    estimator._validate_params()\n",
      "  File \"/Users/ramonwinkler/anaconda3/envs/Data Science/lib/python3.12/site-packages/sklearn/base.py\", line 666, in _validate_params\n",
      "    validate_parameter_constraints(\n",
      "  File \"/Users/ramonwinkler/anaconda3/envs/Data Science/lib/python3.12/site-packages/sklearn/utils/_param_validation.py\", line 95, in validate_parameter_constraints\n",
      "    raise InvalidParameterError(\n",
      "sklearn.utils._param_validation.InvalidParameterError: The 'max_features' parameter of RandomForestClassifier must be an int in the range [1, inf), a float in the range (0.0, 1.0], a str among {'sqrt', 'log2'} or None. Got 'auto' instead.\n",
      "\n",
      "  warnings.warn(some_fits_failed_message, FitFailedWarning)\n",
      "/Users/ramonwinkler/anaconda3/envs/Data Science/lib/python3.12/site-packages/sklearn/model_selection/_search.py:1102: UserWarning: One or more of the test scores are non-finite: [0.93368426        nan 0.95745566 0.98201362 0.91420411 0.95205517\n",
      "        nan        nan 0.92850576 0.87215798 0.87244271 0.90253168\n",
      " 0.8662695  0.87058384 0.96354709 0.95187268 0.86446599 0.96322956\n",
      " 0.92855758        nan]\n",
      "  warnings.warn(\n"
     ]
    },
    {
     "name": "stdout",
     "output_type": "stream",
     "text": [
      "Best parameters found: {'n_estimators': 2000, 'min_samples_split': 2, 'min_samples_leaf': 2, 'max_features': 'sqrt', 'max_depth': 70, 'bootstrap': False}\n",
      "Best F1 Score: 0.9820136186235728\n"
     ]
    }
   ],
   "source": [
    "# Number of trees in random forest\n",
    "n_estimators = [100, 200, 400, 600, 800, 1000, 1200, 1400, 1600, 1800, 2000]\n",
    "\n",
    "# Number of features to consider at every split\n",
    "max_features = ['auto', 'sqrt', None]\n",
    "\n",
    "# Maximum number of levels in tree\n",
    "max_depth = [10, 20, 30, 40, 50, 60, 70, 80, 90, 100, None]\n",
    "\n",
    "# Minimum number of samples required to split a node\n",
    "min_samples_split = [2, 5, 10]\n",
    "\n",
    "# Minimum number of samples required at each leaf node\n",
    "min_samples_leaf = [1, 2, 4]\n",
    "\n",
    "# Method of selecting samples for training each tree\n",
    "bootstrap = [True, False]\n",
    "\n",
    "# random grid for the predefined parameters\n",
    "random_grid = {'n_estimators': n_estimators,\n",
    "               'max_features': max_features,\n",
    "               'max_depth': max_depth,\n",
    "               'min_samples_split': min_samples_split,\n",
    "               'min_samples_leaf': min_samples_leaf,\n",
    "               'bootstrap': bootstrap}\n",
    "# Initialize Random Forest\n",
    "rf_model = RandomForestClassifier(random_state=42)\n",
    "\n",
    "# Define scoring metric\n",
    "f1_scorer = make_scorer(f1_score, pos_label=1)\n",
    "\n",
    "# Setup RandomizedSearchCV\n",
    "rf_random_search = RandomizedSearchCV(\n",
    "    estimator=rf_model,\n",
    "    param_distributions=random_grid,\n",
    "    n_iter=20,\n",
    "    cv=5,\n",
    "    verbose=1,\n",
    "    random_state=42,\n",
    "    n_jobs=-1,\n",
    "    scoring=f1_scorer\n",
    ")\n",
    "\n",
    "# Fit model\n",
    "rf_random_search.fit(X_train1, y_train1)\n",
    "\n",
    "# Print best parameters and score\n",
    "print(\"Best parameters found:\", rf_random_search.best_params_)\n",
    "print(\"Best F1 Score:\", rf_random_search.best_score_)"
   ]
  },
  {
   "cell_type": "code",
   "execution_count": 117,
   "metadata": {
    "id": "qmgnVXSP1SxJ"
   },
   "outputs": [
    {
     "name": "stdout",
     "output_type": "stream",
     "text": [
      "Test Set Performance:\n",
      "Confusion Matrix (Test):\n",
      "[[709  16]\n",
      " [113  10]]\n",
      "\n",
      "Accuracy of Decision Tree (Test): 84.7877358490566 \n",
      "\n",
      "              precision    recall  f1-score   support\n",
      "\n",
      "           0       0.86      0.98      0.92       725\n",
      "           1       0.38      0.08      0.13       123\n",
      "\n",
      "    accuracy                           0.85       848\n",
      "   macro avg       0.62      0.53      0.53       848\n",
      "weighted avg       0.79      0.85      0.80       848\n",
      "\n"
     ]
    }
   ],
   "source": [
    "# optimized Random Forest Model\n",
    "m4 = \"Random Forest\"\n",
    "rf = RandomForestClassifier(n_estimators= 100, min_samples_split= 2, min_samples_leaf= 2, max_features= 'sqrt', max_depth= 40, bootstrap= False)\n",
    "rf.fit(X_train1, y_train1)  # Use undersampled data for training\n",
    "\n",
    "# Predict on the test set\n",
    "rf_predict_test1 = rf.predict(X_test1)\n",
    "rf_conf_matrix_test1 = confusion_matrix(y_test1, rf_predict_test1)\n",
    "rf_acc_score_test1 = accuracy_score(y_test1, rf_predict_test1)\n",
    "\n",
    "# Print performance on the test set\n",
    "print(\"Test Set Performance:\")\n",
    "print(\"Confusion Matrix (Test):\")\n",
    "print(rf_conf_matrix_test1)\n",
    "print(\"\\nAccuracy of Decision Tree (Test):\", rf_acc_score_test1 * 100, \"\\n\")\n",
    "print(classification_report(y_test1, rf_predict_test1))"
   ]
  },
  {
   "cell_type": "markdown",
   "metadata": {
    "id": "V8pycrdawA3L"
   },
   "source": [
    "## Extrem Radient Boost"
   ]
  },
  {
   "cell_type": "code",
   "execution_count": 118,
   "metadata": {
    "id": "A_FQ6O3JwFHI"
   },
   "outputs": [
    {
     "name": "stdout",
     "output_type": "stream",
     "text": [
      "Test Set Performance:\n",
      "Confusion Matrix (Test):\n",
      "[[645  80]\n",
      " [ 99  24]]\n",
      "\n",
      "Accuracy of Model (Test): 78.89150943396226 \n",
      "\n",
      "              precision    recall  f1-score   support\n",
      "\n",
      "           0       0.87      0.89      0.88       725\n",
      "           1       0.23      0.20      0.21       123\n",
      "\n",
      "    accuracy                           0.79       848\n",
      "   macro avg       0.55      0.54      0.54       848\n",
      "weighted avg       0.77      0.79      0.78       848\n",
      "\n",
      "Model Performance Results: None\n"
     ]
    }
   ],
   "source": [
    "# Model 5: Extreme Gradient Boost\n",
    "m5 = \"Extreme Gradient Boost\"\n",
    "xgb = XGBClassifier()\n",
    "results = ml_model(xgb, X_train1, y_train1, X_test1, y_test1)\n",
    "\n",
    "# Print results for further analysis\n",
    "print(\"Model Performance Results:\", results)"
   ]
  },
  {
   "cell_type": "code",
   "execution_count": 119,
   "metadata": {
    "id": "_NG9YooW2qls"
   },
   "outputs": [
    {
     "name": "stdout",
     "output_type": "stream",
     "text": [
      "Fitting 5 folds for each of 20 candidates, totalling 100 fits\n"
     ]
    },
    {
     "name": "stderr",
     "output_type": "stream",
     "text": [
      "/Users/ramonwinkler/anaconda3/envs/Data Science/lib/python3.12/site-packages/xgboost/core.py:158: UserWarning: [21:40:09] WARNING: /Users/runner/work/xgboost/xgboost/src/learner.cc:740: \n",
      "Parameters: { \"use_label_encoder\" } are not used.\n",
      "\n",
      "  warnings.warn(smsg, UserWarning)\n",
      "/Users/ramonwinkler/anaconda3/envs/Data Science/lib/python3.12/site-packages/xgboost/core.py:158: UserWarning: [21:40:09] WARNING: /Users/runner/work/xgboost/xgboost/src/learner.cc:740: \n",
      "Parameters: { \"use_label_encoder\" } are not used.\n",
      "\n",
      "  warnings.warn(smsg, UserWarning)\n",
      "/Users/ramonwinkler/anaconda3/envs/Data Science/lib/python3.12/site-packages/xgboost/core.py:158: UserWarning: [21:40:09] WARNING: /Users/runner/work/xgboost/xgboost/src/learner.cc:740: \n",
      "Parameters: { \"use_label_encoder\" } are not used.\n",
      "\n",
      "  warnings.warn(smsg, UserWarning)\n",
      "/Users/ramonwinkler/anaconda3/envs/Data Science/lib/python3.12/site-packages/xgboost/core.py:158: UserWarning: [21:40:09] WARNING: /Users/runner/work/xgboost/xgboost/src/learner.cc:740: \n",
      "Parameters: { \"use_label_encoder\" } are not used.\n",
      "\n",
      "  warnings.warn(smsg, UserWarning)\n",
      "/Users/ramonwinkler/anaconda3/envs/Data Science/lib/python3.12/site-packages/xgboost/core.py:158: UserWarning: [21:40:09] WARNING: /Users/runner/work/xgboost/xgboost/src/learner.cc:740: \n",
      "Parameters: { \"use_label_encoder\" } are not used.\n",
      "\n",
      "  warnings.warn(smsg, UserWarning)\n",
      "/Users/ramonwinkler/anaconda3/envs/Data Science/lib/python3.12/site-packages/xgboost/core.py:158: UserWarning: [21:40:09] WARNING: /Users/runner/work/xgboost/xgboost/src/learner.cc:740: \n",
      "Parameters: { \"use_label_encoder\" } are not used.\n",
      "\n",
      "  warnings.warn(smsg, UserWarning)\n",
      "/Users/ramonwinkler/anaconda3/envs/Data Science/lib/python3.12/site-packages/xgboost/core.py:158: UserWarning: [21:40:09] WARNING: /Users/runner/work/xgboost/xgboost/src/learner.cc:740: \n",
      "Parameters: { \"use_label_encoder\" } are not used.\n",
      "\n",
      "  warnings.warn(smsg, UserWarning)\n",
      "/Users/ramonwinkler/anaconda3/envs/Data Science/lib/python3.12/site-packages/xgboost/core.py:158: UserWarning: [21:40:09] WARNING: /Users/runner/work/xgboost/xgboost/src/learner.cc:740: \n",
      "Parameters: { \"use_label_encoder\" } are not used.\n",
      "\n",
      "  warnings.warn(smsg, UserWarning)\n",
      "/Users/ramonwinkler/anaconda3/envs/Data Science/lib/python3.12/site-packages/xgboost/core.py:158: UserWarning: [21:40:09] WARNING: /Users/runner/work/xgboost/xgboost/src/learner.cc:740: \n",
      "Parameters: { \"use_label_encoder\" } are not used.\n",
      "\n",
      "  warnings.warn(smsg, UserWarning)\n",
      "/Users/ramonwinkler/anaconda3/envs/Data Science/lib/python3.12/site-packages/xgboost/core.py:158: UserWarning: [21:40:09] WARNING: /Users/runner/work/xgboost/xgboost/src/learner.cc:740: \n",
      "Parameters: { \"use_label_encoder\" } are not used.\n",
      "\n",
      "  warnings.warn(smsg, UserWarning)\n",
      "/Users/ramonwinkler/anaconda3/envs/Data Science/lib/python3.12/site-packages/xgboost/core.py:158: UserWarning: [21:40:09] WARNING: /Users/runner/work/xgboost/xgboost/src/learner.cc:740: \n",
      "Parameters: { \"use_label_encoder\" } are not used.\n",
      "\n",
      "  warnings.warn(smsg, UserWarning)\n",
      "/Users/ramonwinkler/anaconda3/envs/Data Science/lib/python3.12/site-packages/xgboost/core.py:158: UserWarning: [21:40:09] WARNING: /Users/runner/work/xgboost/xgboost/src/learner.cc:740: \n",
      "Parameters: { \"use_label_encoder\" } are not used.\n",
      "\n",
      "  warnings.warn(smsg, UserWarning)\n",
      "/Users/ramonwinkler/anaconda3/envs/Data Science/lib/python3.12/site-packages/xgboost/core.py:158: UserWarning: [21:40:09] WARNING: /Users/runner/work/xgboost/xgboost/src/learner.cc:740: \n",
      "Parameters: { \"use_label_encoder\" } are not used.\n",
      "\n",
      "  warnings.warn(smsg, UserWarning)\n",
      "/Users/ramonwinkler/anaconda3/envs/Data Science/lib/python3.12/site-packages/xgboost/core.py:158: UserWarning: [21:40:09] WARNING: /Users/runner/work/xgboost/xgboost/src/learner.cc:740: \n",
      "Parameters: { \"use_label_encoder\" } are not used.\n",
      "\n",
      "  warnings.warn(smsg, UserWarning)\n",
      "/Users/ramonwinkler/anaconda3/envs/Data Science/lib/python3.12/site-packages/xgboost/core.py:158: UserWarning: [21:40:09] WARNING: /Users/runner/work/xgboost/xgboost/src/learner.cc:740: \n",
      "Parameters: { \"use_label_encoder\" } are not used.\n",
      "\n",
      "  warnings.warn(smsg, UserWarning)\n",
      "/Users/ramonwinkler/anaconda3/envs/Data Science/lib/python3.12/site-packages/xgboost/core.py:158: UserWarning: [21:40:09] WARNING: /Users/runner/work/xgboost/xgboost/src/learner.cc:740: \n",
      "Parameters: { \"use_label_encoder\" } are not used.\n",
      "\n",
      "  warnings.warn(smsg, UserWarning)\n",
      "/Users/ramonwinkler/anaconda3/envs/Data Science/lib/python3.12/site-packages/xgboost/core.py:158: UserWarning: [21:40:09] WARNING: /Users/runner/work/xgboost/xgboost/src/learner.cc:740: \n",
      "Parameters: { \"use_label_encoder\" } are not used.\n",
      "\n",
      "  warnings.warn(smsg, UserWarning)\n",
      "/Users/ramonwinkler/anaconda3/envs/Data Science/lib/python3.12/site-packages/xgboost/core.py:158: UserWarning: [21:40:09] WARNING: /Users/runner/work/xgboost/xgboost/src/learner.cc:740: \n",
      "Parameters: { \"use_label_encoder\" } are not used.\n",
      "\n",
      "  warnings.warn(smsg, UserWarning)\n",
      "/Users/ramonwinkler/anaconda3/envs/Data Science/lib/python3.12/site-packages/xgboost/core.py:158: UserWarning: [21:40:09] WARNING: /Users/runner/work/xgboost/xgboost/src/learner.cc:740: \n",
      "Parameters: { \"use_label_encoder\" } are not used.\n",
      "\n",
      "  warnings.warn(smsg, UserWarning)\n",
      "/Users/ramonwinkler/anaconda3/envs/Data Science/lib/python3.12/site-packages/xgboost/core.py:158: UserWarning: [21:40:09] WARNING: /Users/runner/work/xgboost/xgboost/src/learner.cc:740: \n",
      "Parameters: { \"use_label_encoder\" } are not used.\n",
      "\n",
      "  warnings.warn(smsg, UserWarning)\n",
      "/Users/ramonwinkler/anaconda3/envs/Data Science/lib/python3.12/site-packages/xgboost/core.py:158: UserWarning: [21:40:09] WARNING: /Users/runner/work/xgboost/xgboost/src/learner.cc:740: \n",
      "Parameters: { \"use_label_encoder\" } are not used.\n",
      "\n",
      "  warnings.warn(smsg, UserWarning)\n",
      "/Users/ramonwinkler/anaconda3/envs/Data Science/lib/python3.12/site-packages/xgboost/core.py:158: UserWarning: [21:40:09] WARNING: /Users/runner/work/xgboost/xgboost/src/learner.cc:740: \n",
      "Parameters: { \"use_label_encoder\" } are not used.\n",
      "\n",
      "  warnings.warn(smsg, UserWarning)\n",
      "/Users/ramonwinkler/anaconda3/envs/Data Science/lib/python3.12/site-packages/xgboost/core.py:158: UserWarning: [21:40:09] WARNING: /Users/runner/work/xgboost/xgboost/src/learner.cc:740: \n",
      "Parameters: { \"use_label_encoder\" } are not used.\n",
      "\n",
      "  warnings.warn(smsg, UserWarning)\n",
      "/Users/ramonwinkler/anaconda3/envs/Data Science/lib/python3.12/site-packages/xgboost/core.py:158: UserWarning: [21:40:09] WARNING: /Users/runner/work/xgboost/xgboost/src/learner.cc:740: \n",
      "Parameters: { \"use_label_encoder\" } are not used.\n",
      "\n",
      "  warnings.warn(smsg, UserWarning)\n",
      "/Users/ramonwinkler/anaconda3/envs/Data Science/lib/python3.12/site-packages/xgboost/core.py:158: UserWarning: [21:40:09] WARNING: /Users/runner/work/xgboost/xgboost/src/learner.cc:740: \n",
      "Parameters: { \"use_label_encoder\" } are not used.\n",
      "\n",
      "  warnings.warn(smsg, UserWarning)\n",
      "/Users/ramonwinkler/anaconda3/envs/Data Science/lib/python3.12/site-packages/xgboost/core.py:158: UserWarning: [21:40:10] WARNING: /Users/runner/work/xgboost/xgboost/src/learner.cc:740: \n",
      "Parameters: { \"use_label_encoder\" } are not used.\n",
      "\n",
      "  warnings.warn(smsg, UserWarning)\n",
      "/Users/ramonwinkler/anaconda3/envs/Data Science/lib/python3.12/site-packages/xgboost/core.py:158: UserWarning: [21:40:10] WARNING: /Users/runner/work/xgboost/xgboost/src/learner.cc:740: \n",
      "Parameters: { \"use_label_encoder\" } are not used.\n",
      "\n",
      "  warnings.warn(smsg, UserWarning)\n",
      "/Users/ramonwinkler/anaconda3/envs/Data Science/lib/python3.12/site-packages/xgboost/core.py:158: UserWarning: [21:40:10] WARNING: /Users/runner/work/xgboost/xgboost/src/learner.cc:740: \n",
      "Parameters: { \"use_label_encoder\" } are not used.\n",
      "\n",
      "  warnings.warn(smsg, UserWarning)\n",
      "/Users/ramonwinkler/anaconda3/envs/Data Science/lib/python3.12/site-packages/xgboost/core.py:158: UserWarning: [21:40:10] WARNING: /Users/runner/work/xgboost/xgboost/src/learner.cc:740: \n",
      "Parameters: { \"use_label_encoder\" } are not used.\n",
      "\n",
      "  warnings.warn(smsg, UserWarning)\n",
      "/Users/ramonwinkler/anaconda3/envs/Data Science/lib/python3.12/site-packages/xgboost/core.py:158: UserWarning: [21:40:10] WARNING: /Users/runner/work/xgboost/xgboost/src/learner.cc:740: \n",
      "Parameters: { \"use_label_encoder\" } are not used.\n",
      "\n",
      "  warnings.warn(smsg, UserWarning)\n",
      "/Users/ramonwinkler/anaconda3/envs/Data Science/lib/python3.12/site-packages/xgboost/core.py:158: UserWarning: [21:40:10] WARNING: /Users/runner/work/xgboost/xgboost/src/learner.cc:740: \n",
      "Parameters: { \"use_label_encoder\" } are not used.\n",
      "\n",
      "  warnings.warn(smsg, UserWarning)\n",
      "/Users/ramonwinkler/anaconda3/envs/Data Science/lib/python3.12/site-packages/xgboost/core.py:158: UserWarning: [21:40:10] WARNING: /Users/runner/work/xgboost/xgboost/src/learner.cc:740: \n",
      "Parameters: { \"use_label_encoder\" } are not used.\n",
      "\n",
      "  warnings.warn(smsg, UserWarning)\n",
      "/Users/ramonwinkler/anaconda3/envs/Data Science/lib/python3.12/site-packages/xgboost/core.py:158: UserWarning: [21:40:10] WARNING: /Users/runner/work/xgboost/xgboost/src/learner.cc:740: \n",
      "Parameters: { \"use_label_encoder\" } are not used.\n",
      "\n",
      "  warnings.warn(smsg, UserWarning)\n",
      "/Users/ramonwinkler/anaconda3/envs/Data Science/lib/python3.12/site-packages/xgboost/core.py:158: UserWarning: [21:40:10] WARNING: /Users/runner/work/xgboost/xgboost/src/learner.cc:740: \n",
      "Parameters: { \"use_label_encoder\" } are not used.\n",
      "\n",
      "  warnings.warn(smsg, UserWarning)\n",
      "/Users/ramonwinkler/anaconda3/envs/Data Science/lib/python3.12/site-packages/xgboost/core.py:158: UserWarning: [21:40:10] WARNING: /Users/runner/work/xgboost/xgboost/src/learner.cc:740: \n",
      "Parameters: { \"use_label_encoder\" } are not used.\n",
      "\n",
      "  warnings.warn(smsg, UserWarning)\n",
      "/Users/ramonwinkler/anaconda3/envs/Data Science/lib/python3.12/site-packages/xgboost/core.py:158: UserWarning: [21:40:10] WARNING: /Users/runner/work/xgboost/xgboost/src/learner.cc:740: \n",
      "Parameters: { \"use_label_encoder\" } are not used.\n",
      "\n",
      "  warnings.warn(smsg, UserWarning)\n",
      "/Users/ramonwinkler/anaconda3/envs/Data Science/lib/python3.12/site-packages/xgboost/core.py:158: UserWarning: [21:40:10] WARNING: /Users/runner/work/xgboost/xgboost/src/learner.cc:740: \n",
      "Parameters: { \"use_label_encoder\" } are not used.\n",
      "\n",
      "  warnings.warn(smsg, UserWarning)\n",
      "/Users/ramonwinkler/anaconda3/envs/Data Science/lib/python3.12/site-packages/xgboost/core.py:158: UserWarning: [21:40:10] WARNING: /Users/runner/work/xgboost/xgboost/src/learner.cc:740: \n",
      "Parameters: { \"use_label_encoder\" } are not used.\n",
      "\n",
      "  warnings.warn(smsg, UserWarning)\n",
      "/Users/ramonwinkler/anaconda3/envs/Data Science/lib/python3.12/site-packages/xgboost/core.py:158: UserWarning: [21:40:10] WARNING: /Users/runner/work/xgboost/xgboost/src/learner.cc:740: \n",
      "Parameters: { \"use_label_encoder\" } are not used.\n",
      "\n",
      "  warnings.warn(smsg, UserWarning)\n",
      "/Users/ramonwinkler/anaconda3/envs/Data Science/lib/python3.12/site-packages/xgboost/core.py:158: UserWarning: [21:40:10] WARNING: /Users/runner/work/xgboost/xgboost/src/learner.cc:740: \n",
      "Parameters: { \"use_label_encoder\" } are not used.\n",
      "\n",
      "  warnings.warn(smsg, UserWarning)\n",
      "/Users/ramonwinkler/anaconda3/envs/Data Science/lib/python3.12/site-packages/xgboost/core.py:158: UserWarning: [21:40:10] WARNING: /Users/runner/work/xgboost/xgboost/src/learner.cc:740: \n",
      "Parameters: { \"use_label_encoder\" } are not used.\n",
      "\n",
      "  warnings.warn(smsg, UserWarning)\n",
      "/Users/ramonwinkler/anaconda3/envs/Data Science/lib/python3.12/site-packages/xgboost/core.py:158: UserWarning: [21:40:10] WARNING: /Users/runner/work/xgboost/xgboost/src/learner.cc:740: \n",
      "Parameters: { \"use_label_encoder\" } are not used.\n",
      "\n",
      "  warnings.warn(smsg, UserWarning)\n",
      "/Users/ramonwinkler/anaconda3/envs/Data Science/lib/python3.12/site-packages/xgboost/core.py:158: UserWarning: [21:40:10] WARNING: /Users/runner/work/xgboost/xgboost/src/learner.cc:740: \n",
      "Parameters: { \"use_label_encoder\" } are not used.\n",
      "\n",
      "  warnings.warn(smsg, UserWarning)\n",
      "/Users/ramonwinkler/anaconda3/envs/Data Science/lib/python3.12/site-packages/xgboost/core.py:158: UserWarning: [21:40:10] WARNING: /Users/runner/work/xgboost/xgboost/src/learner.cc:740: \n",
      "Parameters: { \"use_label_encoder\" } are not used.\n",
      "\n",
      "  warnings.warn(smsg, UserWarning)\n",
      "/Users/ramonwinkler/anaconda3/envs/Data Science/lib/python3.12/site-packages/xgboost/core.py:158: UserWarning: [21:40:10] WARNING: /Users/runner/work/xgboost/xgboost/src/learner.cc:740: \n",
      "Parameters: { \"use_label_encoder\" } are not used.\n",
      "\n",
      "  warnings.warn(smsg, UserWarning)\n",
      "/Users/ramonwinkler/anaconda3/envs/Data Science/lib/python3.12/site-packages/xgboost/core.py:158: UserWarning: [21:40:10] WARNING: /Users/runner/work/xgboost/xgboost/src/learner.cc:740: \n",
      "Parameters: { \"use_label_encoder\" } are not used.\n",
      "\n",
      "  warnings.warn(smsg, UserWarning)\n",
      "/Users/ramonwinkler/anaconda3/envs/Data Science/lib/python3.12/site-packages/xgboost/core.py:158: UserWarning: [21:40:10] WARNING: /Users/runner/work/xgboost/xgboost/src/learner.cc:740: \n",
      "Parameters: { \"use_label_encoder\" } are not used.\n",
      "\n",
      "  warnings.warn(smsg, UserWarning)\n",
      "/Users/ramonwinkler/anaconda3/envs/Data Science/lib/python3.12/site-packages/xgboost/core.py:158: UserWarning: [21:40:10] WARNING: /Users/runner/work/xgboost/xgboost/src/learner.cc:740: \n",
      "Parameters: { \"use_label_encoder\" } are not used.\n",
      "\n",
      "  warnings.warn(smsg, UserWarning)\n",
      "/Users/ramonwinkler/anaconda3/envs/Data Science/lib/python3.12/site-packages/xgboost/core.py:158: UserWarning: [21:40:10] WARNING: /Users/runner/work/xgboost/xgboost/src/learner.cc:740: \n",
      "Parameters: { \"use_label_encoder\" } are not used.\n",
      "\n",
      "  warnings.warn(smsg, UserWarning)\n",
      "/Users/ramonwinkler/anaconda3/envs/Data Science/lib/python3.12/site-packages/xgboost/core.py:158: UserWarning: [21:40:10] WARNING: /Users/runner/work/xgboost/xgboost/src/learner.cc:740: \n",
      "Parameters: { \"use_label_encoder\" } are not used.\n",
      "\n",
      "  warnings.warn(smsg, UserWarning)\n",
      "/Users/ramonwinkler/anaconda3/envs/Data Science/lib/python3.12/site-packages/xgboost/core.py:158: UserWarning: [21:40:10] WARNING: /Users/runner/work/xgboost/xgboost/src/learner.cc:740: \n",
      "Parameters: { \"use_label_encoder\" } are not used.\n",
      "\n",
      "  warnings.warn(smsg, UserWarning)\n",
      "/Users/ramonwinkler/anaconda3/envs/Data Science/lib/python3.12/site-packages/xgboost/core.py:158: UserWarning: [21:40:10] WARNING: /Users/runner/work/xgboost/xgboost/src/learner.cc:740: \n",
      "Parameters: { \"use_label_encoder\" } are not used.\n",
      "\n",
      "  warnings.warn(smsg, UserWarning)\n",
      "/Users/ramonwinkler/anaconda3/envs/Data Science/lib/python3.12/site-packages/xgboost/core.py:158: UserWarning: [21:40:10] WARNING: /Users/runner/work/xgboost/xgboost/src/learner.cc:740: \n",
      "Parameters: { \"use_label_encoder\" } are not used.\n",
      "\n",
      "  warnings.warn(smsg, UserWarning)\n",
      "/Users/ramonwinkler/anaconda3/envs/Data Science/lib/python3.12/site-packages/xgboost/core.py:158: UserWarning: [21:40:10] WARNING: /Users/runner/work/xgboost/xgboost/src/learner.cc:740: \n",
      "Parameters: { \"use_label_encoder\" } are not used.\n",
      "\n",
      "  warnings.warn(smsg, UserWarning)\n",
      "/Users/ramonwinkler/anaconda3/envs/Data Science/lib/python3.12/site-packages/xgboost/core.py:158: UserWarning: [21:40:10] WARNING: /Users/runner/work/xgboost/xgboost/src/learner.cc:740: \n",
      "Parameters: { \"use_label_encoder\" } are not used.\n",
      "\n",
      "  warnings.warn(smsg, UserWarning)\n",
      "/Users/ramonwinkler/anaconda3/envs/Data Science/lib/python3.12/site-packages/xgboost/core.py:158: UserWarning: [21:40:10] WARNING: /Users/runner/work/xgboost/xgboost/src/learner.cc:740: \n",
      "Parameters: { \"use_label_encoder\" } are not used.\n",
      "\n",
      "  warnings.warn(smsg, UserWarning)\n",
      "/Users/ramonwinkler/anaconda3/envs/Data Science/lib/python3.12/site-packages/xgboost/core.py:158: UserWarning: [21:40:10] WARNING: /Users/runner/work/xgboost/xgboost/src/learner.cc:740: \n",
      "Parameters: { \"use_label_encoder\" } are not used.\n",
      "\n",
      "  warnings.warn(smsg, UserWarning)\n",
      "/Users/ramonwinkler/anaconda3/envs/Data Science/lib/python3.12/site-packages/xgboost/core.py:158: UserWarning: [21:40:10] WARNING: /Users/runner/work/xgboost/xgboost/src/learner.cc:740: \n",
      "Parameters: { \"use_label_encoder\" } are not used.\n",
      "\n",
      "  warnings.warn(smsg, UserWarning)\n",
      "/Users/ramonwinkler/anaconda3/envs/Data Science/lib/python3.12/site-packages/xgboost/core.py:158: UserWarning: [21:40:10] WARNING: /Users/runner/work/xgboost/xgboost/src/learner.cc:740: \n",
      "Parameters: { \"use_label_encoder\" } are not used.\n",
      "\n",
      "  warnings.warn(smsg, UserWarning)\n",
      "/Users/ramonwinkler/anaconda3/envs/Data Science/lib/python3.12/site-packages/xgboost/core.py:158: UserWarning: [21:40:10] WARNING: /Users/runner/work/xgboost/xgboost/src/learner.cc:740: \n",
      "Parameters: { \"use_label_encoder\" } are not used.\n",
      "\n",
      "  warnings.warn(smsg, UserWarning)\n",
      "/Users/ramonwinkler/anaconda3/envs/Data Science/lib/python3.12/site-packages/xgboost/core.py:158: UserWarning: [21:40:10] WARNING: /Users/runner/work/xgboost/xgboost/src/learner.cc:740: \n",
      "Parameters: { \"use_label_encoder\" } are not used.\n",
      "\n",
      "  warnings.warn(smsg, UserWarning)\n",
      "/Users/ramonwinkler/anaconda3/envs/Data Science/lib/python3.12/site-packages/xgboost/core.py:158: UserWarning: [21:40:10] WARNING: /Users/runner/work/xgboost/xgboost/src/learner.cc:740: \n",
      "Parameters: { \"use_label_encoder\" } are not used.\n",
      "\n",
      "  warnings.warn(smsg, UserWarning)\n",
      "/Users/ramonwinkler/anaconda3/envs/Data Science/lib/python3.12/site-packages/xgboost/core.py:158: UserWarning: [21:40:10] WARNING: /Users/runner/work/xgboost/xgboost/src/learner.cc:740: \n",
      "Parameters: { \"use_label_encoder\" } are not used.\n",
      "\n",
      "  warnings.warn(smsg, UserWarning)\n",
      "/Users/ramonwinkler/anaconda3/envs/Data Science/lib/python3.12/site-packages/xgboost/core.py:158: UserWarning: [21:40:10] WARNING: /Users/runner/work/xgboost/xgboost/src/learner.cc:740: \n",
      "Parameters: { \"use_label_encoder\" } are not used.\n",
      "\n",
      "  warnings.warn(smsg, UserWarning)\n",
      "/Users/ramonwinkler/anaconda3/envs/Data Science/lib/python3.12/site-packages/xgboost/core.py:158: UserWarning: [21:40:10] WARNING: /Users/runner/work/xgboost/xgboost/src/learner.cc:740: \n",
      "Parameters: { \"use_label_encoder\" } are not used.\n",
      "\n",
      "  warnings.warn(smsg, UserWarning)\n",
      "/Users/ramonwinkler/anaconda3/envs/Data Science/lib/python3.12/site-packages/xgboost/core.py:158: UserWarning: [21:40:10] WARNING: /Users/runner/work/xgboost/xgboost/src/learner.cc:740: \n",
      "Parameters: { \"use_label_encoder\" } are not used.\n",
      "\n",
      "  warnings.warn(smsg, UserWarning)\n",
      "/Users/ramonwinkler/anaconda3/envs/Data Science/lib/python3.12/site-packages/xgboost/core.py:158: UserWarning: [21:40:10] WARNING: /Users/runner/work/xgboost/xgboost/src/learner.cc:740: \n",
      "Parameters: { \"use_label_encoder\" } are not used.\n",
      "\n",
      "  warnings.warn(smsg, UserWarning)\n",
      "/Users/ramonwinkler/anaconda3/envs/Data Science/lib/python3.12/site-packages/xgboost/core.py:158: UserWarning: [21:40:10] WARNING: /Users/runner/work/xgboost/xgboost/src/learner.cc:740: \n",
      "Parameters: { \"use_label_encoder\" } are not used.\n",
      "\n",
      "  warnings.warn(smsg, UserWarning)\n",
      "/Users/ramonwinkler/anaconda3/envs/Data Science/lib/python3.12/site-packages/xgboost/core.py:158: UserWarning: [21:40:11] WARNING: /Users/runner/work/xgboost/xgboost/src/learner.cc:740: \n",
      "Parameters: { \"use_label_encoder\" } are not used.\n",
      "\n",
      "  warnings.warn(smsg, UserWarning)\n",
      "/Users/ramonwinkler/anaconda3/envs/Data Science/lib/python3.12/site-packages/xgboost/core.py:158: UserWarning: [21:40:11] WARNING: /Users/runner/work/xgboost/xgboost/src/learner.cc:740: \n",
      "Parameters: { \"use_label_encoder\" } are not used.\n",
      "\n",
      "  warnings.warn(smsg, UserWarning)\n",
      "/Users/ramonwinkler/anaconda3/envs/Data Science/lib/python3.12/site-packages/xgboost/core.py:158: UserWarning: [21:40:11] WARNING: /Users/runner/work/xgboost/xgboost/src/learner.cc:740: \n",
      "Parameters: { \"use_label_encoder\" } are not used.\n",
      "\n",
      "  warnings.warn(smsg, UserWarning)\n",
      "/Users/ramonwinkler/anaconda3/envs/Data Science/lib/python3.12/site-packages/xgboost/core.py:158: UserWarning: [21:40:11] WARNING: /Users/runner/work/xgboost/xgboost/src/learner.cc:740: \n",
      "Parameters: { \"use_label_encoder\" } are not used.\n",
      "\n",
      "  warnings.warn(smsg, UserWarning)\n",
      "/Users/ramonwinkler/anaconda3/envs/Data Science/lib/python3.12/site-packages/xgboost/core.py:158: UserWarning: [21:40:11] WARNING: /Users/runner/work/xgboost/xgboost/src/learner.cc:740: \n",
      "Parameters: { \"use_label_encoder\" } are not used.\n",
      "\n",
      "  warnings.warn(smsg, UserWarning)\n",
      "/Users/ramonwinkler/anaconda3/envs/Data Science/lib/python3.12/site-packages/xgboost/core.py:158: UserWarning: [21:40:11] WARNING: /Users/runner/work/xgboost/xgboost/src/learner.cc:740: \n",
      "Parameters: { \"use_label_encoder\" } are not used.\n",
      "\n",
      "  warnings.warn(smsg, UserWarning)\n",
      "/Users/ramonwinkler/anaconda3/envs/Data Science/lib/python3.12/site-packages/xgboost/core.py:158: UserWarning: [21:40:11] WARNING: /Users/runner/work/xgboost/xgboost/src/learner.cc:740: \n",
      "Parameters: { \"use_label_encoder\" } are not used.\n",
      "\n",
      "  warnings.warn(smsg, UserWarning)\n",
      "/Users/ramonwinkler/anaconda3/envs/Data Science/lib/python3.12/site-packages/xgboost/core.py:158: UserWarning: [21:40:11] WARNING: /Users/runner/work/xgboost/xgboost/src/learner.cc:740: \n",
      "Parameters: { \"use_label_encoder\" } are not used.\n",
      "\n",
      "  warnings.warn(smsg, UserWarning)\n",
      "/Users/ramonwinkler/anaconda3/envs/Data Science/lib/python3.12/site-packages/xgboost/core.py:158: UserWarning: [21:40:11] WARNING: /Users/runner/work/xgboost/xgboost/src/learner.cc:740: \n",
      "Parameters: { \"use_label_encoder\" } are not used.\n",
      "\n",
      "  warnings.warn(smsg, UserWarning)\n",
      "/Users/ramonwinkler/anaconda3/envs/Data Science/lib/python3.12/site-packages/xgboost/core.py:158: UserWarning: [21:40:11] WARNING: /Users/runner/work/xgboost/xgboost/src/learner.cc:740: \n",
      "Parameters: { \"use_label_encoder\" } are not used.\n",
      "\n",
      "  warnings.warn(smsg, UserWarning)\n",
      "/Users/ramonwinkler/anaconda3/envs/Data Science/lib/python3.12/site-packages/xgboost/core.py:158: UserWarning: [21:40:11] WARNING: /Users/runner/work/xgboost/xgboost/src/learner.cc:740: \n",
      "Parameters: { \"use_label_encoder\" } are not used.\n",
      "\n",
      "  warnings.warn(smsg, UserWarning)\n",
      "/Users/ramonwinkler/anaconda3/envs/Data Science/lib/python3.12/site-packages/xgboost/core.py:158: UserWarning: [21:40:11] WARNING: /Users/runner/work/xgboost/xgboost/src/learner.cc:740: \n",
      "Parameters: { \"use_label_encoder\" } are not used.\n",
      "\n",
      "  warnings.warn(smsg, UserWarning)\n",
      "/Users/ramonwinkler/anaconda3/envs/Data Science/lib/python3.12/site-packages/xgboost/core.py:158: UserWarning: [21:40:11] WARNING: /Users/runner/work/xgboost/xgboost/src/learner.cc:740: \n",
      "Parameters: { \"use_label_encoder\" } are not used.\n",
      "\n",
      "  warnings.warn(smsg, UserWarning)\n",
      "/Users/ramonwinkler/anaconda3/envs/Data Science/lib/python3.12/site-packages/xgboost/core.py:158: UserWarning: [21:40:11] WARNING: /Users/runner/work/xgboost/xgboost/src/learner.cc:740: \n",
      "Parameters: { \"use_label_encoder\" } are not used.\n",
      "\n",
      "  warnings.warn(smsg, UserWarning)\n",
      "/Users/ramonwinkler/anaconda3/envs/Data Science/lib/python3.12/site-packages/xgboost/core.py:158: UserWarning: [21:40:11] WARNING: /Users/runner/work/xgboost/xgboost/src/learner.cc:740: \n",
      "Parameters: { \"use_label_encoder\" } are not used.\n",
      "\n",
      "  warnings.warn(smsg, UserWarning)\n",
      "/Users/ramonwinkler/anaconda3/envs/Data Science/lib/python3.12/site-packages/xgboost/core.py:158: UserWarning: [21:40:11] WARNING: /Users/runner/work/xgboost/xgboost/src/learner.cc:740: \n",
      "Parameters: { \"use_label_encoder\" } are not used.\n",
      "\n",
      "  warnings.warn(smsg, UserWarning)\n",
      "/Users/ramonwinkler/anaconda3/envs/Data Science/lib/python3.12/site-packages/xgboost/core.py:158: UserWarning: [21:40:11] WARNING: /Users/runner/work/xgboost/xgboost/src/learner.cc:740: \n",
      "Parameters: { \"use_label_encoder\" } are not used.\n",
      "\n",
      "  warnings.warn(smsg, UserWarning)\n",
      "/Users/ramonwinkler/anaconda3/envs/Data Science/lib/python3.12/site-packages/xgboost/core.py:158: UserWarning: [21:40:11] WARNING: /Users/runner/work/xgboost/xgboost/src/learner.cc:740: \n",
      "Parameters: { \"use_label_encoder\" } are not used.\n",
      "\n",
      "  warnings.warn(smsg, UserWarning)\n",
      "/Users/ramonwinkler/anaconda3/envs/Data Science/lib/python3.12/site-packages/xgboost/core.py:158: UserWarning: [21:40:11] WARNING: /Users/runner/work/xgboost/xgboost/src/learner.cc:740: \n",
      "Parameters: { \"use_label_encoder\" } are not used.\n",
      "\n",
      "  warnings.warn(smsg, UserWarning)\n",
      "/Users/ramonwinkler/anaconda3/envs/Data Science/lib/python3.12/site-packages/xgboost/core.py:158: UserWarning: [21:40:11] WARNING: /Users/runner/work/xgboost/xgboost/src/learner.cc:740: \n",
      "Parameters: { \"use_label_encoder\" } are not used.\n",
      "\n",
      "  warnings.warn(smsg, UserWarning)\n",
      "/Users/ramonwinkler/anaconda3/envs/Data Science/lib/python3.12/site-packages/xgboost/core.py:158: UserWarning: [21:40:11] WARNING: /Users/runner/work/xgboost/xgboost/src/learner.cc:740: \n",
      "Parameters: { \"use_label_encoder\" } are not used.\n",
      "\n",
      "  warnings.warn(smsg, UserWarning)\n",
      "/Users/ramonwinkler/anaconda3/envs/Data Science/lib/python3.12/site-packages/xgboost/core.py:158: UserWarning: [21:40:11] WARNING: /Users/runner/work/xgboost/xgboost/src/learner.cc:740: \n",
      "Parameters: { \"use_label_encoder\" } are not used.\n",
      "\n",
      "  warnings.warn(smsg, UserWarning)\n",
      "/Users/ramonwinkler/anaconda3/envs/Data Science/lib/python3.12/site-packages/xgboost/core.py:158: UserWarning: [21:40:11] WARNING: /Users/runner/work/xgboost/xgboost/src/learner.cc:740: \n",
      "Parameters: { \"use_label_encoder\" } are not used.\n",
      "\n",
      "  warnings.warn(smsg, UserWarning)\n",
      "/Users/ramonwinkler/anaconda3/envs/Data Science/lib/python3.12/site-packages/xgboost/core.py:158: UserWarning: [21:40:11] WARNING: /Users/runner/work/xgboost/xgboost/src/learner.cc:740: \n",
      "Parameters: { \"use_label_encoder\" } are not used.\n",
      "\n",
      "  warnings.warn(smsg, UserWarning)\n",
      "/Users/ramonwinkler/anaconda3/envs/Data Science/lib/python3.12/site-packages/xgboost/core.py:158: UserWarning: [21:40:11] WARNING: /Users/runner/work/xgboost/xgboost/src/learner.cc:740: \n",
      "Parameters: { \"use_label_encoder\" } are not used.\n",
      "\n",
      "  warnings.warn(smsg, UserWarning)\n",
      "/Users/ramonwinkler/anaconda3/envs/Data Science/lib/python3.12/site-packages/xgboost/core.py:158: UserWarning: [21:40:11] WARNING: /Users/runner/work/xgboost/xgboost/src/learner.cc:740: \n",
      "Parameters: { \"use_label_encoder\" } are not used.\n",
      "\n",
      "  warnings.warn(smsg, UserWarning)\n",
      "/Users/ramonwinkler/anaconda3/envs/Data Science/lib/python3.12/site-packages/xgboost/core.py:158: UserWarning: [21:40:11] WARNING: /Users/runner/work/xgboost/xgboost/src/learner.cc:740: \n",
      "Parameters: { \"use_label_encoder\" } are not used.\n",
      "\n",
      "  warnings.warn(smsg, UserWarning)\n",
      "/Users/ramonwinkler/anaconda3/envs/Data Science/lib/python3.12/site-packages/xgboost/core.py:158: UserWarning: [21:40:11] WARNING: /Users/runner/work/xgboost/xgboost/src/learner.cc:740: \n",
      "Parameters: { \"use_label_encoder\" } are not used.\n",
      "\n",
      "  warnings.warn(smsg, UserWarning)\n",
      "/Users/ramonwinkler/anaconda3/envs/Data Science/lib/python3.12/site-packages/xgboost/core.py:158: UserWarning: [21:40:11] WARNING: /Users/runner/work/xgboost/xgboost/src/learner.cc:740: \n",
      "Parameters: { \"use_label_encoder\" } are not used.\n",
      "\n",
      "  warnings.warn(smsg, UserWarning)\n",
      "/Users/ramonwinkler/anaconda3/envs/Data Science/lib/python3.12/site-packages/xgboost/core.py:158: UserWarning: [21:40:11] WARNING: /Users/runner/work/xgboost/xgboost/src/learner.cc:740: \n",
      "Parameters: { \"use_label_encoder\" } are not used.\n",
      "\n",
      "  warnings.warn(smsg, UserWarning)\n",
      "/Users/ramonwinkler/anaconda3/envs/Data Science/lib/python3.12/site-packages/xgboost/core.py:158: UserWarning: [21:40:11] WARNING: /Users/runner/work/xgboost/xgboost/src/learner.cc:740: \n",
      "Parameters: { \"use_label_encoder\" } are not used.\n",
      "\n",
      "  warnings.warn(smsg, UserWarning)\n",
      "/Users/ramonwinkler/anaconda3/envs/Data Science/lib/python3.12/site-packages/xgboost/core.py:158: UserWarning: [21:40:11] WARNING: /Users/runner/work/xgboost/xgboost/src/learner.cc:740: \n",
      "Parameters: { \"use_label_encoder\" } are not used.\n",
      "\n",
      "  warnings.warn(smsg, UserWarning)\n"
     ]
    },
    {
     "name": "stdout",
     "output_type": "stream",
     "text": [
      "Best parameters found: {'subsample': 0.8, 'scale_pos_weight': 1, 'n_estimators': 200, 'min_child_weight': 5, 'max_depth': 10, 'learning_rate': 0.2, 'gamma': 0, 'colsample_bytree': 0.8}\n",
      "Best F1 Score: 0.9466690343234404\n"
     ]
    },
    {
     "name": "stderr",
     "output_type": "stream",
     "text": [
      "/Users/ramonwinkler/anaconda3/envs/Data Science/lib/python3.12/site-packages/xgboost/core.py:158: UserWarning: [21:40:12] WARNING: /Users/runner/work/xgboost/xgboost/src/learner.cc:740: \n",
      "Parameters: { \"use_label_encoder\" } are not used.\n",
      "\n",
      "  warnings.warn(smsg, UserWarning)\n"
     ]
    }
   ],
   "source": [
    "# Define parameter grid\n",
    "param_grid = {\n",
    "    'n_estimators': [100, 200, 300, 400, 500],\n",
    "    'max_depth': [3, 5, 7, 9, 10],\n",
    "    'learning_rate': [0.01, 0.05, 0.1, 0.2, 0.3],\n",
    "    'min_child_weight': [1, 3, 5, 7],\n",
    "    'gamma': [0, 0.1, 0.3, 0.5],\n",
    "    'subsample': [0.6, 0.8, 1.0],\n",
    "    'colsample_bytree': [0.6, 0.8, 1.0],\n",
    "    'scale_pos_weight': [1, 10, 20, 30]  # Adjust for imbalance\n",
    "}\n",
    "\n",
    "# Initialize XGBClassifier\n",
    "xgb_model = XGBClassifier(random_state=42, use_label_encoder=False, eval_metric='logloss')\n",
    "\n",
    "# Define scoring metric (F1 for minority class)\n",
    "f1_scorer = make_scorer(f1_score, pos_label=1)\n",
    "\n",
    "# Setup RandomizedSearchCV\n",
    "xgb_random_search = RandomizedSearchCV(\n",
    "    estimator=xgb_model,\n",
    "    param_distributions=param_grid,\n",
    "    n_iter=20,\n",
    "    scoring=f1_scorer,\n",
    "    cv=5,\n",
    "    verbose=1,\n",
    "    random_state=42,\n",
    "    n_jobs=-1\n",
    ")\n",
    "\n",
    "# Fit model\n",
    "xgb_random_search.fit(X_train1, y_train1)\n",
    "\n",
    "# Print best parameters and score\n",
    "print(\"Best parameters found:\", xgb_random_search.best_params_)\n",
    "print(\"Best F1 Score:\", xgb_random_search.best_score_)"
   ]
  },
  {
   "cell_type": "code",
   "execution_count": 120,
   "metadata": {
    "id": "x2j9h3cb2qoO"
   },
   "outputs": [
    {
     "name": "stdout",
     "output_type": "stream",
     "text": [
      "Confusion Matrix (Test):\n",
      "[[670  55]\n",
      " [103  20]]\n",
      "\n",
      "Accuracy of Extreme Gradient Boost: 81.36792452830188 \n",
      "\n",
      "              precision    recall  f1-score   support\n",
      "\n",
      "           0       0.87      0.92      0.89       725\n",
      "           1       0.27      0.16      0.20       123\n",
      "\n",
      "    accuracy                           0.81       848\n",
      "   macro avg       0.57      0.54      0.55       848\n",
      "weighted avg       0.78      0.81      0.79       848\n",
      "\n"
     ]
    }
   ],
   "source": [
    "# Optimized Model\n",
    "m5 = \"Extreme Gradient Boost\"\n",
    "xgb = XGBClassifier(subsample= 0.8, scale_pos_weight= 1, n_estimators= 500, min_child_weight= 1, max_depth= 9, learning_rate= 0.05, gamma= 0.5, colsample_bytree= 1.0)\n",
    "\n",
    "xgb.fit(X_train1, y_train1)\n",
    "\n",
    "# Predict on the test set\n",
    "xgb_predict_test1 = xgb.predict(X_test1)\n",
    "xgb_conf_matrix1 = confusion_matrix(y_test1, xgb_predict_test1)\n",
    "xgb_acc_score1 = accuracy_score(y_test1, xgb_predict_test1)\n",
    "\n",
    "# Print performance on the test set\n",
    "print(\"Confusion Matrix (Test):\")\n",
    "print(xgb_conf_matrix1)\n",
    "print(\"\\nAccuracy of Extreme Gradient Boost:\", xgb_acc_score1 * 100, '\\n')\n",
    "print(classification_report(y_test1, xgb_predict_test1))"
   ]
  },
  {
   "cell_type": "markdown",
   "metadata": {
    "id": "FfM0pctwoAAa"
   },
   "source": [
    "## kNN"
   ]
  },
  {
   "cell_type": "code",
   "execution_count": 121,
   "metadata": {
    "id": "wEpnVCPtoAAb",
    "outputId": "12989279-7cf8-4cc6-efe2-72453b2656a9"
   },
   "outputs": [
    {
     "name": "stdout",
     "output_type": "stream",
     "text": [
      "Test Set Performance:\n",
      "Confusion Matrix (Test):\n",
      "[[524 201]\n",
      " [ 74  49]]\n",
      "\n",
      "Accuracy of Model (Test): 67.57075471698113 \n",
      "\n",
      "              precision    recall  f1-score   support\n",
      "\n",
      "           0       0.88      0.72      0.79       725\n",
      "           1       0.20      0.40      0.26       123\n",
      "\n",
      "    accuracy                           0.68       848\n",
      "   macro avg       0.54      0.56      0.53       848\n",
      "weighted avg       0.78      0.68      0.72       848\n",
      "\n",
      "Model Performance Results: None\n"
     ]
    }
   ],
   "source": [
    "# Model 6: K-Neighbors Classifier\n",
    "m6 = \"K-Neighbors Classifier\"\n",
    "knn = KNeighborsClassifier()\n",
    "results = ml_model_os(knn, X_train1, y_train1, X_test1, y_test1)\n",
    "\n",
    "# Print results for further analysis\n",
    "print(\"Model Performance Results:\", results)"
   ]
  },
  {
   "cell_type": "code",
   "execution_count": 122,
   "metadata": {
    "id": "Zsi7oUAF3MIh"
   },
   "outputs": [
    {
     "name": "stdout",
     "output_type": "stream",
     "text": [
      "Fitting 5 folds for each of 20 candidates, totalling 100 fits\n",
      "Best parameters found: {'weights': 'distance', 'n_neighbors': 1, 'metric': 'manhattan', 'algorithm': 'ball_tree'}\n",
      "Best F1 Score: 0.9300930433477779\n"
     ]
    }
   ],
   "source": [
    "# Define parameter grid\n",
    "param_grid = {\n",
    "    'n_neighbors': [1, 3, 5, 7, 10, 15, 20, 25, 30],\n",
    "    'weights': ['uniform', 'distance'],\n",
    "    'metric': ['euclidean', 'manhattan', 'minkowski'],\n",
    "    'algorithm': ['auto', 'ball_tree', 'kd_tree', 'brute']\n",
    "}\n",
    "\n",
    "# Initialize kNN\n",
    "knn_model = KNeighborsClassifier()\n",
    "\n",
    "# Define scoring metric (F1 for minority class)\n",
    "f1_scorer = make_scorer(f1_score, pos_label=1)\n",
    "\n",
    "# Setup RandomizedSearchCV\n",
    "knn_random_search = RandomizedSearchCV(\n",
    "    estimator=knn_model,\n",
    "    param_distributions=param_grid,\n",
    "    n_iter=20,  # Define as per available resources\n",
    "    scoring=f1_scorer,\n",
    "    cv=5,\n",
    "    verbose=1,\n",
    "    random_state=42,\n",
    "    n_jobs=-1\n",
    ")\n",
    "\n",
    "# Fit model\n",
    "knn_random_search.fit(X_train1, y_train1)\n",
    "\n",
    "# Print best parameters and score\n",
    "print(\"Best parameters found:\", knn_random_search.best_params_)\n",
    "print(\"Best F1 Score:\", knn_random_search.best_score_)"
   ]
  },
  {
   "cell_type": "code",
   "execution_count": 123,
   "metadata": {
    "id": "WISo25143MLT"
   },
   "outputs": [
    {
     "name": "stdout",
     "output_type": "stream",
     "text": [
      "Confusion Matrix (Test):\n",
      "[[634  91]\n",
      " [100  23]]\n",
      "\n",
      "Accuracy of K-Neighbors Classifier: 77.47641509433963 \n",
      "\n",
      "              precision    recall  f1-score   support\n",
      "\n",
      "           0       0.86      0.87      0.87       725\n",
      "           1       0.20      0.19      0.19       123\n",
      "\n",
      "    accuracy                           0.77       848\n",
      "   macro avg       0.53      0.53      0.53       848\n",
      "weighted avg       0.77      0.77      0.77       848\n",
      "\n"
     ]
    }
   ],
   "source": [
    "# Initialize the K-Neighbors Classifier\n",
    "m6 = 'K-NeighborsClassifier'\n",
    "knn = KNeighborsClassifier(weights= 'distance', n_neighbors= 1, metric= 'manhattan', algorithm= 'ball_tree')\n",
    "\n",
    "knn.fit(X_train1, y_train1)\n",
    "\n",
    "# Predict on the test set\n",
    "knn_predict_test1 = knn.predict(X_test1)\n",
    "knn_conf_matrix1 = confusion_matrix(y_test1, knn_predict_test1)\n",
    "knn_acc_score1 = accuracy_score(y_test1, knn_predict_test1)\n",
    "\n",
    "# Print performance on the test set\n",
    "print(\"Confusion Matrix (Test):\")\n",
    "print(knn_conf_matrix1)\n",
    "print(\"\\nAccuracy of K-Neighbors Classifier:\", knn_acc_score1 * 100, '\\n')\n",
    "print(classification_report(y_test1, knn_predict_test1))"
   ]
  },
  {
   "cell_type": "markdown",
   "metadata": {
    "id": "hdLzSV_OoAAb"
   },
   "source": [
    "## SVM"
   ]
  },
  {
   "cell_type": "code",
   "execution_count": 124,
   "metadata": {
    "id": "62ANWGhVoAAb",
    "outputId": "fe308396-1fb3-43a8-a667-6393614d0c6b"
   },
   "outputs": [
    {
     "name": "stdout",
     "output_type": "stream",
     "text": [
      "Test Set Performance:\n",
      "Confusion Matrix (Test):\n",
      "[[529 196]\n",
      " [ 63  60]]\n",
      "\n",
      "Accuracy of Model (Test): 69.45754716981132 \n",
      "\n",
      "              precision    recall  f1-score   support\n",
      "\n",
      "           0       0.89      0.73      0.80       725\n",
      "           1       0.23      0.49      0.32       123\n",
      "\n",
      "    accuracy                           0.69       848\n",
      "   macro avg       0.56      0.61      0.56       848\n",
      "weighted avg       0.80      0.69      0.73       848\n",
      "\n",
      "Model Performance Results: None\n"
     ]
    }
   ],
   "source": [
    "# Model 7: Support Vector Classifier\n",
    "m7 = \"Support Vector Classifier\"\n",
    "svc = SVC()\n",
    "results = ml_model_os(svc, X_train1, y_train1, X_test1, y_test1)\n",
    "\n",
    "# Print results for further analysis\n",
    "print(\"Model Performance Results:\", results)"
   ]
  },
  {
   "cell_type": "code",
   "execution_count": 125,
   "metadata": {
    "id": "PL-NDHJ24nP9"
   },
   "outputs": [
    {
     "name": "stdout",
     "output_type": "stream",
     "text": [
      "Fitting 5 folds for each of 10 candidates, totalling 50 fits\n",
      "Best parameters found: {'kernel': 'rbf', 'gamma': 1, 'degree': 4, 'class_weight': None, 'C': 1}\n",
      "Best F1 Score: 0.981759325845411\n"
     ]
    }
   ],
   "source": [
    "# Define parameter grid\n",
    "param_grid = {\n",
    "    'C': [0.1, 1, 10, 100, 1000],\n",
    "    'kernel': ['linear', 'poly', 'rbf', 'sigmoid'],\n",
    "    'gamma': [0.001, 0.01, 0.1, 1],\n",
    "    'degree': [2, 3, 4, 5],\n",
    "    'class_weight': [None, 'balanced']\n",
    "}\n",
    "\n",
    "# Initialize SVM\n",
    "svm_model = SVC()\n",
    "\n",
    "# Define scoring metric (F1 for minority class)\n",
    "f1_scorer = make_scorer(f1_score, pos_label=1)\n",
    "\n",
    "# Setup RandomizedSearchCV\n",
    "svm_random_search = RandomizedSearchCV(\n",
    "    estimator=svm_model,\n",
    "    param_distributions=param_grid,\n",
    "    n_iter=10,\n",
    "    scoring=f1_scorer,\n",
    "    cv=5,\n",
    "    verbose=1,\n",
    "    random_state=42,\n",
    "    n_jobs=-1\n",
    ")\n",
    "\n",
    "# Fit model\n",
    "svm_random_search.fit(X_train1, y_train1)\n",
    "\n",
    "# Print best parameters and score\n",
    "print(\"Best parameters found:\", svm_random_search.best_params_)\n",
    "print(\"Best F1 Score:\", svm_random_search.best_score_)"
   ]
  },
  {
   "cell_type": "code",
   "execution_count": 126,
   "metadata": {
    "id": "wCyRmL_a4nSg"
   },
   "outputs": [
    {
     "name": "stdout",
     "output_type": "stream",
     "text": [
      "Confusion Matrix (Test):\n",
      "[[708  17]\n",
      " [120   3]]\n",
      "\n",
      "Accuracy of Support Vector Classifier: 83.84433962264151 \n",
      "\n",
      "              precision    recall  f1-score   support\n",
      "\n",
      "           0       0.86      0.98      0.91       725\n",
      "           1       0.15      0.02      0.04       123\n",
      "\n",
      "    accuracy                           0.84       848\n",
      "   macro avg       0.50      0.50      0.48       848\n",
      "weighted avg       0.75      0.84      0.79       848\n",
      "\n"
     ]
    }
   ],
   "source": [
    "# Optimized Model\n",
    "m7 = 'Support Vector Classifier'\n",
    "svc = SVC(kernel= 'rbf', gamma= 1, degree= 4, class_weight= None, C= 1)\n",
    "\n",
    "# Fit the model with the undersampled training data\n",
    "svc.fit(X_train1, y_train1)\n",
    "\n",
    "# Predict on the test set\n",
    "svc_predict_test1 = svc.predict(X_test1)\n",
    "svc_conf_matrix1 = confusion_matrix(y_test1, svc_predict_test1)\n",
    "svc_acc_score1 = accuracy_score(y_test1, svc_predict_test1)\n",
    "\n",
    "# Print performance on the test set\n",
    "print(\"Confusion Matrix (Test):\")\n",
    "print(svc_conf_matrix1)\n",
    "print(\"\\nAccuracy of Support Vector Classifier:\", svc_acc_score1 * 100, '\\n')\n",
    "print(classification_report(y_test1, svc_predict_test1))"
   ]
  },
  {
   "cell_type": "markdown",
   "metadata": {
    "id": "rceXVSnn5Tnk"
   },
   "source": [
    "## ROC Curve for model with oversampling the minority class"
   ]
  },
  {
   "cell_type": "code",
   "execution_count": 127,
   "metadata": {
    "id": "LEOvPvOl5aDc"
   },
   "outputs": [
    {
     "data": {
      "image/png": "[encoded data removed]",
      "text/plain": [
       "<Figure size 1000x500 with 1 Axes>"
      ]
     },
     "metadata": {},
     "output_type": "display_data"
    }
   ],
   "source": [
    "import matplotlib.pyplot as plt\n",
    "import seaborn as sns\n",
    "\n",
    "lr_false_positive_rate1,lr_true_positive_rate1,lr_threshold1 = roc_curve(y_test1,lr_predict_test1)\n",
    "nb_false_positive_rate1,nb_true_positive_rate1,nb_threshold1 = roc_curve(y_test1,nb_predict_test1)\n",
    "rf_false_positive_rate1,rf_true_positive_rate1,rf_threshold1= roc_curve(y_test1,rf_predict_test1)\n",
    "xgb_false_positive_rate1,xgb_true_positive_rate1,xgb_threshold1 = roc_curve(y_test1,xgb_predict_test1)\n",
    "knn_false_positive_rate1,knn_true_positive_rate1,knn_threshold1 = roc_curve(y_test1,knn_predict_test1)\n",
    "dt_false_positive_rate1,dt_true_positive_rate1,dt_threshold1 = roc_curve(y_test1,dt_predict_test1)\n",
    "svc_false_positive_rate1,svc_true_positive_rate1,svc_threshold1 = roc_curve(y_test1,svc_predict_test1)\n",
    "\n",
    "\n",
    "sns.set_style('whitegrid')\n",
    "plt.figure(figsize=(10,5))\n",
    "plt.title('Reciver Operating Characterstic Curve')\n",
    "plt.plot(lr_false_positive_rate1,lr_true_positive_rate1,label='Logistic Regression')\n",
    "plt.plot(nb_false_positive_rate1,nb_true_positive_rate1,label='Naive Bayes')\n",
    "plt.plot(rf_false_positive_rate1,rf_true_positive_rate1,label='Random Forest')\n",
    "plt.plot(xgb_false_positive_rate1,xgb_true_positive_rate1,label='Extreme Gradient Boost')\n",
    "plt.plot(knn_false_positive_rate1,knn_true_positive_rate1,label='K-Nearest Neighbor')\n",
    "plt.plot(dt_false_positive_rate1,dt_true_positive_rate1,label='Decision Tree')\n",
    "plt.plot(svc_false_positive_rate1,svc_true_positive_rate1,label='Support Vector Classifier')\n",
    "plt.plot([0,1],ls='--')\n",
    "plt.plot([0,0],[1,0],c='.5')\n",
    "plt.plot([1,1],c='.5')\n",
    "plt.ylabel('True positive rate')\n",
    "plt.xlabel('False positive rate')\n",
    "plt.legend()\n",
    "plt.show()"
   ]
  },
  {
   "cell_type": "markdown",
   "metadata": {
    "id": "aHA59p7BoAAb"
   },
   "source": [
    "# Machine Learning mit SMOTE"
   ]
  },
  {
   "cell_type": "code",
   "execution_count": 128,
   "metadata": {
    "id": "UvlroXFnoAAc"
   },
   "outputs": [],
   "source": [
    "# Prepare the originial data for oversampling\n",
    "df3 = pd.read_csv(\"01_framingham_clean.csv\")\n",
    "X2 = df3.drop(columns=[\"TenYearCHD\"])\n",
    "y2 = df3[\"TenYearCHD\"]\n",
    "\n",
    "# Split the data into training and testing sets\n",
    "\n",
    "from sklearn.model_selection import train_test_split\n",
    "\n",
    "X_train2, X_test2, y_train2, y_test2 = train_test_split(X2, y2, test_size=0.2, random_state=42)\n",
    "\n",
    "# scale\n",
    "from sklearn.preprocessing import StandardScaler\n",
    "\n",
    "# Initialize the scaler\n",
    "scaler = StandardScaler()\n",
    "\n",
    "# Fit on the training data and transform it\n",
    "X_train2 = scaler.fit_transform(X_train2)\n",
    "\n",
    "# Use the same scaler to transform the test data\n",
    "X_test2 = scaler.transform(X_test2)\n",
    "\n",
    "# smote\n",
    "from imblearn.over_sampling import SMOTE\n",
    "\n",
    "# Smote of scaled values\n",
    "smote = SMOTE(random_state=42)\n",
    "X_resampled, y_resampled = smote.fit_resample(X_train2, y_train2)\n",
    "\n",
    "X_train2 = X_resampled\n",
    "y_train2 = y_resampled"
   ]
  },
  {
   "cell_type": "markdown",
   "metadata": {
    "id": "6O-ylqAeoAAc"
   },
   "source": [
    "## Adjustment of ML function"
   ]
  },
  {
   "cell_type": "code",
   "execution_count": 129,
   "metadata": {
    "id": "Ea9IELq4oAAd"
   },
   "outputs": [],
   "source": [
    "def ml_model_smote(model, X_train2, y_train2, X_test2, y_test2):\n",
    "\n",
    "    # Fit the model\n",
    "    model.fit(X_train2, y_train2)\n",
    "\n",
    "    # Predict on the test set\n",
    "    y_pred_test2 = model.predict(X_test2)\n",
    "\n",
    "    # Calculate performance metrics for the test set\n",
    "    acc_test2 = accuracy_score(y_test2, y_pred_test2)\n",
    "    prec_test2 = precision_score(y_test2, y_pred_test2)\n",
    "    rec_test2 = recall_score(y_test2, y_pred_test2)\n",
    "    f1_test2 = f1_score(y_test2, y_pred_test2)\n",
    "\n",
    "    # Print performance on the test set\n",
    "    print(\"Test Set Performance:\")\n",
    "    print(\"Confusion Matrix (Test):\")\n",
    "    print(confusion_matrix(y_test2, y_pred_test2))\n",
    "    print(\"\\nAccuracy of Model (Test):\", acc_test2 * 100, \"\\n\")\n",
    "    print(classification_report(y_test2, y_pred_test2))"
   ]
  },
  {
   "cell_type": "markdown",
   "metadata": {
    "id": "iJGC0wwLoAAd"
   },
   "source": [
    "## Logistic Regression"
   ]
  },
  {
   "cell_type": "code",
   "execution_count": 130,
   "metadata": {
    "id": "ttCTHDkzoAAd",
    "outputId": "00e9a410-87bb-462d-c578-64855eb41e12"
   },
   "outputs": [
    {
     "name": "stdout",
     "output_type": "stream",
     "text": [
      "Test Set Performance:\n",
      "Confusion Matrix (Test):\n",
      "[[480 245]\n",
      " [ 46  77]]\n",
      "\n",
      "Accuracy of Model (Test): 65.68396226415094 \n",
      "\n",
      "              precision    recall  f1-score   support\n",
      "\n",
      "           0       0.91      0.66      0.77       725\n",
      "           1       0.24      0.63      0.35       123\n",
      "\n",
      "    accuracy                           0.66       848\n",
      "   macro avg       0.58      0.64      0.56       848\n",
      "weighted avg       0.81      0.66      0.71       848\n",
      "\n",
      "Model Performance Results: None\n"
     ]
    }
   ],
   "source": [
    "# Model 1: Logistic Regression\n",
    "m1 = \"Logistic Regression\"\n",
    "lr = LogisticRegression()\n",
    "results = ml_model_smote(lr, X_train2, y_train2, X_test2, y_test2)\n",
    "\n",
    "# Print results for further analysis\n",
    "print(\"Model Performance Results:\", results)"
   ]
  },
  {
   "cell_type": "code",
   "execution_count": 131,
   "metadata": {
    "id": "6R7160CY0GNs"
   },
   "outputs": [
    {
     "name": "stdout",
     "output_type": "stream",
     "text": [
      "Fitting 5 folds for each of 10 candidates, totalling 50 fits\n",
      "Best parameters found: {'solver': 'liblinear', 'penalty': 'l2', 'max_iter': 100, 'C': 10}\n",
      "Best F1 score for target == 1: 0.6773048357934857\n"
     ]
    }
   ],
   "source": [
    "# try to focus f1-score to target== 1\n",
    "f1_scorer = make_scorer(f1_score, pos_label=1)\n",
    "\n",
    "param_grid_lr = {\n",
    "    \"C\": [0.1, 1, 10, 100],\n",
    "    'penalty': [\"l2\"],\n",
    "    \"solver\": [\"lbfgs\", \"liblinear\"],\n",
    "    \"max_iter\": [100, 200, 300]\n",
    "}\n",
    "\n",
    "lr_model = LogisticRegression()\n",
    "results = RandomizedSearchCV(\n",
    "    estimator=lr_model,\n",
    "    param_distributions=param_grid_lr,\n",
    "    n_iter=10,\n",
    "    cv=5,\n",
    "    scoring=f1_scorer,\n",
    "    random_state=42,\n",
    "    verbose=1,\n",
    "    n_jobs=-1\n",
    ")\n",
    "\n",
    "results.fit(X_train2, y_train2)\n",
    "\n",
    "print(\"Best parameters found:\", results.best_params_)\n",
    "print(\"Best F1 score for target == 1:\", results.best_score_)"
   ]
  },
  {
   "cell_type": "code",
   "execution_count": 132,
   "metadata": {
    "id": "XO-ynzTN0GQp"
   },
   "outputs": [
    {
     "name": "stdout",
     "output_type": "stream",
     "text": [
      "Test Set Performance:\n",
      "Confusion Matrix (Test):\n",
      "[[480 245]\n",
      " [ 46  77]]\n",
      "\n",
      "Accuracy of Logistic Regression model (Test): 65.68396226415094 \n",
      "\n",
      "              precision    recall  f1-score   support\n",
      "\n",
      "           0       0.91      0.66      0.77       725\n",
      "           1       0.24      0.63      0.35       123\n",
      "\n",
      "    accuracy                           0.66       848\n",
      "   macro avg       0.58      0.64      0.56       848\n",
      "weighted avg       0.81      0.66      0.71       848\n",
      "\n"
     ]
    }
   ],
   "source": [
    "# Apply improved model\n",
    "\n",
    "lr = LogisticRegression(solver= 'liblinear', penalty= 'l2', max_iter= 100, C= 10)\n",
    "# Fit the model\n",
    "lr.fit(X_train2, y_train2)\n",
    "\n",
    "# Predict on the test set\n",
    "lr_predict_test2 = lr.predict(X_test2)\n",
    "lr_conf_matrix_test2 = confusion_matrix(y_test2, lr_predict_test2)\n",
    "lr_acc_score_test2 = accuracy_score(y_test2, lr_predict_test2)\n",
    "\n",
    "# Print performance on the test set\n",
    "print(\"Test Set Performance:\")\n",
    "print(\"Confusion Matrix (Test):\")\n",
    "print(lr_conf_matrix_test2)\n",
    "print(\"\\nAccuracy of Logistic Regression model (Test):\",lr_acc_score_test2 * 100, \"\\n\")\n",
    "print(classification_report(y_test2, lr_predict_test2))"
   ]
  },
  {
   "cell_type": "markdown",
   "metadata": {
    "id": "eJ5TPpoPoAAe"
   },
   "source": [
    "## Naive Bayes"
   ]
  },
  {
   "cell_type": "code",
   "execution_count": 133,
   "metadata": {
    "id": "z1fQCGKzoAAe",
    "outputId": "0dd4b7b4-0f67-4eda-d5eb-e4f20b85d3c2"
   },
   "outputs": [
    {
     "name": "stdout",
     "output_type": "stream",
     "text": [
      "Test Set Performance:\n",
      "Confusion Matrix (Test):\n",
      "[[657  68]\n",
      " [ 89  34]]\n",
      "\n",
      "Accuracy of Model (Test): 81.48584905660378 \n",
      "\n",
      "              precision    recall  f1-score   support\n",
      "\n",
      "           0       0.88      0.91      0.89       725\n",
      "           1       0.33      0.28      0.30       123\n",
      "\n",
      "    accuracy                           0.81       848\n",
      "   macro avg       0.61      0.59      0.60       848\n",
      "weighted avg       0.80      0.81      0.81       848\n",
      "\n",
      "Model Performance Results: None\n"
     ]
    }
   ],
   "source": [
    "# Model 2: Naive Bayes\n",
    "m2 = \"Logistic Regression\"\n",
    "nb = GaussianNB()\n",
    "results = ml_model_smote(nb, X_train2, y_train2, X_test2, y_test2)\n",
    "\n",
    "# Print results for further analysis\n",
    "print(\"Model Performance Results:\", results)"
   ]
  },
  {
   "cell_type": "code",
   "execution_count": 134,
   "metadata": {
    "id": "0JyUpEC90AsT"
   },
   "outputs": [
    {
     "name": "stdout",
     "output_type": "stream",
     "text": [
      "Fitting 5 folds for each of 5 candidates, totalling 25 fits\n",
      "Best parameters found: {'var_smoothing': 1e-09}\n",
      "Best score: 0.42824429281717846\n"
     ]
    }
   ],
   "source": [
    "# optimization of the Naive Bayes model\n",
    "\n",
    "f1_scorer = make_scorer(f1_score, pos_label=1)\n",
    "# grid\n",
    "param_grid_nb = {\n",
    "    \"var_smoothing\": [1e-9, 1e-8, 1e-7, 1e-6, 1e-5]\n",
    "}\n",
    "\n",
    "# train the model\n",
    "nb_model = GaussianNB()\n",
    "\n",
    "results = RandomizedSearchCV(\n",
    "    estimator=nb_model,\n",
    "    param_distributions=param_grid_nb,\n",
    "    n_iter=5,\n",
    "    cv=5,\n",
    "    random_state=42,\n",
    "    verbose=1,\n",
    "    n_jobs=-1,\n",
    "    scoring=f1_scorer\n",
    ")\n",
    "\n",
    "results.fit(X_train2, y_train2)\n",
    "\n",
    "# Return the best model\n",
    "print(\"Best parameters found:\", results.best_params_)\n",
    "print(\"Best score:\", results.best_score_)"
   ]
  },
  {
   "cell_type": "code",
   "execution_count": 135,
   "metadata": {
    "id": "CAO5JG1l0AvK"
   },
   "outputs": [
    {
     "name": "stdout",
     "output_type": "stream",
     "text": [
      "Test Set Performance:\n",
      "Confusion Matrix (Test):\n",
      "[[657  68]\n",
      " [ 89  34]]\n",
      "\n",
      "Accuracy of Logistic Regression model (Test): 81.48584905660378 \n",
      "\n",
      "              precision    recall  f1-score   support\n",
      "\n",
      "           0       0.88      0.91      0.89       725\n",
      "           1       0.33      0.28      0.30       123\n",
      "\n",
      "    accuracy                           0.81       848\n",
      "   macro avg       0.61      0.59      0.60       848\n",
      "weighted avg       0.80      0.81      0.81       848\n",
      "\n"
     ]
    }
   ],
   "source": [
    "# Apply improved model\n",
    "\n",
    "nb = GaussianNB(var_smoothing= 1e-09)\n",
    "# Fit the model\n",
    "nb.fit(X_train2, y_train2)\n",
    "\n",
    "# Predict on the test set\n",
    "nb_predict_test2 = nb.predict(X_test2)\n",
    "nb_conf_matrix_test2 = confusion_matrix(y_test2, nb_predict_test2)\n",
    "nb_acc_score_test2 = accuracy_score(y_test2, nb_predict_test2)\n",
    "\n",
    "# Print performance on the test set\n",
    "print(\"Test Set Performance:\")\n",
    "print(\"Confusion Matrix (Test):\")\n",
    "print(nb_conf_matrix_test2)\n",
    "print(\"\\nAccuracy of Logistic Regression model (Test):\", nb_acc_score_test2 * 100, \"\\n\")\n",
    "print(classification_report(y_test2, nb_predict_test2))"
   ]
  },
  {
   "cell_type": "markdown",
   "metadata": {
    "id": "WNmY6pFDoAAe"
   },
   "source": [
    "## Decision Tree"
   ]
  },
  {
   "cell_type": "code",
   "execution_count": 136,
   "metadata": {
    "id": "2vA2-6FHoAAe",
    "outputId": "dbe540ec-3f62-49c3-c7e2-a44fb6115f7e"
   },
   "outputs": [
    {
     "name": "stdout",
     "output_type": "stream",
     "text": [
      "Test Set Performance:\n",
      "Confusion Matrix (Test):\n",
      "[[574 151]\n",
      " [ 86  37]]\n",
      "\n",
      "Accuracy of Model (Test): 72.05188679245283 \n",
      "\n",
      "              precision    recall  f1-score   support\n",
      "\n",
      "           0       0.87      0.79      0.83       725\n",
      "           1       0.20      0.30      0.24       123\n",
      "\n",
      "    accuracy                           0.72       848\n",
      "   macro avg       0.53      0.55      0.53       848\n",
      "weighted avg       0.77      0.72      0.74       848\n",
      "\n",
      "Model Performance Results: None\n"
     ]
    }
   ],
   "source": [
    "# Model 3: Decision Tree\n",
    "m3 = \"Decision Tree\"\n",
    "dt = DecisionTreeClassifier()\n",
    "results = ml_model_smote(dt, X_train2, y_train2, X_test2, y_test2)\n",
    "\n",
    "# Print results for further analysis\n",
    "print(\"Model Performance Results:\", results)"
   ]
  },
  {
   "cell_type": "code",
   "execution_count": 137,
   "metadata": {
    "id": "lcsUvRgu0xxt"
   },
   "outputs": [
    {
     "name": "stdout",
     "output_type": "stream",
     "text": [
      "Fitting 10 folds for each of 20 candidates, totalling 200 fits\n",
      "Best parameters found: {'splitter': 'best', 'min_samples_split': 4, 'min_samples_leaf': 2, 'max_features': None, 'max_depth': None, 'criterion': 'entropy'}\n",
      "Best score: 0.8034687586329581\n"
     ]
    }
   ],
   "source": [
    "# Improve the Decision Tree model\n",
    "f1_scorer = make_scorer(f1_score, pos_label=1)\n",
    "param_grid_dt = {\n",
    "    \"criterion\": [\"gini\", \"entropy\"],\n",
    "    \"max_depth\": [3, 5, 7, 9, 11, None],\n",
    "    \"min_samples_split\": [2, 4, 6, 8, 10],\n",
    "    \"min_samples_leaf\": [1, 2, 3, 4, 5],\n",
    "    \"max_features\": [None, \"sqrt\", \"log2\"],\n",
    "    \"splitter\": [\"best\", \"random\"],\n",
    "}\n",
    "\n",
    "# train the model\n",
    "dt_model = DecisionTreeClassifier()\n",
    "\n",
    "results = RandomizedSearchCV(\n",
    "    estimator=dt_model,\n",
    "    param_distributions=param_grid_dt,\n",
    "    n_iter=20,\n",
    "    cv=10,\n",
    "    random_state=42,\n",
    "    verbose=1,\n",
    "    n_jobs=-1,\n",
    "    scoring=f1_scorer\n",
    ")\n",
    "\n",
    "results.fit(X_train2, y_train2)\n",
    "\n",
    "# Return the best model\n",
    "\n",
    "print(\"Best parameters found:\", results.best_params_)\n",
    "print(\"Best score:\", results.best_score_)"
   ]
  },
  {
   "cell_type": "code",
   "execution_count": 138,
   "metadata": {
    "id": "5XH5hrXZ0x1q"
   },
   "outputs": [
    {
     "name": "stdout",
     "output_type": "stream",
     "text": [
      "Test Set Performance:\n",
      "Confusion Matrix (Test):\n",
      "[[609 116]\n",
      " [ 90  33]]\n",
      "\n",
      "Accuracy of Decision Tree (Test): 75.70754716981132 \n",
      "\n",
      "              precision    recall  f1-score   support\n",
      "\n",
      "           0       0.87      0.84      0.86       725\n",
      "           1       0.22      0.27      0.24       123\n",
      "\n",
      "    accuracy                           0.76       848\n",
      "   macro avg       0.55      0.55      0.55       848\n",
      "weighted avg       0.78      0.76      0.77       848\n",
      "\n"
     ]
    }
   ],
   "source": [
    "# Model 3: Decision Tree\n",
    "m3 = \"Decision Tree\"\n",
    "dt = DecisionTreeClassifier(splitter= 'best', min_samples_split= 4, min_samples_leaf= 2, max_features= None, max_depth= None, criterion= 'entropy')\n",
    "dt.fit(X_train2, y_train2)\n",
    "\n",
    "# Predict on the test set\n",
    "dt_predict_test2 = dt.predict(X_test2)\n",
    "dt_conf_matrix_test2 = confusion_matrix(y_test2, dt_predict_test2)\n",
    "dt_acc_score_test2 = accuracy_score(y_test2, dt_predict_test2)\n",
    "\n",
    "# Print performance on the test set\n",
    "print(\"Test Set Performance:\")\n",
    "print(\"Confusion Matrix (Test):\")\n",
    "print(dt_conf_matrix_test2)\n",
    "print(\"\\nAccuracy of Decision Tree (Test):\", dt_acc_score_test2 * 100, \"\\n\")\n",
    "print(classification_report(y_test2, dt_predict_test2))"
   ]
  },
  {
   "cell_type": "markdown",
   "metadata": {
    "id": "0V355e_DoAAe"
   },
   "source": [
    "## Random Forest"
   ]
  },
  {
   "cell_type": "code",
   "execution_count": 139,
   "metadata": {
    "id": "1Ll2qSqkoAAf",
    "outputId": "b7849b5a-31b7-4d3b-8b47-b5a9ef75ac9e"
   },
   "outputs": [
    {
     "name": "stdout",
     "output_type": "stream",
     "text": [
      "Test Set Performance:\n",
      "Confusion Matrix (Test):\n",
      "[[659  66]\n",
      " [102  21]]\n",
      "\n",
      "Accuracy of Model (Test): 80.18867924528303 \n",
      "\n",
      "              precision    recall  f1-score   support\n",
      "\n",
      "           0       0.87      0.91      0.89       725\n",
      "           1       0.24      0.17      0.20       123\n",
      "\n",
      "    accuracy                           0.80       848\n",
      "   macro avg       0.55      0.54      0.54       848\n",
      "weighted avg       0.78      0.80      0.79       848\n",
      "\n",
      "Model Performance Results: None\n"
     ]
    }
   ],
   "source": [
    "# Model 4: Random Forest\n",
    "m4 = \"Random Forest\"\n",
    "rf = RandomForestClassifier()\n",
    "results = ml_model_smote(rf, X_train2, y_train2, X_test2, y_test2)\n",
    "\n",
    "# Print results for further analysis\n",
    "print(\"Model Performance Results:\", results)"
   ]
  },
  {
   "cell_type": "code",
   "execution_count": 140,
   "metadata": {
    "id": "xPd3_x7E1J_v"
   },
   "outputs": [
    {
     "name": "stdout",
     "output_type": "stream",
     "text": [
      "Fitting 5 folds for each of 20 candidates, totalling 100 fits\n"
     ]
    },
    {
     "name": "stderr",
     "output_type": "stream",
     "text": [
      "/Users/ramonwinkler/anaconda3/envs/Data Science/lib/python3.12/site-packages/sklearn/model_selection/_validation.py:540: FitFailedWarning: \n",
      "55 fits failed out of a total of 100.\n",
      "The score on these train-test partitions for these parameters will be set to nan.\n",
      "If these failures are not expected, you can try to debug them by setting error_score='raise'.\n",
      "\n",
      "Below are more details about the failures:\n",
      "--------------------------------------------------------------------------------\n",
      "41 fits failed with the following error:\n",
      "Traceback (most recent call last):\n",
      "  File \"/Users/ramonwinkler/anaconda3/envs/Data Science/lib/python3.12/site-packages/sklearn/model_selection/_validation.py\", line 888, in _fit_and_score\n",
      "    estimator.fit(X_train, y_train, **fit_params)\n",
      "  File \"/Users/ramonwinkler/anaconda3/envs/Data Science/lib/python3.12/site-packages/sklearn/base.py\", line 1466, in wrapper\n",
      "    estimator._validate_params()\n",
      "  File \"/Users/ramonwinkler/anaconda3/envs/Data Science/lib/python3.12/site-packages/sklearn/base.py\", line 666, in _validate_params\n",
      "    validate_parameter_constraints(\n",
      "  File \"/Users/ramonwinkler/anaconda3/envs/Data Science/lib/python3.12/site-packages/sklearn/utils/_param_validation.py\", line 95, in validate_parameter_constraints\n",
      "    raise InvalidParameterError(\n",
      "sklearn.utils._param_validation.InvalidParameterError: The 'max_features' parameter of RandomForestClassifier must be an int in the range [1, inf), a float in the range (0.0, 1.0], a str among {'log2', 'sqrt'} or None. Got 'auto' instead.\n",
      "\n",
      "--------------------------------------------------------------------------------\n",
      "14 fits failed with the following error:\n",
      "Traceback (most recent call last):\n",
      "  File \"/Users/ramonwinkler/anaconda3/envs/Data Science/lib/python3.12/site-packages/sklearn/model_selection/_validation.py\", line 888, in _fit_and_score\n",
      "    estimator.fit(X_train, y_train, **fit_params)\n",
      "  File \"/Users/ramonwinkler/anaconda3/envs/Data Science/lib/python3.12/site-packages/sklearn/base.py\", line 1466, in wrapper\n",
      "    estimator._validate_params()\n",
      "  File \"/Users/ramonwinkler/anaconda3/envs/Data Science/lib/python3.12/site-packages/sklearn/base.py\", line 666, in _validate_params\n",
      "    validate_parameter_constraints(\n",
      "  File \"/Users/ramonwinkler/anaconda3/envs/Data Science/lib/python3.12/site-packages/sklearn/utils/_param_validation.py\", line 95, in validate_parameter_constraints\n",
      "    raise InvalidParameterError(\n",
      "sklearn.utils._param_validation.InvalidParameterError: The 'max_features' parameter of RandomForestClassifier must be an int in the range [1, inf), a float in the range (0.0, 1.0], a str among {'sqrt', 'log2'} or None. Got 'auto' instead.\n",
      "\n",
      "  warnings.warn(some_fits_failed_message, FitFailedWarning)\n",
      "/Users/ramonwinkler/anaconda3/envs/Data Science/lib/python3.12/site-packages/sklearn/model_selection/_search.py:1102: UserWarning: One or more of the test scores are non-finite: [       nan        nan 0.89935807        nan        nan        nan\n",
      " 0.90785912 0.82739382 0.90646336 0.86578014        nan        nan\n",
      " 0.86470864        nan 0.89431203 0.90354836        nan        nan\n",
      " 0.88684551        nan]\n",
      "  warnings.warn(\n"
     ]
    },
    {
     "name": "stdout",
     "output_type": "stream",
     "text": [
      "Best parameters found: {'n_estimators': 800, 'min_samples_split': 5, 'min_samples_leaf': 2, 'max_features': 'sqrt', 'max_depth': 40, 'bootstrap': False}\n",
      "Best F1 Score: 0.9078591187180999\n"
     ]
    }
   ],
   "source": [
    "# Number of trees in random forest\n",
    "n_estimators = [100, 200, 400, 600, 800, 1000, 1200, 1400, 1600, 1800, 2000]\n",
    "\n",
    "# Number of features to consider at every split\n",
    "max_features = ['auto', 'sqrt']\n",
    "\n",
    "# Maximum number of levels in tree\n",
    "max_depth = [10, 20, 30, 40, 50, 60, 70, 80, 90, 100, None]\n",
    "\n",
    "# Minimum number of samples required to split a node\n",
    "min_samples_split = [2, 5, 10]\n",
    "\n",
    "# Minimum number of samples required at each leaf node\n",
    "min_samples_leaf = [1, 2, 4]\n",
    "\n",
    "# Method of selecting samples for training each tree\n",
    "bootstrap = [True, False]\n",
    "\n",
    "# random grid for the predefined parameters\n",
    "random_grid = {'n_estimators': n_estimators,\n",
    "               'max_features': max_features,\n",
    "               'max_depth': max_depth,\n",
    "               'min_samples_split': min_samples_split,\n",
    "               'min_samples_leaf': min_samples_leaf,\n",
    "               'bootstrap': bootstrap}\n",
    "# Initialize Random Forest\n",
    "rf_model = RandomForestClassifier(random_state=42)\n",
    "\n",
    "# Define scoring metric\n",
    "f1_scorer = make_scorer(f1_score, pos_label=1)\n",
    "\n",
    "# Setup RandomizedSearchCV\n",
    "rf_random_search = RandomizedSearchCV(\n",
    "    estimator=rf_model,\n",
    "    param_distributions=random_grid,\n",
    "    n_iter=20,\n",
    "    cv=5,\n",
    "    verbose=1,\n",
    "    random_state=42,\n",
    "    n_jobs=-1,\n",
    "    scoring=f1_scorer\n",
    ")\n",
    "\n",
    "# Fit model\n",
    "rf_random_search.fit(X_train2, y_train2)\n",
    "\n",
    "# Print best parameters and score\n",
    "print(\"Best parameters found:\", rf_random_search.best_params_)\n",
    "print(\"Best F1 Score:\", rf_random_search.best_score_)"
   ]
  },
  {
   "cell_type": "code",
   "execution_count": 141,
   "metadata": {
    "id": "659VyjTo1KCk"
   },
   "outputs": [
    {
     "name": "stdout",
     "output_type": "stream",
     "text": [
      "Test Set Performance:\n",
      "Confusion Matrix (Test):\n",
      "[[672  53]\n",
      " [103  20]]\n",
      "\n",
      "Accuracy of Decision Tree (Test): 81.60377358490565 \n",
      "\n",
      "              precision    recall  f1-score   support\n",
      "\n",
      "           0       0.87      0.93      0.90       725\n",
      "           1       0.27      0.16      0.20       123\n",
      "\n",
      "    accuracy                           0.82       848\n",
      "   macro avg       0.57      0.54      0.55       848\n",
      "weighted avg       0.78      0.82      0.80       848\n",
      "\n"
     ]
    }
   ],
   "source": [
    "# optimized Random Forest Model\n",
    "m4 = \"Random Forest\"\n",
    "rf = RandomForestClassifier(n_estimators= 800, min_samples_split= 5, min_samples_leaf= 2, max_features= 'sqrt', max_depth= 40, bootstrap= False)\n",
    "rf.fit(X_train2, y_train2) \n",
    "\n",
    "# Predict on the test set\n",
    "rf_predict_test2 = rf.predict(X_test2)\n",
    "rf_conf_matrix_test2 = confusion_matrix(y_test2, rf_predict_test2)\n",
    "rf_acc_score_test2 = accuracy_score(y_test2, rf_predict_test2)\n",
    "\n",
    "# Print performance on the test set\n",
    "print(\"Test Set Performance:\")\n",
    "print(\"Confusion Matrix (Test):\")\n",
    "print(rf_conf_matrix_test2)\n",
    "print(\"\\nAccuracy of Decision Tree (Test):\", rf_acc_score_test2 * 100, \"\\n\")\n",
    "print(classification_report(y_test2, rf_predict_test2))"
   ]
  },
  {
   "cell_type": "markdown",
   "metadata": {
    "id": "X6XP9Xjd1tC8"
   },
   "source": [
    "## Extreme Gradient Boost"
   ]
  },
  {
   "cell_type": "code",
   "execution_count": 142,
   "metadata": {
    "id": "M6kFdDvY2Fv2"
   },
   "outputs": [
    {
     "name": "stdout",
     "output_type": "stream",
     "text": [
      "Test Set Performance:\n",
      "Confusion Matrix (Test):\n",
      "[[679  46]\n",
      " [111  12]]\n",
      "\n",
      "Accuracy of Model (Test): 81.48584905660378 \n",
      "\n",
      "              precision    recall  f1-score   support\n",
      "\n",
      "           0       0.86      0.94      0.90       725\n",
      "           1       0.21      0.10      0.13       123\n",
      "\n",
      "    accuracy                           0.81       848\n",
      "   macro avg       0.53      0.52      0.51       848\n",
      "weighted avg       0.76      0.81      0.79       848\n",
      "\n",
      "Model Performance Results: None\n"
     ]
    }
   ],
   "source": [
    "# Model 5: Extreme Gradient Boost\n",
    "m5 = \"Extreme Gradient Boost\"\n",
    "xgb = XGBClassifier()\n",
    "results = ml_model(xgb, X_train2, y_train2, X_test2, y_test2)\n",
    "\n",
    "# Print results for further analysis\n",
    "print(\"Model Performance Results:\", results)"
   ]
  },
  {
   "cell_type": "code",
   "execution_count": 143,
   "metadata": {
    "id": "rdGD_0VZ2Fye"
   },
   "outputs": [
    {
     "name": "stdout",
     "output_type": "stream",
     "text": [
      "Fitting 5 folds for each of 20 candidates, totalling 100 fits\n"
     ]
    },
    {
     "name": "stderr",
     "output_type": "stream",
     "text": [
      "/Users/ramonwinkler/anaconda3/envs/Data Science/lib/python3.12/site-packages/xgboost/core.py:158: UserWarning: [21:41:11] WARNING: /Users/runner/work/xgboost/xgboost/src/learner.cc:740: \n",
      "Parameters: { \"use_label_encoder\" } are not used.\n",
      "\n",
      "  warnings.warn(smsg, UserWarning)\n",
      "/Users/ramonwinkler/anaconda3/envs/Data Science/lib/python3.12/site-packages/xgboost/core.py:158: UserWarning: [21:41:11] WARNING: /Users/runner/work/xgboost/xgboost/src/learner.cc:740: \n",
      "Parameters: { \"use_label_encoder\" } are not used.\n",
      "\n",
      "  warnings.warn(smsg, UserWarning)\n",
      "/Users/ramonwinkler/anaconda3/envs/Data Science/lib/python3.12/site-packages/xgboost/core.py:158: UserWarning: [21:41:11] WARNING: /Users/runner/work/xgboost/xgboost/src/learner.cc:740: \n",
      "Parameters: { \"use_label_encoder\" } are not used.\n",
      "\n",
      "  warnings.warn(smsg, UserWarning)\n",
      "/Users/ramonwinkler/anaconda3/envs/Data Science/lib/python3.12/site-packages/xgboost/core.py:158: UserWarning: [21:41:11] WARNING: /Users/runner/work/xgboost/xgboost/src/learner.cc:740: \n",
      "Parameters: { \"use_label_encoder\" } are not used.\n",
      "\n",
      "  warnings.warn(smsg, UserWarning)\n",
      "/Users/ramonwinkler/anaconda3/envs/Data Science/lib/python3.12/site-packages/xgboost/core.py:158: UserWarning: [21:41:11] WARNING: /Users/runner/work/xgboost/xgboost/src/learner.cc:740: \n",
      "Parameters: { \"use_label_encoder\" } are not used.\n",
      "\n",
      "  warnings.warn(smsg, UserWarning)\n",
      "/Users/ramonwinkler/anaconda3/envs/Data Science/lib/python3.12/site-packages/xgboost/core.py:158: UserWarning: [21:41:11] WARNING: /Users/runner/work/xgboost/xgboost/src/learner.cc:740: \n",
      "Parameters: { \"use_label_encoder\" } are not used.\n",
      "\n",
      "  warnings.warn(smsg, UserWarning)\n",
      "/Users/ramonwinkler/anaconda3/envs/Data Science/lib/python3.12/site-packages/xgboost/core.py:158: UserWarning: [21:41:11] WARNING: /Users/runner/work/xgboost/xgboost/src/learner.cc:740: \n",
      "Parameters: { \"use_label_encoder\" } are not used.\n",
      "\n",
      "  warnings.warn(smsg, UserWarning)\n",
      "/Users/ramonwinkler/anaconda3/envs/Data Science/lib/python3.12/site-packages/xgboost/core.py:158: UserWarning: [21:41:11] WARNING: /Users/runner/work/xgboost/xgboost/src/learner.cc:740: \n",
      "Parameters: { \"use_label_encoder\" } are not used.\n",
      "\n",
      "  warnings.warn(smsg, UserWarning)\n",
      "/Users/ramonwinkler/anaconda3/envs/Data Science/lib/python3.12/site-packages/xgboost/core.py:158: UserWarning: [21:41:11] WARNING: /Users/runner/work/xgboost/xgboost/src/learner.cc:740: \n",
      "Parameters: { \"use_label_encoder\" } are not used.\n",
      "\n",
      "  warnings.warn(smsg, UserWarning)\n",
      "/Users/ramonwinkler/anaconda3/envs/Data Science/lib/python3.12/site-packages/xgboost/core.py:158: UserWarning: [21:41:11] WARNING: /Users/runner/work/xgboost/xgboost/src/learner.cc:740: \n",
      "Parameters: { \"use_label_encoder\" } are not used.\n",
      "\n",
      "  warnings.warn(smsg, UserWarning)\n",
      "/Users/ramonwinkler/anaconda3/envs/Data Science/lib/python3.12/site-packages/xgboost/core.py:158: UserWarning: [21:41:11] WARNING: /Users/runner/work/xgboost/xgboost/src/learner.cc:740: \n",
      "Parameters: { \"use_label_encoder\" } are not used.\n",
      "\n",
      "  warnings.warn(smsg, UserWarning)\n",
      "/Users/ramonwinkler/anaconda3/envs/Data Science/lib/python3.12/site-packages/xgboost/core.py:158: UserWarning: [21:41:11] WARNING: /Users/runner/work/xgboost/xgboost/src/learner.cc:740: \n",
      "Parameters: { \"use_label_encoder\" } are not used.\n",
      "\n",
      "  warnings.warn(smsg, UserWarning)\n",
      "/Users/ramonwinkler/anaconda3/envs/Data Science/lib/python3.12/site-packages/xgboost/core.py:158: UserWarning: [21:41:11] WARNING: /Users/runner/work/xgboost/xgboost/src/learner.cc:740: \n",
      "Parameters: { \"use_label_encoder\" } are not used.\n",
      "\n",
      "  warnings.warn(smsg, UserWarning)\n",
      "/Users/ramonwinkler/anaconda3/envs/Data Science/lib/python3.12/site-packages/xgboost/core.py:158: UserWarning: [21:41:11] WARNING: /Users/runner/work/xgboost/xgboost/src/learner.cc:740: \n",
      "Parameters: { \"use_label_encoder\" } are not used.\n",
      "\n",
      "  warnings.warn(smsg, UserWarning)\n",
      "/Users/ramonwinkler/anaconda3/envs/Data Science/lib/python3.12/site-packages/xgboost/core.py:158: UserWarning: [21:41:11] WARNING: /Users/runner/work/xgboost/xgboost/src/learner.cc:740: \n",
      "Parameters: { \"use_label_encoder\" } are not used.\n",
      "\n",
      "  warnings.warn(smsg, UserWarning)\n",
      "/Users/ramonwinkler/anaconda3/envs/Data Science/lib/python3.12/site-packages/xgboost/core.py:158: UserWarning: [21:41:11] WARNING: /Users/runner/work/xgboost/xgboost/src/learner.cc:740: \n",
      "Parameters: { \"use_label_encoder\" } are not used.\n",
      "\n",
      "  warnings.warn(smsg, UserWarning)\n",
      "/Users/ramonwinkler/anaconda3/envs/Data Science/lib/python3.12/site-packages/xgboost/core.py:158: UserWarning: [21:41:11] WARNING: /Users/runner/work/xgboost/xgboost/src/learner.cc:740: \n",
      "Parameters: { \"use_label_encoder\" } are not used.\n",
      "\n",
      "  warnings.warn(smsg, UserWarning)\n",
      "/Users/ramonwinkler/anaconda3/envs/Data Science/lib/python3.12/site-packages/xgboost/core.py:158: UserWarning: [21:41:12] WARNING: /Users/runner/work/xgboost/xgboost/src/learner.cc:740: \n",
      "Parameters: { \"use_label_encoder\" } are not used.\n",
      "\n",
      "  warnings.warn(smsg, UserWarning)\n",
      "/Users/ramonwinkler/anaconda3/envs/Data Science/lib/python3.12/site-packages/xgboost/core.py:158: UserWarning: [21:41:12] WARNING: /Users/runner/work/xgboost/xgboost/src/learner.cc:740: \n",
      "Parameters: { \"use_label_encoder\" } are not used.\n",
      "\n",
      "  warnings.warn(smsg, UserWarning)\n",
      "/Users/ramonwinkler/anaconda3/envs/Data Science/lib/python3.12/site-packages/xgboost/core.py:158: UserWarning: [21:41:12] WARNING: /Users/runner/work/xgboost/xgboost/src/learner.cc:740: \n",
      "Parameters: { \"use_label_encoder\" } are not used.\n",
      "\n",
      "  warnings.warn(smsg, UserWarning)\n",
      "/Users/ramonwinkler/anaconda3/envs/Data Science/lib/python3.12/site-packages/xgboost/core.py:158: UserWarning: [21:41:12] WARNING: /Users/runner/work/xgboost/xgboost/src/learner.cc:740: \n",
      "Parameters: { \"use_label_encoder\" } are not used.\n",
      "\n",
      "  warnings.warn(smsg, UserWarning)\n",
      "/Users/ramonwinkler/anaconda3/envs/Data Science/lib/python3.12/site-packages/xgboost/core.py:158: UserWarning: [21:41:12] WARNING: /Users/runner/work/xgboost/xgboost/src/learner.cc:740: \n",
      "Parameters: { \"use_label_encoder\" } are not used.\n",
      "\n",
      "  warnings.warn(smsg, UserWarning)\n",
      "/Users/ramonwinkler/anaconda3/envs/Data Science/lib/python3.12/site-packages/xgboost/core.py:158: UserWarning: [21:41:12] WARNING: /Users/runner/work/xgboost/xgboost/src/learner.cc:740: \n",
      "Parameters: { \"use_label_encoder\" } are not used.\n",
      "\n",
      "  warnings.warn(smsg, UserWarning)\n",
      "/Users/ramonwinkler/anaconda3/envs/Data Science/lib/python3.12/site-packages/xgboost/core.py:158: UserWarning: [21:41:12] WARNING: /Users/runner/work/xgboost/xgboost/src/learner.cc:740: \n",
      "Parameters: { \"use_label_encoder\" } are not used.\n",
      "\n",
      "  warnings.warn(smsg, UserWarning)\n",
      "/Users/ramonwinkler/anaconda3/envs/Data Science/lib/python3.12/site-packages/xgboost/core.py:158: UserWarning: [21:41:12] WARNING: /Users/runner/work/xgboost/xgboost/src/learner.cc:740: \n",
      "Parameters: { \"use_label_encoder\" } are not used.\n",
      "\n",
      "  warnings.warn(smsg, UserWarning)\n",
      "/Users/ramonwinkler/anaconda3/envs/Data Science/lib/python3.12/site-packages/xgboost/core.py:158: UserWarning: [21:41:12] WARNING: /Users/runner/work/xgboost/xgboost/src/learner.cc:740: \n",
      "Parameters: { \"use_label_encoder\" } are not used.\n",
      "\n",
      "  warnings.warn(smsg, UserWarning)\n",
      "/Users/ramonwinkler/anaconda3/envs/Data Science/lib/python3.12/site-packages/xgboost/core.py:158: UserWarning: [21:41:12] WARNING: /Users/runner/work/xgboost/xgboost/src/learner.cc:740: \n",
      "Parameters: { \"use_label_encoder\" } are not used.\n",
      "\n",
      "  warnings.warn(smsg, UserWarning)\n",
      "/Users/ramonwinkler/anaconda3/envs/Data Science/lib/python3.12/site-packages/xgboost/core.py:158: UserWarning: [21:41:12] WARNING: /Users/runner/work/xgboost/xgboost/src/learner.cc:740: \n",
      "Parameters: { \"use_label_encoder\" } are not used.\n",
      "\n",
      "  warnings.warn(smsg, UserWarning)\n",
      "/Users/ramonwinkler/anaconda3/envs/Data Science/lib/python3.12/site-packages/xgboost/core.py:158: UserWarning: [21:41:12] WARNING: /Users/runner/work/xgboost/xgboost/src/learner.cc:740: \n",
      "Parameters: { \"use_label_encoder\" } are not used.\n",
      "\n",
      "  warnings.warn(smsg, UserWarning)\n",
      "/Users/ramonwinkler/anaconda3/envs/Data Science/lib/python3.12/site-packages/xgboost/core.py:158: UserWarning: [21:41:12] WARNING: /Users/runner/work/xgboost/xgboost/src/learner.cc:740: \n",
      "Parameters: { \"use_label_encoder\" } are not used.\n",
      "\n",
      "  warnings.warn(smsg, UserWarning)\n",
      "/Users/ramonwinkler/anaconda3/envs/Data Science/lib/python3.12/site-packages/xgboost/core.py:158: UserWarning: [21:41:12] WARNING: /Users/runner/work/xgboost/xgboost/src/learner.cc:740: \n",
      "Parameters: { \"use_label_encoder\" } are not used.\n",
      "\n",
      "  warnings.warn(smsg, UserWarning)\n",
      "/Users/ramonwinkler/anaconda3/envs/Data Science/lib/python3.12/site-packages/xgboost/core.py:158: UserWarning: [21:41:12] WARNING: /Users/runner/work/xgboost/xgboost/src/learner.cc:740: \n",
      "Parameters: { \"use_label_encoder\" } are not used.\n",
      "\n",
      "  warnings.warn(smsg, UserWarning)\n",
      "/Users/ramonwinkler/anaconda3/envs/Data Science/lib/python3.12/site-packages/xgboost/core.py:158: UserWarning: [21:41:12] WARNING: /Users/runner/work/xgboost/xgboost/src/learner.cc:740: \n",
      "Parameters: { \"use_label_encoder\" } are not used.\n",
      "\n",
      "  warnings.warn(smsg, UserWarning)\n",
      "/Users/ramonwinkler/anaconda3/envs/Data Science/lib/python3.12/site-packages/xgboost/core.py:158: UserWarning: [21:41:12] WARNING: /Users/runner/work/xgboost/xgboost/src/learner.cc:740: \n",
      "Parameters: { \"use_label_encoder\" } are not used.\n",
      "\n",
      "  warnings.warn(smsg, UserWarning)\n",
      "/Users/ramonwinkler/anaconda3/envs/Data Science/lib/python3.12/site-packages/xgboost/core.py:158: UserWarning: [21:41:12] WARNING: /Users/runner/work/xgboost/xgboost/src/learner.cc:740: \n",
      "Parameters: { \"use_label_encoder\" } are not used.\n",
      "\n",
      "  warnings.warn(smsg, UserWarning)\n",
      "/Users/ramonwinkler/anaconda3/envs/Data Science/lib/python3.12/site-packages/xgboost/core.py:158: UserWarning: [21:41:12] WARNING: /Users/runner/work/xgboost/xgboost/src/learner.cc:740: \n",
      "Parameters: { \"use_label_encoder\" } are not used.\n",
      "\n",
      "  warnings.warn(smsg, UserWarning)\n",
      "/Users/ramonwinkler/anaconda3/envs/Data Science/lib/python3.12/site-packages/xgboost/core.py:158: UserWarning: [21:41:12] WARNING: /Users/runner/work/xgboost/xgboost/src/learner.cc:740: \n",
      "Parameters: { \"use_label_encoder\" } are not used.\n",
      "\n",
      "  warnings.warn(smsg, UserWarning)\n",
      "/Users/ramonwinkler/anaconda3/envs/Data Science/lib/python3.12/site-packages/xgboost/core.py:158: UserWarning: [21:41:12] WARNING: /Users/runner/work/xgboost/xgboost/src/learner.cc:740: \n",
      "Parameters: { \"use_label_encoder\" } are not used.\n",
      "\n",
      "  warnings.warn(smsg, UserWarning)\n",
      "/Users/ramonwinkler/anaconda3/envs/Data Science/lib/python3.12/site-packages/xgboost/core.py:158: UserWarning: [21:41:12] WARNING: /Users/runner/work/xgboost/xgboost/src/learner.cc:740: \n",
      "Parameters: { \"use_label_encoder\" } are not used.\n",
      "\n",
      "  warnings.warn(smsg, UserWarning)\n",
      "/Users/ramonwinkler/anaconda3/envs/Data Science/lib/python3.12/site-packages/xgboost/core.py:158: UserWarning: [21:41:13] WARNING: /Users/runner/work/xgboost/xgboost/src/learner.cc:740: \n",
      "Parameters: { \"use_label_encoder\" } are not used.\n",
      "\n",
      "  warnings.warn(smsg, UserWarning)\n",
      "/Users/ramonwinkler/anaconda3/envs/Data Science/lib/python3.12/site-packages/xgboost/core.py:158: UserWarning: [21:41:13] WARNING: /Users/runner/work/xgboost/xgboost/src/learner.cc:740: \n",
      "Parameters: { \"use_label_encoder\" } are not used.\n",
      "\n",
      "  warnings.warn(smsg, UserWarning)\n",
      "/Users/ramonwinkler/anaconda3/envs/Data Science/lib/python3.12/site-packages/xgboost/core.py:158: UserWarning: [21:41:13] WARNING: /Users/runner/work/xgboost/xgboost/src/learner.cc:740: \n",
      "Parameters: { \"use_label_encoder\" } are not used.\n",
      "\n",
      "  warnings.warn(smsg, UserWarning)\n",
      "/Users/ramonwinkler/anaconda3/envs/Data Science/lib/python3.12/site-packages/xgboost/core.py:158: UserWarning: [21:41:13] WARNING: /Users/runner/work/xgboost/xgboost/src/learner.cc:740: \n",
      "Parameters: { \"use_label_encoder\" } are not used.\n",
      "\n",
      "  warnings.warn(smsg, UserWarning)\n",
      "/Users/ramonwinkler/anaconda3/envs/Data Science/lib/python3.12/site-packages/xgboost/core.py:158: UserWarning: [21:41:13] WARNING: /Users/runner/work/xgboost/xgboost/src/learner.cc:740: \n",
      "Parameters: { \"use_label_encoder\" } are not used.\n",
      "\n",
      "  warnings.warn(smsg, UserWarning)\n",
      "/Users/ramonwinkler/anaconda3/envs/Data Science/lib/python3.12/site-packages/xgboost/core.py:158: UserWarning: [21:41:13] WARNING: /Users/runner/work/xgboost/xgboost/src/learner.cc:740: \n",
      "Parameters: { \"use_label_encoder\" } are not used.\n",
      "\n",
      "  warnings.warn(smsg, UserWarning)\n",
      "/Users/ramonwinkler/anaconda3/envs/Data Science/lib/python3.12/site-packages/xgboost/core.py:158: UserWarning: [21:41:13] WARNING: /Users/runner/work/xgboost/xgboost/src/learner.cc:740: \n",
      "Parameters: { \"use_label_encoder\" } are not used.\n",
      "\n",
      "  warnings.warn(smsg, UserWarning)\n",
      "/Users/ramonwinkler/anaconda3/envs/Data Science/lib/python3.12/site-packages/xgboost/core.py:158: UserWarning: [21:41:13] WARNING: /Users/runner/work/xgboost/xgboost/src/learner.cc:740: \n",
      "Parameters: { \"use_label_encoder\" } are not used.\n",
      "\n",
      "  warnings.warn(smsg, UserWarning)\n",
      "/Users/ramonwinkler/anaconda3/envs/Data Science/lib/python3.12/site-packages/xgboost/core.py:158: UserWarning: [21:41:13] WARNING: /Users/runner/work/xgboost/xgboost/src/learner.cc:740: \n",
      "Parameters: { \"use_label_encoder\" } are not used.\n",
      "\n",
      "  warnings.warn(smsg, UserWarning)\n",
      "/Users/ramonwinkler/anaconda3/envs/Data Science/lib/python3.12/site-packages/xgboost/core.py:158: UserWarning: [21:41:13] WARNING: /Users/runner/work/xgboost/xgboost/src/learner.cc:740: \n",
      "Parameters: { \"use_label_encoder\" } are not used.\n",
      "\n",
      "  warnings.warn(smsg, UserWarning)\n",
      "/Users/ramonwinkler/anaconda3/envs/Data Science/lib/python3.12/site-packages/xgboost/core.py:158: UserWarning: [21:41:13] WARNING: /Users/runner/work/xgboost/xgboost/src/learner.cc:740: \n",
      "Parameters: { \"use_label_encoder\" } are not used.\n",
      "\n",
      "  warnings.warn(smsg, UserWarning)\n",
      "/Users/ramonwinkler/anaconda3/envs/Data Science/lib/python3.12/site-packages/xgboost/core.py:158: UserWarning: [21:41:13] WARNING: /Users/runner/work/xgboost/xgboost/src/learner.cc:740: \n",
      "Parameters: { \"use_label_encoder\" } are not used.\n",
      "\n",
      "  warnings.warn(smsg, UserWarning)\n",
      "/Users/ramonwinkler/anaconda3/envs/Data Science/lib/python3.12/site-packages/xgboost/core.py:158: UserWarning: [21:41:13] WARNING: /Users/runner/work/xgboost/xgboost/src/learner.cc:740: \n",
      "Parameters: { \"use_label_encoder\" } are not used.\n",
      "\n",
      "  warnings.warn(smsg, UserWarning)\n",
      "/Users/ramonwinkler/anaconda3/envs/Data Science/lib/python3.12/site-packages/xgboost/core.py:158: UserWarning: [21:41:13] WARNING: /Users/runner/work/xgboost/xgboost/src/learner.cc:740: \n",
      "Parameters: { \"use_label_encoder\" } are not used.\n",
      "\n",
      "  warnings.warn(smsg, UserWarning)\n",
      "/Users/ramonwinkler/anaconda3/envs/Data Science/lib/python3.12/site-packages/xgboost/core.py:158: UserWarning: [21:41:13] WARNING: /Users/runner/work/xgboost/xgboost/src/learner.cc:740: \n",
      "Parameters: { \"use_label_encoder\" } are not used.\n",
      "\n",
      "  warnings.warn(smsg, UserWarning)\n",
      "/Users/ramonwinkler/anaconda3/envs/Data Science/lib/python3.12/site-packages/xgboost/core.py:158: UserWarning: [21:41:13] WARNING: /Users/runner/work/xgboost/xgboost/src/learner.cc:740: \n",
      "Parameters: { \"use_label_encoder\" } are not used.\n",
      "\n",
      "  warnings.warn(smsg, UserWarning)\n",
      "/Users/ramonwinkler/anaconda3/envs/Data Science/lib/python3.12/site-packages/xgboost/core.py:158: UserWarning: [21:41:13] WARNING: /Users/runner/work/xgboost/xgboost/src/learner.cc:740: \n",
      "Parameters: { \"use_label_encoder\" } are not used.\n",
      "\n",
      "  warnings.warn(smsg, UserWarning)\n",
      "/Users/ramonwinkler/anaconda3/envs/Data Science/lib/python3.12/site-packages/xgboost/core.py:158: UserWarning: [21:41:13] WARNING: /Users/runner/work/xgboost/xgboost/src/learner.cc:740: \n",
      "Parameters: { \"use_label_encoder\" } are not used.\n",
      "\n",
      "  warnings.warn(smsg, UserWarning)\n",
      "/Users/ramonwinkler/anaconda3/envs/Data Science/lib/python3.12/site-packages/xgboost/core.py:158: UserWarning: [21:41:13] WARNING: /Users/runner/work/xgboost/xgboost/src/learner.cc:740: \n",
      "Parameters: { \"use_label_encoder\" } are not used.\n",
      "\n",
      "  warnings.warn(smsg, UserWarning)\n",
      "/Users/ramonwinkler/anaconda3/envs/Data Science/lib/python3.12/site-packages/xgboost/core.py:158: UserWarning: [21:41:13] WARNING: /Users/runner/work/xgboost/xgboost/src/learner.cc:740: \n",
      "Parameters: { \"use_label_encoder\" } are not used.\n",
      "\n",
      "  warnings.warn(smsg, UserWarning)\n",
      "/Users/ramonwinkler/anaconda3/envs/Data Science/lib/python3.12/site-packages/xgboost/core.py:158: UserWarning: [21:41:13] WARNING: /Users/runner/work/xgboost/xgboost/src/learner.cc:740: \n",
      "Parameters: { \"use_label_encoder\" } are not used.\n",
      "\n",
      "  warnings.warn(smsg, UserWarning)\n",
      "/Users/ramonwinkler/anaconda3/envs/Data Science/lib/python3.12/site-packages/xgboost/core.py:158: UserWarning: [21:41:13] WARNING: /Users/runner/work/xgboost/xgboost/src/learner.cc:740: \n",
      "Parameters: { \"use_label_encoder\" } are not used.\n",
      "\n",
      "  warnings.warn(smsg, UserWarning)\n",
      "/Users/ramonwinkler/anaconda3/envs/Data Science/lib/python3.12/site-packages/xgboost/core.py:158: UserWarning: [21:41:13] WARNING: /Users/runner/work/xgboost/xgboost/src/learner.cc:740: \n",
      "Parameters: { \"use_label_encoder\" } are not used.\n",
      "\n",
      "  warnings.warn(smsg, UserWarning)\n",
      "/Users/ramonwinkler/anaconda3/envs/Data Science/lib/python3.12/site-packages/xgboost/core.py:158: UserWarning: [21:41:13] WARNING: /Users/runner/work/xgboost/xgboost/src/learner.cc:740: \n",
      "Parameters: { \"use_label_encoder\" } are not used.\n",
      "\n",
      "  warnings.warn(smsg, UserWarning)\n",
      "/Users/ramonwinkler/anaconda3/envs/Data Science/lib/python3.12/site-packages/xgboost/core.py:158: UserWarning: [21:41:13] WARNING: /Users/runner/work/xgboost/xgboost/src/learner.cc:740: \n",
      "Parameters: { \"use_label_encoder\" } are not used.\n",
      "\n",
      "  warnings.warn(smsg, UserWarning)\n",
      "/Users/ramonwinkler/anaconda3/envs/Data Science/lib/python3.12/site-packages/xgboost/core.py:158: UserWarning: [21:41:13] WARNING: /Users/runner/work/xgboost/xgboost/src/learner.cc:740: \n",
      "Parameters: { \"use_label_encoder\" } are not used.\n",
      "\n",
      "  warnings.warn(smsg, UserWarning)\n",
      "/Users/ramonwinkler/anaconda3/envs/Data Science/lib/python3.12/site-packages/xgboost/core.py:158: UserWarning: [21:41:13] WARNING: /Users/runner/work/xgboost/xgboost/src/learner.cc:740: \n",
      "Parameters: { \"use_label_encoder\" } are not used.\n",
      "\n",
      "  warnings.warn(smsg, UserWarning)\n",
      "/Users/ramonwinkler/anaconda3/envs/Data Science/lib/python3.12/site-packages/xgboost/core.py:158: UserWarning: [21:41:13] WARNING: /Users/runner/work/xgboost/xgboost/src/learner.cc:740: \n",
      "Parameters: { \"use_label_encoder\" } are not used.\n",
      "\n",
      "  warnings.warn(smsg, UserWarning)\n",
      "/Users/ramonwinkler/anaconda3/envs/Data Science/lib/python3.12/site-packages/xgboost/core.py:158: UserWarning: [21:41:13] WARNING: /Users/runner/work/xgboost/xgboost/src/learner.cc:740: \n",
      "Parameters: { \"use_label_encoder\" } are not used.\n",
      "\n",
      "  warnings.warn(smsg, UserWarning)\n",
      "/Users/ramonwinkler/anaconda3/envs/Data Science/lib/python3.12/site-packages/xgboost/core.py:158: UserWarning: [21:41:14] WARNING: /Users/runner/work/xgboost/xgboost/src/learner.cc:740: \n",
      "Parameters: { \"use_label_encoder\" } are not used.\n",
      "\n",
      "  warnings.warn(smsg, UserWarning)\n",
      "/Users/ramonwinkler/anaconda3/envs/Data Science/lib/python3.12/site-packages/xgboost/core.py:158: UserWarning: [21:41:14] WARNING: /Users/runner/work/xgboost/xgboost/src/learner.cc:740: \n",
      "Parameters: { \"use_label_encoder\" } are not used.\n",
      "\n",
      "  warnings.warn(smsg, UserWarning)\n",
      "/Users/ramonwinkler/anaconda3/envs/Data Science/lib/python3.12/site-packages/xgboost/core.py:158: UserWarning: [21:41:14] WARNING: /Users/runner/work/xgboost/xgboost/src/learner.cc:740: \n",
      "Parameters: { \"use_label_encoder\" } are not used.\n",
      "\n",
      "  warnings.warn(smsg, UserWarning)\n",
      "/Users/ramonwinkler/anaconda3/envs/Data Science/lib/python3.12/site-packages/xgboost/core.py:158: UserWarning: [21:41:14] WARNING: /Users/runner/work/xgboost/xgboost/src/learner.cc:740: \n",
      "Parameters: { \"use_label_encoder\" } are not used.\n",
      "\n",
      "  warnings.warn(smsg, UserWarning)\n",
      "/Users/ramonwinkler/anaconda3/envs/Data Science/lib/python3.12/site-packages/xgboost/core.py:158: UserWarning: [21:41:14] WARNING: /Users/runner/work/xgboost/xgboost/src/learner.cc:740: \n",
      "Parameters: { \"use_label_encoder\" } are not used.\n",
      "\n",
      "  warnings.warn(smsg, UserWarning)\n",
      "/Users/ramonwinkler/anaconda3/envs/Data Science/lib/python3.12/site-packages/xgboost/core.py:158: UserWarning: [21:41:14] WARNING: /Users/runner/work/xgboost/xgboost/src/learner.cc:740: \n",
      "Parameters: { \"use_label_encoder\" } are not used.\n",
      "\n",
      "  warnings.warn(smsg, UserWarning)\n",
      "/Users/ramonwinkler/anaconda3/envs/Data Science/lib/python3.12/site-packages/xgboost/core.py:158: UserWarning: [21:41:14] WARNING: /Users/runner/work/xgboost/xgboost/src/learner.cc:740: \n",
      "Parameters: { \"use_label_encoder\" } are not used.\n",
      "\n",
      "  warnings.warn(smsg, UserWarning)\n",
      "/Users/ramonwinkler/anaconda3/envs/Data Science/lib/python3.12/site-packages/xgboost/core.py:158: UserWarning: [21:41:14] WARNING: /Users/runner/work/xgboost/xgboost/src/learner.cc:740: \n",
      "Parameters: { \"use_label_encoder\" } are not used.\n",
      "\n",
      "  warnings.warn(smsg, UserWarning)\n",
      "/Users/ramonwinkler/anaconda3/envs/Data Science/lib/python3.12/site-packages/xgboost/core.py:158: UserWarning: [21:41:14] WARNING: /Users/runner/work/xgboost/xgboost/src/learner.cc:740: \n",
      "Parameters: { \"use_label_encoder\" } are not used.\n",
      "\n",
      "  warnings.warn(smsg, UserWarning)\n",
      "/Users/ramonwinkler/anaconda3/envs/Data Science/lib/python3.12/site-packages/xgboost/core.py:158: UserWarning: [21:41:14] WARNING: /Users/runner/work/xgboost/xgboost/src/learner.cc:740: \n",
      "Parameters: { \"use_label_encoder\" } are not used.\n",
      "\n",
      "  warnings.warn(smsg, UserWarning)\n",
      "/Users/ramonwinkler/anaconda3/envs/Data Science/lib/python3.12/site-packages/xgboost/core.py:158: UserWarning: [21:41:14] WARNING: /Users/runner/work/xgboost/xgboost/src/learner.cc:740: \n",
      "Parameters: { \"use_label_encoder\" } are not used.\n",
      "\n",
      "  warnings.warn(smsg, UserWarning)\n",
      "/Users/ramonwinkler/anaconda3/envs/Data Science/lib/python3.12/site-packages/xgboost/core.py:158: UserWarning: [21:41:14] WARNING: /Users/runner/work/xgboost/xgboost/src/learner.cc:740: \n",
      "Parameters: { \"use_label_encoder\" } are not used.\n",
      "\n",
      "  warnings.warn(smsg, UserWarning)\n",
      "/Users/ramonwinkler/anaconda3/envs/Data Science/lib/python3.12/site-packages/xgboost/core.py:158: UserWarning: [21:41:14] WARNING: /Users/runner/work/xgboost/xgboost/src/learner.cc:740: \n",
      "Parameters: { \"use_label_encoder\" } are not used.\n",
      "\n",
      "  warnings.warn(smsg, UserWarning)\n",
      "/Users/ramonwinkler/anaconda3/envs/Data Science/lib/python3.12/site-packages/xgboost/core.py:158: UserWarning: [21:41:14] WARNING: /Users/runner/work/xgboost/xgboost/src/learner.cc:740: \n",
      "Parameters: { \"use_label_encoder\" } are not used.\n",
      "\n",
      "  warnings.warn(smsg, UserWarning)\n",
      "/Users/ramonwinkler/anaconda3/envs/Data Science/lib/python3.12/site-packages/xgboost/core.py:158: UserWarning: [21:41:14] WARNING: /Users/runner/work/xgboost/xgboost/src/learner.cc:740: \n",
      "Parameters: { \"use_label_encoder\" } are not used.\n",
      "\n",
      "  warnings.warn(smsg, UserWarning)\n",
      "/Users/ramonwinkler/anaconda3/envs/Data Science/lib/python3.12/site-packages/xgboost/core.py:158: UserWarning: [21:41:14] WARNING: /Users/runner/work/xgboost/xgboost/src/learner.cc:740: \n",
      "Parameters: { \"use_label_encoder\" } are not used.\n",
      "\n",
      "  warnings.warn(smsg, UserWarning)\n",
      "/Users/ramonwinkler/anaconda3/envs/Data Science/lib/python3.12/site-packages/xgboost/core.py:158: UserWarning: [21:41:14] WARNING: /Users/runner/work/xgboost/xgboost/src/learner.cc:740: \n",
      "Parameters: { \"use_label_encoder\" } are not used.\n",
      "\n",
      "  warnings.warn(smsg, UserWarning)\n",
      "/Users/ramonwinkler/anaconda3/envs/Data Science/lib/python3.12/site-packages/xgboost/core.py:158: UserWarning: [21:41:14] WARNING: /Users/runner/work/xgboost/xgboost/src/learner.cc:740: \n",
      "Parameters: { \"use_label_encoder\" } are not used.\n",
      "\n",
      "  warnings.warn(smsg, UserWarning)\n",
      "/Users/ramonwinkler/anaconda3/envs/Data Science/lib/python3.12/site-packages/xgboost/core.py:158: UserWarning: [21:41:14] WARNING: /Users/runner/work/xgboost/xgboost/src/learner.cc:740: \n",
      "Parameters: { \"use_label_encoder\" } are not used.\n",
      "\n",
      "  warnings.warn(smsg, UserWarning)\n",
      "/Users/ramonwinkler/anaconda3/envs/Data Science/lib/python3.12/site-packages/xgboost/core.py:158: UserWarning: [21:41:14] WARNING: /Users/runner/work/xgboost/xgboost/src/learner.cc:740: \n",
      "Parameters: { \"use_label_encoder\" } are not used.\n",
      "\n",
      "  warnings.warn(smsg, UserWarning)\n",
      "/Users/ramonwinkler/anaconda3/envs/Data Science/lib/python3.12/site-packages/xgboost/core.py:158: UserWarning: [21:41:15] WARNING: /Users/runner/work/xgboost/xgboost/src/learner.cc:740: \n",
      "Parameters: { \"use_label_encoder\" } are not used.\n",
      "\n",
      "  warnings.warn(smsg, UserWarning)\n",
      "/Users/ramonwinkler/anaconda3/envs/Data Science/lib/python3.12/site-packages/xgboost/core.py:158: UserWarning: [21:41:15] WARNING: /Users/runner/work/xgboost/xgboost/src/learner.cc:740: \n",
      "Parameters: { \"use_label_encoder\" } are not used.\n",
      "\n",
      "  warnings.warn(smsg, UserWarning)\n",
      "/Users/ramonwinkler/anaconda3/envs/Data Science/lib/python3.12/site-packages/xgboost/core.py:158: UserWarning: [21:41:15] WARNING: /Users/runner/work/xgboost/xgboost/src/learner.cc:740: \n",
      "Parameters: { \"use_label_encoder\" } are not used.\n",
      "\n",
      "  warnings.warn(smsg, UserWarning)\n",
      "/Users/ramonwinkler/anaconda3/envs/Data Science/lib/python3.12/site-packages/xgboost/core.py:158: UserWarning: [21:41:15] WARNING: /Users/runner/work/xgboost/xgboost/src/learner.cc:740: \n",
      "Parameters: { \"use_label_encoder\" } are not used.\n",
      "\n",
      "  warnings.warn(smsg, UserWarning)\n",
      "/Users/ramonwinkler/anaconda3/envs/Data Science/lib/python3.12/site-packages/xgboost/core.py:158: UserWarning: [21:41:15] WARNING: /Users/runner/work/xgboost/xgboost/src/learner.cc:740: \n",
      "Parameters: { \"use_label_encoder\" } are not used.\n",
      "\n",
      "  warnings.warn(smsg, UserWarning)\n",
      "/Users/ramonwinkler/anaconda3/envs/Data Science/lib/python3.12/site-packages/xgboost/core.py:158: UserWarning: [21:41:15] WARNING: /Users/runner/work/xgboost/xgboost/src/learner.cc:740: \n",
      "Parameters: { \"use_label_encoder\" } are not used.\n",
      "\n",
      "  warnings.warn(smsg, UserWarning)\n",
      "/Users/ramonwinkler/anaconda3/envs/Data Science/lib/python3.12/site-packages/xgboost/core.py:158: UserWarning: [21:41:15] WARNING: /Users/runner/work/xgboost/xgboost/src/learner.cc:740: \n",
      "Parameters: { \"use_label_encoder\" } are not used.\n",
      "\n",
      "  warnings.warn(smsg, UserWarning)\n",
      "/Users/ramonwinkler/anaconda3/envs/Data Science/lib/python3.12/site-packages/xgboost/core.py:158: UserWarning: [21:41:15] WARNING: /Users/runner/work/xgboost/xgboost/src/learner.cc:740: \n",
      "Parameters: { \"use_label_encoder\" } are not used.\n",
      "\n",
      "  warnings.warn(smsg, UserWarning)\n",
      "/Users/ramonwinkler/anaconda3/envs/Data Science/lib/python3.12/site-packages/xgboost/core.py:158: UserWarning: [21:41:15] WARNING: /Users/runner/work/xgboost/xgboost/src/learner.cc:740: \n",
      "Parameters: { \"use_label_encoder\" } are not used.\n",
      "\n",
      "  warnings.warn(smsg, UserWarning)\n",
      "/Users/ramonwinkler/anaconda3/envs/Data Science/lib/python3.12/site-packages/xgboost/core.py:158: UserWarning: [21:41:15] WARNING: /Users/runner/work/xgboost/xgboost/src/learner.cc:740: \n",
      "Parameters: { \"use_label_encoder\" } are not used.\n",
      "\n",
      "  warnings.warn(smsg, UserWarning)\n",
      "/Users/ramonwinkler/anaconda3/envs/Data Science/lib/python3.12/site-packages/xgboost/core.py:158: UserWarning: [21:41:15] WARNING: /Users/runner/work/xgboost/xgboost/src/learner.cc:740: \n",
      "Parameters: { \"use_label_encoder\" } are not used.\n",
      "\n",
      "  warnings.warn(smsg, UserWarning)\n",
      "/Users/ramonwinkler/anaconda3/envs/Data Science/lib/python3.12/site-packages/xgboost/core.py:158: UserWarning: [21:41:15] WARNING: /Users/runner/work/xgboost/xgboost/src/learner.cc:740: \n",
      "Parameters: { \"use_label_encoder\" } are not used.\n",
      "\n",
      "  warnings.warn(smsg, UserWarning)\n",
      "/Users/ramonwinkler/anaconda3/envs/Data Science/lib/python3.12/site-packages/xgboost/core.py:158: UserWarning: [21:41:15] WARNING: /Users/runner/work/xgboost/xgboost/src/learner.cc:740: \n",
      "Parameters: { \"use_label_encoder\" } are not used.\n",
      "\n",
      "  warnings.warn(smsg, UserWarning)\n"
     ]
    },
    {
     "name": "stdout",
     "output_type": "stream",
     "text": [
      "Best parameters found: {'subsample': 0.8, 'scale_pos_weight': 1, 'n_estimators': 500, 'min_child_weight': 1, 'max_depth': 9, 'learning_rate': 0.01, 'gamma': 0, 'colsample_bytree': 0.6}\n",
      "Best F1 Score: 0.8408490623681901\n"
     ]
    }
   ],
   "source": [
    "# Define parameter grid\n",
    "param_grid = {\n",
    "    'n_estimators': [100, 200, 300, 400, 500],\n",
    "    'max_depth': [3, 5, 7, 9, 10],\n",
    "    'learning_rate': [0.01, 0.05, 0.1, 0.2, 0.3],\n",
    "    'min_child_weight': [1, 3, 5, 7],\n",
    "    'gamma': [0, 0.1, 0.3, 0.5],\n",
    "    'subsample': [0.6, 0.8, 1.0],\n",
    "    'colsample_bytree': [0.6, 0.8, 1.0],\n",
    "    'scale_pos_weight': [1, 10, 20, 30]  # Adjust for imbalance\n",
    "}\n",
    "\n",
    "# Initialize XGBClassifier\n",
    "xgb_model = XGBClassifier(random_state=42, use_label_encoder=False, eval_metric='logloss')\n",
    "\n",
    "# Define scoring metric (F1 for minority class)\n",
    "f1_scorer = make_scorer(f1_score, pos_label=1)\n",
    "\n",
    "# Setup RandomizedSearchCV\n",
    "xgb_random_search = RandomizedSearchCV(\n",
    "    estimator=xgb_model,\n",
    "    param_distributions=param_grid,\n",
    "    n_iter=20,\n",
    "    scoring=f1_scorer,\n",
    "    cv=5,\n",
    "    verbose=1,\n",
    "    random_state=42,\n",
    "    n_jobs=-1\n",
    ")\n",
    "\n",
    "# Fit model\n",
    "xgb_random_search.fit(X_train2, y_train2)\n",
    "\n",
    "# Print best parameters and score\n",
    "print(\"Best parameters found:\", xgb_random_search.best_params_)\n",
    "print(\"Best F1 Score:\", xgb_random_search.best_score_)"
   ]
  },
  {
   "cell_type": "code",
   "execution_count": 144,
   "metadata": {
    "id": "yeMtqAd42F23"
   },
   "outputs": [
    {
     "name": "stdout",
     "output_type": "stream",
     "text": [
      "Confusion Matrix (Test):\n",
      "[[671  54]\n",
      " [101  22]]\n",
      "\n",
      "Accuracy of Extreme Gradient Boost: 81.72169811320755 \n",
      "\n",
      "              precision    recall  f1-score   support\n",
      "\n",
      "           0       0.87      0.93      0.90       725\n",
      "           1       0.29      0.18      0.22       123\n",
      "\n",
      "    accuracy                           0.82       848\n",
      "   macro avg       0.58      0.55      0.56       848\n",
      "weighted avg       0.79      0.82      0.80       848\n",
      "\n"
     ]
    }
   ],
   "source": [
    "# Optimized Model\n",
    "m5 = \"Extreme Gradient Boost\"\n",
    "xgb = XGBClassifier(subsample= 0.8, scale_pos_weight= 1, n_estimators= 500, min_child_weight= 1, max_depth= 9, learning_rate= 0.01, gamma= 0, colsample_bytree= 0.6)\n",
    "\n",
    "xgb.fit(X_train2, y_train2)\n",
    "\n",
    "# Predict on the test set\n",
    "xgb_predict_test2 = xgb.predict(X_test2)\n",
    "xgb_conf_matrix2 = confusion_matrix(y_test2, xgb_predict_test2)\n",
    "xgb_acc_score2 = accuracy_score(y_test2, xgb_predict_test2)\n",
    "\n",
    "# Print performance on the test set\n",
    "print(\"Confusion Matrix (Test):\")\n",
    "print(xgb_conf_matrix2)\n",
    "print(\"\\nAccuracy of Extreme Gradient Boost:\", xgb_acc_score2 * 100, '\\n')\n",
    "print(classification_report(y_test2, xgb_predict_test2))"
   ]
  },
  {
   "cell_type": "markdown",
   "metadata": {
    "id": "F2zhuf90oAAf"
   },
   "source": [
    "## KNN"
   ]
  },
  {
   "cell_type": "code",
   "execution_count": 145,
   "metadata": {
    "id": "VL-lfti5oAAf",
    "outputId": "6b369824-786e-4ef3-f111-6ee910291a1c"
   },
   "outputs": [
    {
     "name": "stdout",
     "output_type": "stream",
     "text": [
      "Test Set Performance:\n",
      "Confusion Matrix (Test):\n",
      "[[504 221]\n",
      " [ 69  54]]\n",
      "\n",
      "Accuracy of Model (Test): 65.80188679245283 \n",
      "\n",
      "              precision    recall  f1-score   support\n",
      "\n",
      "           0       0.88      0.70      0.78       725\n",
      "           1       0.20      0.44      0.27       123\n",
      "\n",
      "    accuracy                           0.66       848\n",
      "   macro avg       0.54      0.57      0.52       848\n",
      "weighted avg       0.78      0.66      0.70       848\n",
      "\n",
      "Model Performance Results: None\n"
     ]
    }
   ],
   "source": [
    "# Model 6: K-Neighbors Classifier\n",
    "m6 = \"K-Neighbors Classifier\"\n",
    "knn = KNeighborsClassifier()\n",
    "results = ml_model_smote(knn, X_train2, y_train2, X_test2, y_test2)\n",
    "\n",
    "# Print results for further analysis\n",
    "print(\"Model Performance Results:\", results)"
   ]
  },
  {
   "cell_type": "code",
   "execution_count": 146,
   "metadata": {
    "id": "sK0SLmu43RpK"
   },
   "outputs": [
    {
     "name": "stdout",
     "output_type": "stream",
     "text": [
      "Fitting 5 folds for each of 20 candidates, totalling 100 fits\n",
      "Best parameters found: {'weights': 'distance', 'n_neighbors': 1, 'metric': 'manhattan', 'algorithm': 'ball_tree'}\n",
      "Best F1 Score: 0.8889925138101752\n"
     ]
    }
   ],
   "source": [
    "# Define parameter grid\n",
    "param_grid = {\n",
    "    'n_neighbors': [1, 3, 5, 7, 10, 15, 20, 25, 30],\n",
    "    'weights': ['uniform', 'distance'],\n",
    "    'metric': ['euclidean', 'manhattan', 'minkowski'],\n",
    "    'algorithm': ['auto', 'ball_tree', 'kd_tree', 'brute']\n",
    "}\n",
    "\n",
    "# Initialize kNN\n",
    "knn_model = KNeighborsClassifier()\n",
    "\n",
    "# Define scoring metric (F1 for minority class)\n",
    "f1_scorer = make_scorer(f1_score, pos_label=1)\n",
    "\n",
    "# Setup RandomizedSearchCV\n",
    "knn_random_search = RandomizedSearchCV(\n",
    "    estimator=knn_model,\n",
    "    param_distributions=param_grid,\n",
    "    n_iter=20,  # Define as per available resources\n",
    "    scoring=f1_scorer,\n",
    "    cv=5,\n",
    "    verbose=1,\n",
    "    random_state=42,\n",
    "    n_jobs=-1\n",
    ")\n",
    "\n",
    "# Fit model\n",
    "knn_random_search.fit(X_train2, y_train2)\n",
    "\n",
    "# Print best parameters and score\n",
    "print(\"Best parameters found:\", knn_random_search.best_params_)\n",
    "print(\"Best F1 Score:\", knn_random_search.best_score_)"
   ]
  },
  {
   "cell_type": "code",
   "execution_count": 147,
   "metadata": {
    "id": "BR9qr2gF3Rr9"
   },
   "outputs": [
    {
     "name": "stdout",
     "output_type": "stream",
     "text": [
      "Confusion Matrix (Test):\n",
      "[[593 132]\n",
      " [ 87  36]]\n",
      "\n",
      "Accuracy of K-Neighbors Classifier: 74.1745283018868 \n",
      "\n",
      "              precision    recall  f1-score   support\n",
      "\n",
      "           0       0.87      0.82      0.84       725\n",
      "           1       0.21      0.29      0.25       123\n",
      "\n",
      "    accuracy                           0.74       848\n",
      "   macro avg       0.54      0.56      0.55       848\n",
      "weighted avg       0.78      0.74      0.76       848\n",
      "\n"
     ]
    }
   ],
   "source": [
    "# Initialize the K-Neighbors Classifier\n",
    "m6 = 'K-NeighborsClassifier'\n",
    "knn = KNeighborsClassifier(weights= 'distance', n_neighbors= 1, metric= 'manhattan', algorithm= 'ball_tree')\n",
    "\n",
    "knn.fit(X_train2, y_train2)\n",
    "\n",
    "# Predict on the test set\n",
    "knn_predict_test2 = knn.predict(X_test2)\n",
    "knn_conf_matrix2 = confusion_matrix(y_test2, knn_predict_test2)\n",
    "knn_acc_score2 = accuracy_score(y_test2, knn_predict_test2)\n",
    "\n",
    "# Print performance on the test set\n",
    "print(\"Confusion Matrix (Test):\")\n",
    "print(knn_conf_matrix2)\n",
    "print(\"\\nAccuracy of K-Neighbors Classifier:\", knn_acc_score2 * 100, '\\n')\n",
    "print(classification_report(y_test2, knn_predict_test2))"
   ]
  },
  {
   "cell_type": "markdown",
   "metadata": {
    "id": "eAG48toHoAAf"
   },
   "source": [
    "## SVM"
   ]
  },
  {
   "cell_type": "code",
   "execution_count": 148,
   "metadata": {
    "id": "UtC2RomjoAAg",
    "outputId": "3773fb79-6b7d-423f-b501-a691eb7c4f8c"
   },
   "outputs": [
    {
     "name": "stdout",
     "output_type": "stream",
     "text": [
      "Test Set Performance:\n",
      "Confusion Matrix (Test):\n",
      "[[520 205]\n",
      " [ 73  50]]\n",
      "\n",
      "Accuracy of Model (Test): 67.21698113207547 \n",
      "\n",
      "              precision    recall  f1-score   support\n",
      "\n",
      "           0       0.88      0.72      0.79       725\n",
      "           1       0.20      0.41      0.26       123\n",
      "\n",
      "    accuracy                           0.67       848\n",
      "   macro avg       0.54      0.56      0.53       848\n",
      "weighted avg       0.78      0.67      0.71       848\n",
      "\n",
      "Model Performance Results: None\n"
     ]
    }
   ],
   "source": [
    "# Model 7: Support Vector Classifier\n",
    "m7 = \"Support Vector Classifier\"\n",
    "svc = SVC()\n",
    "results = ml_model_smote(svc, X_train2, y_train2, X_test2, y_test2)\n",
    "\n",
    "# Print results for further analysis\n",
    "print(\"Model Performance Results:\", results)"
   ]
  },
  {
   "cell_type": "code",
   "execution_count": 149,
   "metadata": {
    "id": "CFhAgkzy4w7-"
   },
   "outputs": [
    {
     "name": "stdout",
     "output_type": "stream",
     "text": [
      "Fitting 5 folds for each of 10 candidates, totalling 50 fits\n",
      "Best parameters found: {'kernel': 'rbf', 'gamma': 1, 'degree': 4, 'class_weight': None, 'C': 1}\n",
      "Best F1 Score: 0.9305333758570997\n"
     ]
    }
   ],
   "source": [
    "# Define parameter grid\n",
    "param_grid = {\n",
    "    'C': [0.1, 1, 10, 100, 1000],\n",
    "    'kernel': ['linear', 'poly', 'rbf', 'sigmoid'],\n",
    "    'gamma': [0.001, 0.01, 0.1, 1],\n",
    "    'degree': [2, 3, 4, 5],\n",
    "    'class_weight': [None, 'balanced']\n",
    "}\n",
    "\n",
    "# Initialize SVM\n",
    "svm_model = SVC()\n",
    "\n",
    "# Define scoring metric (F1 for minority class)\n",
    "f1_scorer = make_scorer(f1_score, pos_label=1)\n",
    "\n",
    "# Setup RandomizedSearchCV\n",
    "svm_random_search = RandomizedSearchCV(\n",
    "    estimator=svm_model,\n",
    "    param_distributions=param_grid,\n",
    "    n_iter=10,\n",
    "    scoring=f1_scorer,\n",
    "    cv=5,\n",
    "    verbose=1,\n",
    "    random_state=42,\n",
    "    n_jobs=-1\n",
    ")\n",
    "\n",
    "# Fit model\n",
    "svm_random_search.fit(X_train2, y_train2)\n",
    "\n",
    "# Print best parameters and score\n",
    "print(\"Best parameters found:\", svm_random_search.best_params_)\n",
    "print(\"Best F1 Score:\", svm_random_search.best_score_)"
   ]
  },
  {
   "cell_type": "code",
   "execution_count": 150,
   "metadata": {
    "id": "xfg2tT60tFjt"
   },
   "outputs": [
    {
     "name": "stdout",
     "output_type": "stream",
     "text": [
      "Confusion Matrix (Test):\n",
      "[[693  32]\n",
      " [114   9]]\n",
      "\n",
      "Accuracy of Support Vector Classifier: 82.78301886792453 \n",
      "\n",
      "              precision    recall  f1-score   support\n",
      "\n",
      "           0       0.86      0.96      0.90       725\n",
      "           1       0.22      0.07      0.11       123\n",
      "\n",
      "    accuracy                           0.83       848\n",
      "   macro avg       0.54      0.51      0.51       848\n",
      "weighted avg       0.77      0.83      0.79       848\n",
      "\n"
     ]
    }
   ],
   "source": [
    "# Optimized Model\n",
    "m7 = 'Support Vector Classifier'\n",
    "svc = SVC(kernel= 'rbf', gamma= 1, degree= 4, class_weight= None, C= 1)\n",
    "\n",
    "# Fit the model with the undersampled training data\n",
    "svc.fit(X_train2, y_train2)\n",
    "\n",
    "# Predict on the test set\n",
    "svc_predict_test2 = svc.predict(X_test2)\n",
    "svc_conf_matrix2 = confusion_matrix(y_test2, svc_predict_test2)\n",
    "svc_acc_score2 = accuracy_score(y_test2, svc_predict_test2)\n",
    "\n",
    "# Print performance on the test set\n",
    "print(\"Confusion Matrix (Test):\")\n",
    "print(svc_conf_matrix2)\n",
    "print(\"\\nAccuracy of Support Vector Classifier:\", svc_acc_score2 * 100, '\\n')\n",
    "print(classification_report(y_test2, svc_predict_test2))"
   ]
  },
  {
   "cell_type": "markdown",
   "metadata": {
    "id": "S1AFn4ji5Ip_"
   },
   "source": [
    "## ROC Curve for models with SMOTE"
   ]
  },
  {
   "cell_type": "code",
   "execution_count": 151,
   "metadata": {
    "id": "cmpbrtRB5Q3U"
   },
   "outputs": [
    {
     "data": {
      "image/png": "[encoded data removed]",
      "text/plain": [
       "<Figure size 1000x500 with 1 Axes>"
      ]
     },
     "metadata": {},
     "output_type": "display_data"
    }
   ],
   "source": [
    "import matplotlib.pyplot as plt\n",
    "import seaborn as sns\n",
    "\n",
    "lr_false_positive_rate2,lr_true_positive_rate2,lr_threshold2 = roc_curve(y_test2,lr_predict_test2)\n",
    "nb_false_positive_rate2,nb_true_positive_rate2,nb_threshold2 = roc_curve(y_test2,nb_predict_test2)\n",
    "rf_false_positive_rate2,rf_true_positive_rate2,rf_threshold2 = roc_curve(y_test2,rf_predict_test2)\n",
    "xgb_false_positive_rate2,xgb_true_positive_rate2,xgb_threshold2 = roc_curve(y_test2,xgb_predict_test2)\n",
    "knn_false_positive_rate2,knn_true_positive_rate2,knn_threshold2 = roc_curve(y_test2,knn_predict_test2)\n",
    "dt_false_positive_rate2,dt_true_positive_rate2,dt_threshold2 = roc_curve(y_test2,dt_predict_test2)\n",
    "svc_false_positive_rate2,svc_true_positive_rate2,svc_threshold2 = roc_curve(y_test2,svc_predict_test2)\n",
    "\n",
    "\n",
    "sns.set_style('whitegrid')\n",
    "plt.figure(figsize=(10,5))\n",
    "plt.title('Reciver Operating Characterstic Curve')\n",
    "plt.plot(lr_false_positive_rate2,lr_true_positive_rate2,label='Logistic Regression')\n",
    "plt.plot(nb_false_positive_rate2,nb_true_positive_rate2,label='Naive Bayes')\n",
    "plt.plot(rf_false_positive_rate2,rf_true_positive_rate2,label='Random Forest')\n",
    "plt.plot(xgb_false_positive_rate2,xgb_true_positive_rate2,label='Extreme Gradient Boost')\n",
    "plt.plot(knn_false_positive_rate2,knn_true_positive_rate2,label='K-Nearest Neighbor')\n",
    "plt.plot(dt_false_positive_rate2,dt_true_positive_rate2,label='Decision Tree')\n",
    "plt.plot(svc_false_positive_rate2,svc_true_positive_rate2,label='Support Vector Classifier')\n",
    "plt.plot([0,1],ls='--')\n",
    "plt.plot([0,0],[1,0],c='.5')\n",
    "plt.plot([1,1],c='.5')\n",
    "plt.ylabel('True positive rate')\n",
    "plt.xlabel('False positive rate')\n",
    "plt.legend()\n",
    "plt.show()"
   ]
  },
  {
   "cell_type": "markdown",
   "metadata": {
    "id": "INVVgIljy8_S"
   },
   "source": [
    "# Summary over all different sampling modes - for the best models\n",
    "\n"
   ]
  },
  {
   "cell_type": "markdown",
   "metadata": {},
   "source": [
    "## Naive Bayes ROC"
   ]
  },
  {
   "cell_type": "code",
   "execution_count": 154,
   "metadata": {},
   "outputs": [
    {
     "data": {
      "image/png": "[encoded data removed]",
      "text/plain": [
       "<Figure size 1000x500 with 1 Axes>"
      ]
     },
     "metadata": {},
     "output_type": "display_data"
    }
   ],
   "source": [
    "nb_false_positive_rate,nb_true_positive_rate,nb_threshold = roc_curve(y_test,nb_predict_test)\n",
    "nb_false_positive_rate1,nb_true_positive_rate1,nb_threshold1 = roc_curve(y_test1,nb_predict_test1)\n",
    "nb_false_positive_rate2,nb_true_positive_rate2,nb_threshold2 = roc_curve(y_test2,nb_predict_test2)\n",
    "\n",
    "\n",
    "sns.set_style('whitegrid')\n",
    "plt.figure(figsize=(10,5))\n",
    "plt.title('Reciver Operating Characterstic Curve')\n",
    "\n",
    "plt.plot(nb_false_positive_rate,nb_true_positive_rate,label='Naive Bayes Undersampled')\n",
    "plt.plot(nb_false_positive_rate1,nb_true_positive_rate1,label='Naive Bayes Oversampled')\n",
    "plt.plot(nb_false_positive_rate2,nb_true_positive_rate2,label='Naive Bayes SMOTE')\n",
    "\n",
    "plt.plot([0,1],ls='--')\n",
    "plt.plot([0,0],[1,0],c='.5')\n",
    "plt.plot([1,1],c='.5')\n",
    "plt.ylabel('True positive rate')\n",
    "plt.xlabel('False positive rate')\n",
    "plt.legend()\n",
    "plt.show()"
   ]
  },
  {
   "cell_type": "markdown",
   "metadata": {},
   "source": [
    "## Random Forest ROC"
   ]
  },
  {
   "cell_type": "code",
   "execution_count": 155,
   "metadata": {},
   "outputs": [
    {
     "data": {
      "image/png": "[encoded data removed]",
      "text/plain": [
       "<Figure size 1000x500 with 1 Axes>"
      ]
     },
     "metadata": {},
     "output_type": "display_data"
    }
   ],
   "source": [
    "rf_false_positive_rate,rf_true_positive_rate,rf_threshold = roc_curve(y_test,rf_predict_test)\n",
    "rf_false_positive_rate1,rf_true_positive_rate1,rf_threshold1 = roc_curve(y_test1,rf_predict_test1)\n",
    "rf_false_positive_rate2,rf_true_positive_rate2,rf_threshold2 = roc_curve(y_test2,rf_predict_test2)\n",
    "\n",
    "\n",
    "sns.set_style('whitegrid')\n",
    "plt.figure(figsize=(10,5))\n",
    "plt.title('Reciver Operating Characterstic Curve')\n",
    "\n",
    "plt.plot(rf_false_positive_rate,rf_true_positive_rate,label='Random Forest Undersampled')\n",
    "plt.plot(rf_false_positive_rate1,rf_true_positive_rate1,label='Random Forest Oversampled')\n",
    "plt.plot(rf_false_positive_rate2,rf_true_positive_rate2,label='Random Forest SMOTE')\n",
    "\n",
    "plt.plot([0,1],ls='--')\n",
    "plt.plot([0,0],[1,0],c='.5')\n",
    "plt.plot([1,1],c='.5')\n",
    "plt.ylabel('True positive rate')\n",
    "plt.xlabel('False positive rate')\n",
    "plt.legend()\n",
    "plt.show()"
   ]
  }
 ],
 "metadata": {
  "colab": {
   "provenance": [],
   "toc_visible": true
  },
  "kernelspec": {
   "display_name": "Data Science",
   "language": "python",
   "name": "python3"
  },
  "language_info": {
   "codemirror_mode": {
    "name": "ipython",
    "version": 3
   },
   "file_extension": ".py",
   "mimetype": "text/x-python",
   "name": "python",
   "nbconvert_exporter": "python",
   "pygments_lexer": "ipython3",
   "version": "3.12.7"
  }
 },
 "nbformat": 4,
 "nbformat_minor": 0
}
