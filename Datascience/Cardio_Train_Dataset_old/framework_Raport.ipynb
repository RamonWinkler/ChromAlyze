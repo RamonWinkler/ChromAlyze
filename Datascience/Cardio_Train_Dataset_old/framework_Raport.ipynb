{
 "cells": [
  {
   "cell_type": "markdown",
   "metadata": {},
   "source": [
    "# By ChatGPT"
   ]
  },
  {
   "cell_type": "code",
   "execution_count": 1,
   "metadata": {},
   "outputs": [],
   "source": [
    "import pandas as pd\n",
    "import numpy as np\n"
   ]
  },
  {
   "cell_type": "code",
   "execution_count": null,
   "metadata": {},
   "outputs": [
    {
     "name": "stdout",
     "output_type": "stream",
     "text": [
      "---------------------------------------------------------\n",
      "|           Clinical Decision Support System            |\n",
      "---------------------------------------------------------\n",
      "|[Dashboard] [Patient Search]  [Reports] [Resources] |\n",
      "---------------------------------------------------------\n",
      "| Patient Profile: John Doe                            |\n",
      "| Age: 65   | Sex: M   | Ethnicity: Caucasian          |\n",
      "---------------------------------------------------------\n",
      "| [Upload Genetic Data] [Status: Processed]            |\n",
      "---------------------------------------------------------\n",
      "| Polygenic Risk Scores:                               |\n",
      "|---------------------------------------------------|\n",
      "| Disease                | PRS Score | Risk Level    |\n",
      "|----------------------|---------|-------------|\n",
      "| Coronary Artery Disease | 2.5       | High          |\n",
      "| Alzheimer's Disease    | 1.8       | Moderate      |\n",
      "| Type 2 Diabetes        | 0.9       | Low           |\n",
      "|---------------------------------------------------|\n",
      "| Recommendations:                                     |\n",
      "| - Lipid panel screening (CAD)                        |\n",
      "| - Cognitive assessment (AD)                          |\n",
      "| - Dietary consultation (CAD)                         |\n",
      "---------------------------------------------------------\n",
      "|   [Generate Report]        [View History]     |\n",
      "---------------------------------------------------------\n",
      "| Educational Resources: [FAQs] [Articles]             |\n",
      "---------------------------------------------------------\n"
     ]
    }
   ],
   "source": [
    "# By ChatGPT\n",
    "def print_clinical_decision_support_system():\n",
    "    print(\"-\" * 57)\n",
    "    print(\"|{:^55}|\".format(\"Clinical Decision Support System\"))\n",
    "    print(\"-\" * 57)\n",
    "    print(\"|{:^9}{:^18}{:^11}{:^12}|\".format(\"[Dashboard]\", \"[Patient Search]\", \"[Reports]\", \"[Resources]\"))\n",
    "    print(\"-\" * 57)\n",
    "    print(\"| Patient Profile: John Doe                            |\")\n",
    "    print(\"| Age: 65   | Sex: M   | Ethnicity: Caucasian          |\")\n",
    "    print(\"-\" * 57)\n",
    "    print(\"| [Upload Genetic Data] [Status: Processed]            |\")\n",
    "    print(\"-\" * 57)\n",
    "    print(\"| Polygenic Risk Scores:                               |\")\n",
    "    print(\"|\" + \"-\" * 51 + \"|\")\n",
    "    print(\"| {:<22} | {:<9} | {:<13} |\".format(\"Disease\", \"PRS Score\", \"Risk Level\"))\n",
    "    print(\"|\" + \"-\" * 22 + \"|\" + \"-\" * 9 + \"|\" + \"-\" * 13 + \"|\")\n",
    "    print(\"| {:<22} | {:<9} | {:<13} |\".format(\"Coronary Artery Disease\", \"2.5\", \"High\"))\n",
    "    print(\"| {:<22} | {:<9} | {:<13} |\".format(\"Alzheimer's Disease\", \"1.8\", \"Moderate\"))\n",
    "    print(\"| {:<22} | {:<9} | {:<13} |\".format(\"Type 2 Diabetes\", \"0.9\", \"Low\"))\n",
    "    print(\"|\" + \"-\" * 51 + \"|\")\n",
    "    print(\"| Recommendations:                                     |\")\n",
    "    print(\"| - Lipid panel screening (CAD)                        |\")\n",
    "    print(\"| - Cognitive assessment (AD)                          |\")\n",
    "    print(\"| - Dietary consultation (CAD)                         |\")\n",
    "    print(\"-\" * 57)\n",
    "    print(\"|{:^24}{:^23}|\".format(\"[Generate Report]\", \"[View History]\"))\n",
    "    print(\"-\" * 57)\n",
    "    print(\"| Educational Resources: [FAQs] [Articles]             |\")\n",
    "    print(\"-\" * 57)\n",
    "\n",
    "# Run the function to print the output\n",
    "print_clinical_decision_support_system()"
   ]
  },
  {
   "cell_type": "code",
   "execution_count": null,
   "metadata": {},
   "outputs": [
    {
     "name": "stdout",
     "output_type": "stream",
     "text": [
      "Monitor lifestyle - Lifestyle changes (diet, exercise) - Follow-up in 6 months\n"
     ]
    }
   ],
   "source": [
    "# By ChatGPT\n",
    "def assess_risk(age, smoker, family_history):\n",
    "    if age > 50:\n",
    "        if smoker:\n",
    "            if family_history:\n",
    "                return \"Risk Factor High - Recommend screening\"\n",
    "            else:\n",
    "                return \"Monitor lifestyle - Follow-up in 6 months\"\n",
    "        else:\n",
    "            return \"Monitor lifestyle - Lifestyle changes (diet, exercise) - Follow-up in 6 months\"\n",
    "    else:\n",
    "        return \"Monitor lifestyle - Lifestyle changes (diet, exercise) - Follow-up in 6 months\"\n",
    "\n",
    "# Example usage\n",
    "age = int(input(\"Enter the patient's age: \"))\n",
    "smoker = input(\"Does the patient smoke? (yes/no): \").strip().lower() == 'yes'\n",
    "family_history = input(\"Does the patient have a family history of heart disease? (yes/no): \").strip().lower() == 'yes'\n",
    "\n",
    "result = assess_risk(age, smoker, family_history)\n",
    "print(result)"
   ]
  }
 ],
 "metadata": {
  "kernelspec": {
   "display_name": "Data Science",
   "language": "python",
   "name": "python3"
  },
  "language_info": {
   "codemirror_mode": {
    "name": "ipython",
    "version": 3
   },
   "file_extension": ".py",
   "mimetype": "text/x-python",
   "name": "python",
   "nbconvert_exporter": "python",
   "pygments_lexer": "ipython3",
   "version": "3.12.4"
  }
 },
 "nbformat": 4,
 "nbformat_minor": 2
}
